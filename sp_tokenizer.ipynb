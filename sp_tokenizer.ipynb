{
 "cells": [
  {
   "cell_type": "markdown",
   "id": "d591542d",
   "metadata": {},
   "source": [
    "# 1. 개념"
   ]
  },
  {
   "cell_type": "code",
   "execution_count": 1,
   "id": "6568f05e",
   "metadata": {},
   "outputs": [
    {
     "name": "stdout",
     "output_type": "stream",
     "text": [
      "['자연어', '처리', '가', '너무', '재밌', '어서', '밥', '먹', '는', '것', '도', '가끔', '까먹', '어요']\n"
     ]
    }
   ],
   "source": [
    "# 대표적인 한국어 형태소 분석기인 KoNLPy 중 가장 성능이 준수한 MeCab클래스를 활용해 실습하자.\n",
    "\n",
    "from konlpy.tag import Mecab\n",
    "import warnings\n",
    "warnings.filterwarnings('ignore')\n",
    "\n",
    "mecab = Mecab()\n",
    "print(mecab.morphs('자연어처리가너무재밌어서밥먹는것도가끔까먹어요'))"
   ]
  },
  {
   "cell_type": "markdown",
   "id": "48793d8f",
   "metadata": {},
   "source": [
    "## (1) 데이터 다운로드 및 분석 "
   ]
  },
  {
   "cell_type": "code",
   "execution_count": 26,
   "id": "82df0f69",
   "metadata": {},
   "outputs": [],
   "source": [
    "import os\n",
    "\n",
    "import matplotlib.pyplot as plt\n",
    "import tensorflow as tf\n",
    "import numpy as np\n",
    "\n",
    "%matplotlib inline"
   ]
  },
  {
   "cell_type": "code",
   "execution_count": 3,
   "id": "cf8fff9b",
   "metadata": {},
   "outputs": [
    {
     "name": "stdout",
     "output_type": "stream",
     "text": [
      "Data Size: 94123\n",
      "Example:\n",
      ">> 개인용 컴퓨터 사용의 상당 부분은 \"이것보다 뛰어날 수 있느냐?\"\n",
      ">> 북한의 핵무기 계획을 포기하도록 하려는 압력이 거세지고 있는 가운데, 일본과 북한의 외교관들이 외교 관계를 정상화하려는 회담을 재개했다.\n",
      ">> \"경호 로보트가 침입자나 화재를 탐지하기 위해서 개인적으로, 그리고 전문적으로 사용되고 있습니다.\"\n",
      ">> 수자원부 당국은 논란이 되고 있고, 막대한 비용이 드는 이 사업에 대해 내년에 건설을 시작할 계획이다.\n",
      ">> 또한 근력 운동은 활발하게 걷는 것이나 최소한 20분 동안 뛰는 것과 같은 유산소 활동에서 얻는 운동 효과를 심장과 폐에 주지 않기 때문에, 연구학자들은 근력 운동이 심장에 큰 영향을 미치는지 여부에 대해 논쟁을 해왔다.\n"
     ]
    }
   ],
   "source": [
    "import os\n",
    "path_to_file = os.getenv('HOME')+'/aiffel/sp_tokenizer/data/korean-english-park.train.ko'\n",
    "\n",
    "with open(path_to_file, \"r\") as f:\n",
    "    raw = f.read().splitlines()\n",
    "\n",
    "print(\"Data Size:\", len(raw))\n",
    "\n",
    "print(\"Example:\")\n",
    "for sen in raw[0:100][::20]: print(\">>\", sen)"
   ]
  },
  {
   "cell_type": "code",
   "execution_count": 4,
   "id": "0990b354",
   "metadata": {},
   "outputs": [
    {
     "name": "stdout",
     "output_type": "stream",
     "text": [
      "문장의 최단 길이: 1\n",
      "문장의 최장 길이: 377\n",
      "문장의 평균 길이: 60\n"
     ]
    },
    {
     "data": {
      "image/png": "[encoded data removed]",
      "text/plain": [
       "<Figure size 432x288 with 1 Axes>"
      ]
     },
     "metadata": {
      "needs_background": "light"
     },
     "output_type": "display_data"
    }
   ],
   "source": [
    "min_len = 999\n",
    "max_len = 0\n",
    "sum_len = 0\n",
    "\n",
    "for sen in raw:\n",
    "    length = len(sen)\n",
    "    if min_len > length: min_len = length\n",
    "    if max_len < length: max_len = length\n",
    "    sum_len += length\n",
    "\n",
    "print(\"문장의 최단 길이:\", min_len)\n",
    "print(\"문장의 최장 길이:\", max_len)\n",
    "print(\"문장의 평균 길이:\", sum_len // len(raw))\n",
    "\n",
    "sentence_length = np.zeros((max_len), dtype=np.int)\n",
    "\n",
    "for sen in raw:\n",
    "    sentence_length[len(sen)-1] += 1\n",
    "\n",
    "plt.bar(range(max_len), sentence_length, width=1.0)\n",
    "plt.title(\"Sentence Length Distribution\")\n",
    "plt.show()"
   ]
  },
  {
   "cell_type": "code",
   "execution_count": 5,
   "id": "7e060168",
   "metadata": {},
   "outputs": [
    {
     "name": "stdout",
     "output_type": "stream",
     "text": [
      "’\n"
     ]
    }
   ],
   "source": [
    "def check_sentence_with_length(raw, length):\n",
    "    count = 0\n",
    "    \n",
    "    for sen in raw:\n",
    "        if len(sen) == length:\n",
    "            print(sen)\n",
    "            count += 1\n",
    "            if count > 100: return\n",
    "\n",
    "check_sentence_with_length(raw, 1)"
   ]
  },
  {
   "cell_type": "code",
   "execution_count": 6,
   "id": "2282dbec",
   "metadata": {},
   "outputs": [
    {
     "name": "stdout",
     "output_type": "stream",
     "text": [
      "Outlier Index: 11\n",
      "Outlier Index: 19\n",
      "Outlier Index: 21\n"
     ]
    }
   ],
   "source": [
    "for idx, _sum in enumerate(sentence_length):\n",
    "    # 문장의 수가 1500을 초과하는 문장 길이를 추출합니다.\n",
    "    if _sum > 1500:\n",
    "        print(\"Outlier Index:\", idx+1)"
   ]
  },
  {
   "cell_type": "code",
   "execution_count": 7,
   "id": "1b4c4fd2",
   "metadata": {},
   "outputs": [
    {
     "name": "stdout",
     "output_type": "stream",
     "text": [
      "라고 조던이 말했다.\n",
      "- 모르고 있습니다.\n",
      "- 네, 보이는군요.\n",
      "디즈니사만이 아니다.\n",
      "큰 파티는 아니지요.\n",
      "의자는 비어 있었다.\n",
      "이 일은 계속됩니다.\n",
      "나는 크게 실망했다.\n",
      "그 이유는 간단하다.\n",
      "이력서와 자기 소개서\n",
      "시대가 변하고 있다.\n",
      "는 돌발질문을 했다.\n",
      "9. 몇 분간의 명상\n",
      "하와이, 빅 아일랜드\n",
      "키스를 잘 하는 방법\n",
      "키스를 잘 하는 방법\n",
      "스피어스가 뚱뚱한가?\n",
      "산 위를 나는 느낌.\n",
      "세 시간쯤 걸었을까?\n",
      "(아직 읽고있습니까?\n",
      "처음에는 장난이었다.\n",
      "우리는 운이 좋았다.\n",
      "아기가 숨을 멈출 때\n",
      "건물 전체 무너져내려\n",
      "그녀의 아름다운 눈.\n",
      "대답은 다음과 같다.\n",
      "\"사과할 것이 없다.\n",
      "폭탄테러가 공포 유발\n",
      "그는 \"잘 모르겠다.\n",
      "그는 \"잘 모르겠다.\n",
      "그는 \"잘 모르겠다.\n",
      "그는 \"잘 모르겠다.\n",
      "그는 \"잘 모르겠다.\n",
      "그는 \"잘 모르겠다.\n",
      "그는 \"잘 모르겠다.\n",
      "그는 \"잘 모르겠다.\n",
      "그는 \"잘 모르겠다.\n",
      "케냐 야생동물 고아원\n",
      "경유 1200원대로…\n",
      "더 내려야 하는 이유\n",
      "케냐 야생동물 고아원\n",
      "경유 1200원대로…\n",
      "더 내려야 하는 이유\n",
      "케냐 야생동물 고아원\n",
      "경유 1200원대로…\n",
      "더 내려야 하는 이유\n",
      "케냐 야생동물 고아원\n",
      "경유 1200원대로…\n",
      "더 내려야 하는 이유\n",
      "케냐 야생동물 고아원\n",
      "경유 1200원대로…\n",
      "더 내려야 하는 이유\n",
      "케냐 야생동물 고아원\n",
      "경유 1200원대로…\n",
      "더 내려야 하는 이유\n",
      "케냐 야생동물 고아원\n",
      "경유 1200원대로…\n",
      "더 내려야 하는 이유\n",
      "케냐 야생동물 고아원\n",
      "경유 1200원대로…\n",
      "더 내려야 하는 이유\n",
      "케냐 야생동물 고아원\n",
      "경유 1200원대로…\n",
      "더 내려야 하는 이유\n",
      "케냐 야생동물 고아원\n",
      "경유 1200원대로…\n",
      "더 내려야 하는 이유\n",
      "케냐 야생동물 고아원\n",
      "경유 1200원대로…\n",
      "더 내려야 하는 이유\n",
      "케냐 야생동물 고아원\n",
      "경유 1200원대로…\n",
      "더 내려야 하는 이유\n",
      "케냐 야생동물 고아원\n",
      "경유 1200원대로…\n",
      "더 내려야 하는 이유\n",
      "케냐 야생동물 고아원\n",
      "경유 1200원대로…\n",
      "더 내려야 하는 이유\n",
      "케냐 야생동물 고아원\n",
      "경유 1200원대로…\n",
      "더 내려야 하는 이유\n",
      "케냐 야생동물 고아원\n",
      "경유 1200원대로…\n",
      "더 내려야 하는 이유\n",
      "케냐 야생동물 고아원\n",
      "경유 1200원대로…\n",
      "더 내려야 하는 이유\n",
      "케냐 야생동물 고아원\n",
      "경유 1200원대로…\n",
      "더 내려야 하는 이유\n",
      "케냐 야생동물 고아원\n",
      "경유 1200원대로…\n",
      "더 내려야 하는 이유\n",
      "케냐 야생동물 고아원\n",
      "경유 1200원대로…\n",
      "더 내려야 하는 이유\n",
      "조금은 새침한 샬롯？\n",
      "조금은 새침한 샬롯？\n",
      "케냐 야생동물 고아원\n",
      "경유 1200원대로…\n"
     ]
    }
   ],
   "source": [
    "check_sentence_with_length(raw, 11)"
   ]
  },
  {
   "cell_type": "code",
   "execution_count": 8,
   "id": "6fadc67f",
   "metadata": {},
   "outputs": [
    {
     "name": "stdout",
     "output_type": "stream",
     "text": [
      "Data Size: 77591\n",
      "문장의 최단 길이: 1\n",
      "문장의 최장 길이: 377\n",
      "문장의 평균 길이: 64\n"
     ]
    },
    {
     "data": {
      "image/png": "[encoded data removed]",
      "text/plain": [
       "<Figure size 432x288 with 1 Axes>"
      ]
     },
     "metadata": {
      "needs_background": "light"
     },
     "output_type": "display_data"
    }
   ],
   "source": [
    "min_len = 999\n",
    "max_len = 0\n",
    "sum_len = 0\n",
    "\n",
    "cleaned_corpus = list(set(raw))  # set를 사용해서 중복을 제거합니다.\n",
    "print(\"Data Size:\", len(cleaned_corpus))\n",
    "\n",
    "for sen in cleaned_corpus:\n",
    "    length = len(sen)\n",
    "    if min_len > length: min_len = length\n",
    "    if max_len < length: max_len = length\n",
    "    sum_len += length\n",
    "\n",
    "print(\"문장의 최단 길이:\", min_len)\n",
    "print(\"문장의 최장 길이:\", max_len)\n",
    "print(\"문장의 평균 길이:\", sum_len // len(cleaned_corpus))\n",
    "\n",
    "sentence_length = np.zeros((max_len), dtype=np.int)\n",
    "\n",
    "for sen in cleaned_corpus:   # 중복이 제거된 코퍼스 기준\n",
    "    sentence_length[len(sen)-1] += 1\n",
    "\n",
    "plt.bar(range(max_len), sentence_length, width=1.0)\n",
    "plt.title(\"Sentence Length Distribution\")\n",
    "plt.show()"
   ]
  },
  {
   "cell_type": "code",
   "execution_count": 9,
   "id": "0e793fb0",
   "metadata": {},
   "outputs": [
    {
     "data": {
      "image/png": "[encoded data removed]",
      "text/plain": [
       "<Figure size 432x288 with 1 Axes>"
      ]
     },
     "metadata": {
      "needs_background": "light"
     },
     "output_type": "display_data"
    }
   ],
   "source": [
    "max_len = 150\n",
    "min_len = 10\n",
    "\n",
    "# 길이 조건에 맞는 문장만 선택합니다.\n",
    "filtered_corpus = [s for s in cleaned_corpus if (len(s) < max_len) & (len(s) >= min_len)]\n",
    "\n",
    "# 분포도를 다시 그려봅니다.\n",
    "sentence_length = np.zeros((max_len), dtype=np.int)\n",
    "\n",
    "for sen in filtered_corpus:\n",
    "    sentence_length[len(sen)-1] += 1\n",
    "\n",
    "plt.bar(range(max_len), sentence_length, width=1.0)\n",
    "plt.title(\"Sentence Length Distribution\")\n",
    "plt.show()"
   ]
  },
  {
   "cell_type": "markdown",
   "id": "fcbfcc7f",
   "metadata": {},
   "source": [
    "## (2) 형태소 기반 토큰화"
   ]
  },
  {
   "cell_type": "markdown",
   "id": "6037262a",
   "metadata": {},
   "source": [
    "### MeCab 기반으로 단어 사전과 Tensor 데이터를 얻어보자"
   ]
  },
  {
   "cell_type": "code",
   "execution_count": 10,
   "id": "c65e06f1",
   "metadata": {},
   "outputs": [],
   "source": [
    "def mecab_split(sentence):\n",
    "    return mecab.morphs(sentence) # 단어를 쪼개어\n",
    "\n",
    "mecab_corpus = [] # 리스트로 저장한다\n",
    "\n",
    "for kor in filtered_corpus:\n",
    "    mecab_corpus.append(mecab_split(kor)) # 차곡차곡"
   ]
  },
  {
   "cell_type": "code",
   "execution_count": 15,
   "id": "5f6d5373",
   "metadata": {},
   "outputs": [
    {
     "ename": "NameError",
     "evalue": "name 'tokenize' is not defined",
     "output_type": "error",
     "traceback": [
      "\u001b[0;31m---------------------------------------------------------------------------\u001b[0m",
      "\u001b[0;31mNameError\u001b[0m                                 Traceback (most recent call last)",
      "\u001b[0;32m/tmp/ipykernel_997/470219786.py\u001b[0m in \u001b[0;36m<module>\u001b[0;34m\u001b[0m\n\u001b[1;32m      1\u001b[0m \u001b[0;31m# tokenize()함수를 사용해 토큰화 진행\u001b[0m\u001b[0;34m\u001b[0m\u001b[0;34m\u001b[0m\u001b[0m\n\u001b[0;32m----> 2\u001b[0;31m \u001b[0mmecab_tensor\u001b[0m\u001b[0;34m,\u001b[0m \u001b[0mmecab_tokenizer\u001b[0m \u001b[0;34m=\u001b[0m \u001b[0mtokenize\u001b[0m\u001b[0;34m(\u001b[0m\u001b[0mmecab_corpus\u001b[0m\u001b[0;34m)\u001b[0m \u001b[0;31m# 단어사전, Tensor 데이터가 뙇\u001b[0m\u001b[0;34m\u001b[0m\u001b[0;34m\u001b[0m\u001b[0m\n\u001b[0m\u001b[1;32m      3\u001b[0m \u001b[0;34m\u001b[0m\u001b[0m\n\u001b[1;32m      4\u001b[0m \u001b[0mprint\u001b[0m\u001b[0;34m(\u001b[0m\u001b[0;34m\"MeCab Vocab Size:\"\u001b[0m\u001b[0;34m,\u001b[0m \u001b[0mlen\u001b[0m\u001b[0;34m(\u001b[0m\u001b[0mmecab_tokenizer\u001b[0m\u001b[0;34m.\u001b[0m\u001b[0mindex_word\u001b[0m\u001b[0;34m)\u001b[0m\u001b[0;34m)\u001b[0m \u001b[0;31m# 단어 사전의 길이 확인\u001b[0m\u001b[0;34m\u001b[0m\u001b[0;34m\u001b[0m\u001b[0m\n",
      "\u001b[0;31mNameError\u001b[0m: name 'tokenize' is not defined"
     ]
    }
   ],
   "source": [
    "# tokenize()함수를 사용해 토큰화 진행\n",
    "mecab_tensor, mecab_tokenizer = tokenize(mecab_corpus) # 단어사전, Tensor 데이터가 뙇\n",
    "\n",
    "print(\"MeCab Vocab Size:\", len(mecab_tokenizer.index_word)) # 단어 사전의 길이 확인"
   ]
  },
  {
   "cell_type": "markdown",
   "id": "55c11028",
   "metadata": {},
   "source": [
    "### 후에 모델이 생성한 Tensor를 문장으로 Decoding하는 과정"
   ]
  },
  {
   "cell_type": "code",
   "execution_count": null,
   "id": "b7f3af4c",
   "metadata": {},
   "outputs": [],
   "source": [
    "# 방법 1 : tokenizer.sequences_to_texts() 함수를 사용하여 Decoding\n",
    "\n",
    "texts = mecab_tokenizer.sequences_to_texts([mecab_tensor[100]]) # mecab_tensor[100]을 원문으로 되돌리기\n",
    "print(texts[0])"
   ]
  },
  {
   "cell_type": "code",
   "execution_count": null,
   "id": "0f825c92",
   "metadata": {},
   "outputs": [],
   "source": [
    "'''\n",
    "\n",
    "# 방법 2 : tokenizer.index_word를 사용하여 Decoding\n",
    "\n",
    "sentence = \"\"\n",
    "\n",
    "for w in mecab_tensor[100]:\n",
    "    if w == 0: continue\n",
    "    sentence += mecab_tokenizer.index_word[w] + \" \"\n",
    "\n",
    "print(sentence)\n",
    "\n",
    "'''"
   ]
  },
  {
   "cell_type": "markdown",
   "id": "f3853eeb",
   "metadata": {},
   "source": [
    "# 2. 프로젝트 : SentencePiece 사용하기"
   ]
  },
  {
   "cell_type": "code",
   "execution_count": 12,
   "id": "49fe4cd1",
   "metadata": {},
   "outputs": [
    {
     "name": "stdout",
     "output_type": "stream",
     "text": [
      "2.6.0\n",
      "1.22.2\n",
      "3.4.3\n",
      "0.5.2\n"
     ]
    }
   ],
   "source": [
    "# 사용할 라이브러리 버전 확인\n",
    "\n",
    "import tensorflow as tf\n",
    "import numpy as np\n",
    "import matplotlib as plt\n",
    "import konlpy\n",
    "\n",
    "print(tf.__version__)\n",
    "print(np.__version__)\n",
    "print(plt.__version__)\n",
    "print(konlpy.__version__)"
   ]
  },
  {
   "cell_type": "markdown",
   "id": "9647ddb7",
   "metadata": {},
   "source": [
    "## (1) SentencePiece 설치하기\n",
    "$ pip install sentencepiece"
   ]
  },
  {
   "cell_type": "markdown",
   "id": "ccc1b9df",
   "metadata": {},
   "source": [
    "## (2) SentencePiece 모델 학습"
   ]
  },
  {
   "cell_type": "code",
   "execution_count": 13,
   "id": "5988dce6",
   "metadata": {},
   "outputs": [
    {
     "data": {
      "text/plain": [
       "\"\\n\\n# tokenize() 함수\\ndef tokenize(corpus):  # corpus: Tokenized Sentence's List\\n    tokenizer = tf.keras.preprocessing.text.Tokenizer(filters='')\\n    tokenizer.fit_on_texts(corpus)\\n\\n    tensor = tokenizer.texts_to_sequences(corpus)\\n\\n    tensor = tf.keras.preprocessing.sequence.pad_sequences(tensor, padding='post')\\n\\n    return tensor, tokenizer\\n\\n\""
      ]
     },
     "execution_count": 13,
     "metadata": {},
     "output_type": "execute_result"
    }
   ],
   "source": [
    "'''\n",
    "\n",
    "# tokenize() 함수\n",
    "def tokenize(corpus):  # corpus: Tokenized Sentence's List\n",
    "    tokenizer = tf.keras.preprocessing.text.Tokenizer(filters='')\n",
    "    tokenizer.fit_on_texts(corpus)\n",
    "\n",
    "    tensor = tokenizer.texts_to_sequences(corpus)\n",
    "\n",
    "    tensor = tf.keras.preprocessing.sequence.pad_sequences(tensor, padding='post')\n",
    "\n",
    "    return tensor, tokenizer\n",
    "\n",
    "'''"
   ]
  },
  {
   "cell_type": "code",
   "execution_count": 14,
   "id": "6937027e",
   "metadata": {},
   "outputs": [
    {
     "name": "stderr",
     "output_type": "stream",
     "text": [
      "sentencepiece_trainer.cc(177) LOG(INFO) Running command: --input=/aiffel/aiffel/sp_tokenizer/data/korean-english-park.train.ko.temp --model_prefix=korean_spm --vocab_size=8000\n",
      "sentencepiece_trainer.cc(77) LOG(INFO) Starts training with : \n",
      "trainer_spec {\n",
      "  input: /aiffel/aiffel/sp_tokenizer/data/korean-english-park.train.ko.temp\n",
      "  input_format: \n",
      "  model_prefix: korean_spm\n",
      "  model_type: UNIGRAM\n",
      "  vocab_size: 8000\n",
      "  self_test_sample_size: 0\n",
      "  character_coverage: 0.9995\n",
      "  input_sentence_size: 0\n",
      "  shuffle_input_sentence: 1\n",
      "  seed_sentencepiece_size: 1000000\n",
      "  shrinking_factor: 0.75\n",
      "  max_sentence_length: 4192\n",
      "  num_threads: 16\n",
      "  num_sub_iterations: 2\n",
      "  max_sentencepiece_length: 16\n",
      "  split_by_unicode_script: 1\n",
      "  split_by_number: 1\n",
      "  split_by_whitespace: 1\n",
      "  split_digits: 0\n",
      "  treat_whitespace_as_suffix: 0\n",
      "  allow_whitespace_only_pieces: 0\n",
      "  required_chars: \n",
      "  byte_fallback: 0\n",
      "  vocabulary_output_piece_score: 1\n",
      "  train_extremely_large_corpus: 0\n",
      "  hard_vocab_limit: 1\n",
      "  use_all_vocab: 0\n",
      "  unk_id: 0\n",
      "  bos_id: 1\n",
      "  eos_id: 2\n",
      "  pad_id: -1\n",
      "  unk_piece: <unk>\n",
      "  bos_piece: <s>\n",
      "  eos_piece: </s>\n",
      "  pad_piece: <pad>\n",
      "  unk_surface:  ⁇ \n",
      "}\n",
      "normalizer_spec {\n",
      "  name: nmt_nfkc\n",
      "  add_dummy_prefix: 1\n",
      "  remove_extra_whitespaces: 1\n",
      "  escape_whitespaces: 1\n",
      "  normalization_rule_tsv: \n",
      "}\n",
      "denormalizer_spec {}\n",
      "trainer_interface.cc(329) LOG(INFO) SentenceIterator is not specified. Using MultiFileSentenceIterator.\n",
      "trainer_interface.cc(178) LOG(INFO) Loading corpus: /aiffel/aiffel/sp_tokenizer/data/korean-english-park.train.ko.temp\n",
      "trainer_interface.cc(385) LOG(INFO) Loaded all 76908 sentences\n",
      "trainer_interface.cc(400) LOG(INFO) Adding meta_piece: <unk>\n",
      "trainer_interface.cc(400) LOG(INFO) Adding meta_piece: <s>\n",
      "trainer_interface.cc(400) LOG(INFO) Adding meta_piece: </s>\n",
      "trainer_interface.cc(405) LOG(INFO) Normalizing sentences...\n",
      "trainer_interface.cc(466) LOG(INFO) all chars count=4996369\n",
      "trainer_interface.cc(477) LOG(INFO) Done: 99.95% characters are covered.\n",
      "trainer_interface.cc(487) LOG(INFO) Alphabet size=1317\n",
      "trainer_interface.cc(488) LOG(INFO) Final character coverage=0.9995\n",
      "trainer_interface.cc(520) LOG(INFO) Done! preprocessed 76908 sentences.\n",
      "unigram_model_trainer.cc(139) LOG(INFO) Making suffix array...\n",
      "unigram_model_trainer.cc(143) LOG(INFO) Extracting frequent sub strings...\n",
      "unigram_model_trainer.cc(194) LOG(INFO) Initialized 174340 seed sentencepieces\n",
      "trainer_interface.cc(526) LOG(INFO) Tokenizing input sentences with whitespace: 76908\n",
      "trainer_interface.cc(537) LOG(INFO) Done! 237965\n",
      "unigram_model_trainer.cc(489) LOG(INFO) Using 237965 sentences for EM training\n",
      "unigram_model_trainer.cc(505) LOG(INFO) EM sub_iter=0 size=92555 obj=14.853 num_tokens=523272 num_tokens/piece=5.65363\n",
      "unigram_model_trainer.cc(505) LOG(INFO) EM sub_iter=1 size=82083 obj=13.516 num_tokens=525776 num_tokens/piece=6.40542\n",
      "unigram_model_trainer.cc(505) LOG(INFO) EM sub_iter=0 size=61555 obj=13.5533 num_tokens=546907 num_tokens/piece=8.88485\n",
      "unigram_model_trainer.cc(505) LOG(INFO) EM sub_iter=1 size=61506 obj=13.5101 num_tokens=547350 num_tokens/piece=8.89913\n",
      "unigram_model_trainer.cc(505) LOG(INFO) EM sub_iter=0 size=46126 obj=13.6926 num_tokens=575369 num_tokens/piece=12.4739\n",
      "unigram_model_trainer.cc(505) LOG(INFO) EM sub_iter=1 size=46126 obj=13.6493 num_tokens=575466 num_tokens/piece=12.476\n",
      "unigram_model_trainer.cc(505) LOG(INFO) EM sub_iter=0 size=34594 obj=13.8894 num_tokens=606014 num_tokens/piece=17.5179\n",
      "unigram_model_trainer.cc(505) LOG(INFO) EM sub_iter=1 size=34594 obj=13.8387 num_tokens=606012 num_tokens/piece=17.5178\n",
      "unigram_model_trainer.cc(505) LOG(INFO) EM sub_iter=0 size=25945 obj=14.1301 num_tokens=637532 num_tokens/piece=24.5724\n",
      "unigram_model_trainer.cc(505) LOG(INFO) EM sub_iter=1 size=25945 obj=14.0747 num_tokens=637568 num_tokens/piece=24.5738\n",
      "unigram_model_trainer.cc(505) LOG(INFO) EM sub_iter=0 size=19458 obj=14.4091 num_tokens=670960 num_tokens/piece=34.4825\n",
      "unigram_model_trainer.cc(505) LOG(INFO) EM sub_iter=1 size=19458 obj=14.3468 num_tokens=670999 num_tokens/piece=34.4845\n",
      "unigram_model_trainer.cc(505) LOG(INFO) EM sub_iter=0 size=14593 obj=14.7196 num_tokens=705636 num_tokens/piece=48.3544\n",
      "unigram_model_trainer.cc(505) LOG(INFO) EM sub_iter=1 size=14593 obj=14.648 num_tokens=705645 num_tokens/piece=48.355\n",
      "unigram_model_trainer.cc(505) LOG(INFO) EM sub_iter=0 size=10944 obj=15.0875 num_tokens=741620 num_tokens/piece=67.765\n",
      "unigram_model_trainer.cc(505) LOG(INFO) EM sub_iter=1 size=10944 obj=15.007 num_tokens=741624 num_tokens/piece=67.7654\n",
      "unigram_model_trainer.cc(505) LOG(INFO) EM sub_iter=0 size=8800 obj=15.3757 num_tokens=769363 num_tokens/piece=87.4276\n",
      "unigram_model_trainer.cc(505) LOG(INFO) EM sub_iter=1 size=8800 obj=15.307 num_tokens=769367 num_tokens/piece=87.4281\n",
      "trainer_interface.cc(615) LOG(INFO) Saving model: korean_spm.model\n",
      "trainer_interface.cc(626) LOG(INFO) Saving vocabs: korean_spm.vocab\n"
     ]
    },
    {
     "name": "stdout",
     "output_type": "stream",
     "text": [
      "-rw-r--r-- 1 root root 376816 Mar 25 03:39 korean_spm.model\r\n",
      "-rw-r--r-- 1 root root 146213 Mar 25 03:39 korean_spm.vocab\r\n"
     ]
    }
   ],
   "source": [
    "import sentencepiece as spm\n",
    "import os\n",
    "temp_file = os.getenv('HOME')+'/aiffel/sp_tokenizer/data/korean-english-park.train.ko.temp'\n",
    "\n",
    "vocab_size = 8000\n",
    "\n",
    "with open(temp_file, 'w') as f:\n",
    "    for row in filtered_corpus:   # 이전 스텝에서 정제했던 corpus를 활용합니다.\n",
    "        f.write(str(row) + '\\n')\n",
    "\n",
    "spm.SentencePieceTrainer.Train(\n",
    "    '--input={} --model_prefix=korean_spm --vocab_size={}'.format(temp_file, vocab_size)    \n",
    ")\n",
    "#위 Train에서  --model_type = 'unigram'이 디폴트 적용되어 있습니다. --model_type = 'bpe' 로 옵션을 주어 변경할 수 있습니다.\n",
    "\n",
    "!ls -l korean_spm*"
   ]
  },
  {
   "cell_type": "code",
   "execution_count": 19,
   "id": "611a3ad6",
   "metadata": {},
   "outputs": [
    {
     "name": "stdout",
     "output_type": "stream",
     "text": [
      "[1243, 11, 302, 7, 3608, 11, 287, 38, 3]\n",
      "['▁아버지', '가', '방', '에', '들어', '가', '신', '다', '.']\n",
      "아버지가방에들어가신다.\n"
     ]
    }
   ],
   "source": [
    "# 학습된 SentencePiece모델을 어떻게 활용하는지 살펴보자.\n",
    "\n",
    "s = spm.SentencePieceProcessor()\n",
    "s.Load('korean_spm.model')\n",
    "\n",
    "# SentencePiece를 활용한 sentence -> encoding\n",
    "tokensIDs = s.EncodeAsIds('아버지가방에들어가신다.')\n",
    "print(tokensIDs)\n",
    "\n",
    "# SentencePiece를 활용한 sentence -> encoded pieces\n",
    "print(s.SampleEncodeAsPieces('아버지가방에들어가신다.',1, 0.0))\n",
    "\n",
    "# SentencePiece를 활용한 encoding -> sentence 복원\n",
    "print(s.DecodeIds(tokensIDs))"
   ]
  },
  {
   "cell_type": "markdown",
   "id": "1bef7f6b",
   "metadata": {},
   "source": [
    "## (3) Tokenizer 함수 작성"
   ]
  },
  {
   "cell_type": "markdown",
   "id": "64f94fac",
   "metadata": {},
   "source": [
    "tokenize()함수를 정의할 때, SentencePiece의 경우 동작하는 방식이 단순 토큰화와는 다르다. 따라서 완전히 동일하게 정의하기는 어렵다. 그 대신, 아래의 조건을 만족하는 함수를 정의하도록 한다."
   ]
  },
  {
   "cell_type": "markdown",
   "id": "64b11251",
   "metadata": {},
   "source": [
    "① 매개변수로 토큰화된 문장의 list를 전달하는 대신 **온전한 문장**의 list를 전달\n",
    "② **생성된 vocab 파일**을 읽어와 {<word>:<idx>} 형태를 가지는 workd_index 사전과 {<idx>:<word>} 형태를 가지는 index_word 사전을 생성하고 함께 **반환** \n",
    "③ 리턴값인 tensor는 앞의 함수와 동일하게 토큰화된 후 Encoding된 문장이다. + 바로 학습에 사용할 수 있게 Padding (길이를 맞춰주기 위해)"
   ]
  },
  {
   "cell_type": "code",
   "execution_count": 20,
   "id": "3ebfd362",
   "metadata": {},
   "outputs": [],
   "source": [
    "def sp_tokenize(s, corpus):\n",
    "\n",
    "    tensor = []\n",
    "\n",
    "    for sen in corpus:\n",
    "        tensor.append(s.EncodeAsIds(sen))\n",
    "\n",
    "    with open(\"./korean_spm.vocab\", 'r') as f:\n",
    "        vocab = f.readlines()\n",
    "\n",
    "    word_index = {}\n",
    "    index_word = {}\n",
    "\n",
    "    for idx, line in enumerate(vocab):\n",
    "        word = line.split(\"\\t\")[0]\n",
    "\n",
    "        word_index.update({idx:word})\n",
    "        index_word.update({word:idx})\n",
    "\n",
    "    tensor = tf.keras.preprocessing.sequence.pad_sequences(tensor, padding='post') # 'post'로 지정하면 시퀀스의 뒤에 패딩이 채워진다. 디폴트는 'pre'\n",
    "\n",
    "    return tensor, word_index, index_word"
   ]
  },
  {
   "cell_type": "code",
   "execution_count": 21,
   "id": "b8f8ba1c",
   "metadata": {},
   "outputs": [
    {
     "name": "stdout",
     "output_type": "stream",
     "text": [
      "[[1956 5665    5    4 7975 1990    3    0    0    0    0    0    0    0]\n",
      " [ 107 1641  101    4    0  417   11    4   14    0 1976    3    3    3]]\n"
     ]
    }
   ],
   "source": [
    "#sp_tokenize(s, corpus) 사용예제\n",
    "\n",
    "my_corpus = ['나는 밥을 먹었습니다.', '그러나 여전히 ㅠㅠ 배가 고픕니다...']\n",
    "tensor, word_index, index_word = sp_tokenize(s, my_corpus)\n",
    "print(tensor)"
   ]
  },
  {
   "cell_type": "markdown",
   "id": "f4d4f5ce",
   "metadata": {},
   "source": [
    "## (4) 네이버 영화 감정 분석 문제에 SentencePiece 적용하기"
   ]
  },
  {
   "cell_type": "markdown",
   "id": "d2bf7b68",
   "metadata": {},
   "source": [
    "* 네이버 영화리뷰 감정 분석 코퍼스에 SentencePiece를 적용시킨 모델 학습하기\n",
    "* 학습된 모델로 sp_tokenize() 메소드 구현하기\n",
    "* 구현된 토크나이저를 적용하여 네이버 영화리뷰 감정 분석 모델을 재학습하기\n",
    "* KoNLPy 형태소 분석기를 사용한 모델과 성능 비교하기\n",
    "* (보너스) SentencePiece 모델의 model_type, vocab_size 등을 변경해 가면서 성능 개선 여부 확인하기"
   ]
  },
  {
   "cell_type": "markdown",
   "id": "a4e4228b",
   "metadata": {},
   "source": [
    "### 네이버 영화리뷰 감정 분석 코퍼스에 SentencePiece를 적용시킨 모델 학습하기"
   ]
  },
  {
   "cell_type": "code",
   "execution_count": 2,
   "id": "b6b41948",
   "metadata": {},
   "outputs": [],
   "source": [
    "import pandas as pd\n",
    "import sentencepiece as spm\n",
    "import urllib.request\n",
    "import csv"
   ]
  },
  {
   "cell_type": "code",
   "execution_count": 3,
   "id": "9fb852e9",
   "metadata": {},
   "outputs": [
    {
     "data": {
      "text/plain": [
       "('ratings.txt', <http.client.HTTPMessage at 0x7f6023d17520>)"
      ]
     },
     "execution_count": 3,
     "metadata": {},
     "output_type": "execute_result"
    }
   ],
   "source": [
    "# 데이터를 다운로드하여\n",
    "urllib.request.urlretrieve(\"https://raw.githubusercontent.com/e9t/nsmc/master/ratings.txt\", filename=\"ratings.txt\")"
   ]
  },
  {
   "cell_type": "code",
   "execution_count": 4,
   "id": "906b26e7",
   "metadata": {},
   "outputs": [
    {
     "data": {
      "text/html": [
       "<div>\n",
       "<style scoped>\n",
       "    .dataframe tbody tr th:only-of-type {\n",
       "        vertical-align: middle;\n",
       "    }\n",
       "\n",
       "    .dataframe tbody tr th {\n",
       "        vertical-align: top;\n",
       "    }\n",
       "\n",
       "    .dataframe thead th {\n",
       "        text-align: right;\n",
       "    }\n",
       "</style>\n",
       "<table border=\"1\" class=\"dataframe\">\n",
       "  <thead>\n",
       "    <tr style=\"text-align: right;\">\n",
       "      <th></th>\n",
       "      <th>id</th>\n",
       "      <th>document</th>\n",
       "      <th>label</th>\n",
       "    </tr>\n",
       "  </thead>\n",
       "  <tbody>\n",
       "    <tr>\n",
       "      <th>0</th>\n",
       "      <td>8112052</td>\n",
       "      <td>어릴때보고 지금다시봐도 재밌어요ㅋㅋ</td>\n",
       "      <td>1</td>\n",
       "    </tr>\n",
       "    <tr>\n",
       "      <th>1</th>\n",
       "      <td>8132799</td>\n",
       "      <td>디자인을 배우는 학생으로, 외국디자이너와 그들이 일군 전통을 통해 발전해가는 문화산...</td>\n",
       "      <td>1</td>\n",
       "    </tr>\n",
       "    <tr>\n",
       "      <th>2</th>\n",
       "      <td>4655635</td>\n",
       "      <td>폴리스스토리 시리즈는 1부터 뉴까지 버릴께 하나도 없음.. 최고.</td>\n",
       "      <td>1</td>\n",
       "    </tr>\n",
       "    <tr>\n",
       "      <th>3</th>\n",
       "      <td>9251303</td>\n",
       "      <td>와.. 연기가 진짜 개쩔구나.. 지루할거라고 생각했는데 몰입해서 봤다.. 그래 이런...</td>\n",
       "      <td>1</td>\n",
       "    </tr>\n",
       "    <tr>\n",
       "      <th>4</th>\n",
       "      <td>10067386</td>\n",
       "      <td>안개 자욱한 밤하늘에 떠 있는 초승달 같은 영화.</td>\n",
       "      <td>1</td>\n",
       "    </tr>\n",
       "  </tbody>\n",
       "</table>\n",
       "</div>"
      ],
      "text/plain": [
       "         id                                           document  label\n",
       "0   8112052                                어릴때보고 지금다시봐도 재밌어요ㅋㅋ      1\n",
       "1   8132799  디자인을 배우는 학생으로, 외국디자이너와 그들이 일군 전통을 통해 발전해가는 문화산...      1\n",
       "2   4655635               폴리스스토리 시리즈는 1부터 뉴까지 버릴께 하나도 없음.. 최고.      1\n",
       "3   9251303  와.. 연기가 진짜 개쩔구나.. 지루할거라고 생각했는데 몰입해서 봤다.. 그래 이런...      1\n",
       "4  10067386                        안개 자욱한 밤하늘에 떠 있는 초승달 같은 영화.      1"
      ]
     },
     "execution_count": 4,
     "metadata": {},
     "output_type": "execute_result"
    }
   ],
   "source": [
    "# 데이터 프레임에 저장\n",
    "naver_df = pd.read_table('ratings.txt')\n",
    "naver_df[:5]"
   ]
  },
  {
   "cell_type": "code",
   "execution_count": 5,
   "id": "0135eac0",
   "metadata": {},
   "outputs": [
    {
     "name": "stdout",
     "output_type": "stream",
     "text": [
      "리뷰 개수 : 200000\n"
     ]
    }
   ],
   "source": [
    "print('리뷰 개수 :',len(naver_df)) # 리뷰 개수 출력"
   ]
  },
  {
   "cell_type": "code",
   "execution_count": 6,
   "id": "cd852fb3",
   "metadata": {},
   "outputs": [
    {
     "name": "stdout",
     "output_type": "stream",
     "text": [
      "True\n"
     ]
    }
   ],
   "source": [
    "# Null값 제거\n",
    "print(naver_df.isnull().values.any()) # Null 값이 존재하는지 확인"
   ]
  },
  {
   "cell_type": "code",
   "execution_count": 7,
   "id": "3379bff3",
   "metadata": {},
   "outputs": [
    {
     "name": "stdout",
     "output_type": "stream",
     "text": [
      "False\n"
     ]
    }
   ],
   "source": [
    "naver_df = naver_df.dropna(how = 'any') # Null 값이 존재하는 행 제거\n",
    "print(naver_df.isnull().values.any()) # Null 값이 존재하는지 확인"
   ]
  },
  {
   "cell_type": "code",
   "execution_count": 8,
   "id": "130f9111",
   "metadata": {},
   "outputs": [
    {
     "name": "stdout",
     "output_type": "stream",
     "text": [
      "리뷰 개수 : 199992\n"
     ]
    }
   ],
   "source": [
    "print('리뷰 개수 :',len(naver_df)) # 리뷰 개수 출력"
   ]
  },
  {
   "cell_type": "code",
   "execution_count": 9,
   "id": "91df0e01",
   "metadata": {},
   "outputs": [],
   "source": [
    "# 199,992개의 샘플을 naver_review.txt 파일에 저장\n",
    "with open('naver_review.txt', 'w', encoding='utf8') as f:\n",
    "    f.write('\\n'.join(naver_df['document']))"
   ]
  },
  {
   "cell_type": "code",
   "execution_count": 10,
   "id": "d4e74ec1",
   "metadata": {},
   "outputs": [
    {
     "name": "stderr",
     "output_type": "stream",
     "text": [
      "sentencepiece_trainer.cc(177) LOG(INFO) Running command: --input=naver_review.txt --model_prefix=naver --vocab_size=5000 --model_type=bpe --max_sentence_length=9999\n",
      "sentencepiece_trainer.cc(77) LOG(INFO) Starts training with : \n",
      "trainer_spec {\n",
      "  input: naver_review.txt\n",
      "  input_format: \n",
      "  model_prefix: naver\n",
      "  model_type: BPE\n",
      "  vocab_size: 5000\n",
      "  self_test_sample_size: 0\n",
      "  character_coverage: 0.9995\n",
      "  input_sentence_size: 0\n",
      "  shuffle_input_sentence: 1\n",
      "  seed_sentencepiece_size: 1000000\n",
      "  shrinking_factor: 0.75\n",
      "  max_sentence_length: 9999\n",
      "  num_threads: 16\n",
      "  num_sub_iterations: 2\n",
      "  max_sentencepiece_length: 16\n",
      "  split_by_unicode_script: 1\n",
      "  split_by_number: 1\n",
      "  split_by_whitespace: 1\n",
      "  split_digits: 0\n",
      "  treat_whitespace_as_suffix: 0\n",
      "  allow_whitespace_only_pieces: 0\n",
      "  required_chars: \n",
      "  byte_fallback: 0\n",
      "  vocabulary_output_piece_score: 1\n",
      "  train_extremely_large_corpus: 0\n",
      "  hard_vocab_limit: 1\n",
      "  use_all_vocab: 0\n",
      "  unk_id: 0\n",
      "  bos_id: 1\n",
      "  eos_id: 2\n",
      "  pad_id: -1\n",
      "  unk_piece: <unk>\n",
      "  bos_piece: <s>\n",
      "  eos_piece: </s>\n",
      "  pad_piece: <pad>\n",
      "  unk_surface:  ⁇ \n",
      "}\n",
      "normalizer_spec {\n",
      "  name: nmt_nfkc\n",
      "  add_dummy_prefix: 1\n",
      "  remove_extra_whitespaces: 1\n",
      "  escape_whitespaces: 1\n",
      "  normalization_rule_tsv: \n",
      "}\n",
      "denormalizer_spec {}\n",
      "trainer_interface.cc(329) LOG(INFO) SentenceIterator is not specified. Using MultiFileSentenceIterator.\n",
      "trainer_interface.cc(178) LOG(INFO) Loading corpus: naver_review.txt\n",
      "trainer_interface.cc(385) LOG(INFO) Loaded all 199992 sentences\n",
      "trainer_interface.cc(400) LOG(INFO) Adding meta_piece: <unk>\n",
      "trainer_interface.cc(400) LOG(INFO) Adding meta_piece: <s>\n",
      "trainer_interface.cc(400) LOG(INFO) Adding meta_piece: </s>\n",
      "trainer_interface.cc(405) LOG(INFO) Normalizing sentences...\n",
      "trainer_interface.cc(466) LOG(INFO) all chars count=7242982\n",
      "trainer_interface.cc(477) LOG(INFO) Done: 99.9501% characters are covered.\n",
      "trainer_interface.cc(487) LOG(INFO) Alphabet size=1725\n",
      "trainer_interface.cc(488) LOG(INFO) Final character coverage=0.999501\n",
      "trainer_interface.cc(520) LOG(INFO) Done! preprocessed 199992 sentences.\n",
      "trainer_interface.cc(526) LOG(INFO) Tokenizing input sentences with whitespace: 199992\n",
      "trainer_interface.cc(537) LOG(INFO) Done! 449380\n",
      "bpe_model_trainer.cc(167) LOG(INFO) Updating active symbols. max_freq=97156 min_freq=100\n",
      "bpe_model_trainer.cc(258) LOG(INFO) Added: freq=14530 size=20 all=124348 active=11716 piece=▁어\n",
      "bpe_model_trainer.cc(258) LOG(INFO) Added: freq=11891 size=40 all=129289 active=16657 piece=▁정말\n",
      "bpe_model_trainer.cc(258) LOG(INFO) Added: freq=8425 size=60 all=133221 active=20589 piece=▁생\n",
      "bpe_model_trainer.cc(258) LOG(INFO) Added: freq=7007 size=80 all=137613 active=24981 piece=드라마\n",
      "bpe_model_trainer.cc(258) LOG(INFO) Added: freq=5651 size=100 all=141799 active=29167 piece=▁보고\n",
      "bpe_model_trainer.cc(167) LOG(INFO) Updating active symbols. max_freq=5550 min_freq=84\n",
      "bpe_model_trainer.cc(258) LOG(INFO) Added: freq=4812 size=120 all=145059 active=10278 piece=▁아니\n",
      "bpe_model_trainer.cc(258) LOG(INFO) Added: freq=4300 size=140 all=147973 active=13192 piece=적인\n",
      "bpe_model_trainer.cc(258) LOG(INFO) Added: freq=3782 size=160 all=150509 active=15728 piece=^^\n",
      "bpe_model_trainer.cc(258) LOG(INFO) Added: freq=3533 size=180 all=153307 active=18526 piece=▁처\n",
      "bpe_model_trainer.cc(258) LOG(INFO) Added: freq=3192 size=200 all=155981 active=21200 piece=지는\n",
      "bpe_model_trainer.cc(167) LOG(INFO) Updating active symbols. max_freq=3188 min_freq=75\n",
      "bpe_model_trainer.cc(258) LOG(INFO) Added: freq=2945 size=220 all=158892 active=10451 piece=▁처음\n",
      "bpe_model_trainer.cc(258) LOG(INFO) Added: freq=2751 size=240 all=162104 active=13663 piece=인데\n",
      "bpe_model_trainer.cc(258) LOG(INFO) Added: freq=2568 size=260 all=165344 active=16903 piece=▁이해\n",
      "bpe_model_trainer.cc(258) LOG(INFO) Added: freq=2400 size=280 all=168524 active=20083 piece=▁화\n",
      "bpe_model_trainer.cc(258) LOG(INFO) Added: freq=2251 size=300 all=170103 active=21662 piece=▁당\n",
      "bpe_model_trainer.cc(167) LOG(INFO) Updating active symbols. max_freq=2249 min_freq=67\n",
      "bpe_model_trainer.cc(258) LOG(INFO) Added: freq=2077 size=320 all=172592 active=10936 piece=▁발\n",
      "bpe_model_trainer.cc(258) LOG(INFO) Added: freq=1941 size=340 all=175084 active=13427 piece=것도\n",
      "bpe_model_trainer.cc(258) LOG(INFO) Added: freq=1856 size=360 all=177590 active=15933 piece=▁무슨\n",
      "bpe_model_trainer.cc(258) LOG(INFO) Added: freq=1756 size=380 all=180110 active=18453 piece=▁아깝다\n",
      "bpe_model_trainer.cc(258) LOG(INFO) Added: freq=1681 size=400 all=182285 active=20628 piece=▁리\n",
      "bpe_model_trainer.cc(167) LOG(INFO) Updating active symbols. max_freq=1680 min_freq=61\n",
      "bpe_model_trainer.cc(258) LOG(INFO) Added: freq=1629 size=420 all=184123 active=10856 piece=▁스릴\n",
      "bpe_model_trainer.cc(258) LOG(INFO) Added: freq=1560 size=440 all=186113 active=12846 piece=재밌\n",
      "bpe_model_trainer.cc(258) LOG(INFO) Added: freq=1484 size=460 all=188667 active=15400 piece=▁극장\n",
      "bpe_model_trainer.cc(258) LOG(INFO) Added: freq=1430 size=480 all=190368 active=17101 piece=처럼\n",
      "bpe_model_trainer.cc(258) LOG(INFO) Added: freq=1367 size=500 all=192609 active=19342 piece=▁근\n",
      "bpe_model_trainer.cc(167) LOG(INFO) Updating active symbols. max_freq=1361 min_freq=57\n",
      "bpe_model_trainer.cc(258) LOG(INFO) Added: freq=1313 size=520 all=194421 active=11407 piece=떨어\n",
      "bpe_model_trainer.cc(258) LOG(INFO) Added: freq=1249 size=540 all=196182 active=13168 piece=▁캐릭터\n",
      "bpe_model_trainer.cc(258) LOG(INFO) Added: freq=1202 size=560 all=198172 active=15158 piece=▁독\n",
      "bpe_model_trainer.cc(258) LOG(INFO) Added: freq=1174 size=580 all=200926 active=17912 piece=이랑\n",
      "bpe_model_trainer.cc(258) LOG(INFO) Added: freq=1142 size=600 all=203281 active=20267 piece=▁영화에\n",
      "bpe_model_trainer.cc(167) LOG(INFO) Updating active symbols. max_freq=1141 min_freq=53\n",
      "bpe_model_trainer.cc(258) LOG(INFO) Added: freq=1113 size=620 all=205463 active=12323 piece=기는\n",
      "bpe_model_trainer.cc(258) LOG(INFO) Added: freq=1071 size=640 all=207929 active=14789 piece=▁싸\n",
      "bpe_model_trainer.cc(258) LOG(INFO) Added: freq=1044 size=660 all=210014 active=16874 piece=▁조금\n",
      "bpe_model_trainer.cc(258) LOG(INFO) Added: freq=1012 size=680 all=212262 active=19122 piece=하면서\n",
      "bpe_model_trainer.cc(258) LOG(INFO) Added: freq=979 size=700 all=214255 active=21115 piece=▁네\n",
      "bpe_model_trainer.cc(167) LOG(INFO) Updating active symbols. max_freq=979 min_freq=49\n",
      "bpe_model_trainer.cc(258) LOG(INFO) Added: freq=951 size=720 all=215942 active=12348 piece=▁알바\n",
      "bpe_model_trainer.cc(258) LOG(INFO) Added: freq=924 size=740 all=217742 active=14148 piece=▁감독이\n",
      "bpe_model_trainer.cc(258) LOG(INFO) Added: freq=893 size=760 all=218971 active=15377 piece=▁복\n",
      "bpe_model_trainer.cc(258) LOG(INFO) Added: freq=867 size=780 all=220584 active=16990 piece=▁살아\n",
      "bpe_model_trainer.cc(258) LOG(INFO) Added: freq=852 size=800 all=222637 active=19043 piece=▁아직도\n",
      "bpe_model_trainer.cc(167) LOG(INFO) Updating active symbols. max_freq=850 min_freq=46\n",
      "bpe_model_trainer.cc(258) LOG(INFO) Added: freq=830 size=820 all=223807 active=12280 piece=▁글\n",
      "bpe_model_trainer.cc(258) LOG(INFO) Added: freq=815 size=840 all=225048 active=13521 piece=▁친구\n",
      "bpe_model_trainer.cc(258) LOG(INFO) Added: freq=791 size=860 all=226687 active=15160 piece=▁변\n",
      "bpe_model_trainer.cc(258) LOG(INFO) Added: freq=775 size=880 all=228073 active=16546 piece=▁자신\n",
      "bpe_model_trainer.cc(258) LOG(INFO) Added: freq=760 size=900 all=229401 active=17874 piece=▁인상\n",
      "bpe_model_trainer.cc(167) LOG(INFO) Updating active symbols. max_freq=759 min_freq=45\n",
      "bpe_model_trainer.cc(258) LOG(INFO) Added: freq=742 size=920 all=230810 active=12857 piece=▁청\n",
      "bpe_model_trainer.cc(258) LOG(INFO) Added: freq=729 size=940 all=232270 active=14317 piece=▁둘\n",
      "bpe_model_trainer.cc(258) LOG(INFO) Added: freq=714 size=960 all=233554 active=15601 piece=놓고\n",
      "bpe_model_trainer.cc(258) LOG(INFO) Added: freq=703 size=980 all=234703 active=16750 piece=다면\n",
      "bpe_model_trainer.cc(258) LOG(INFO) Added: freq=684 size=1000 all=235917 active=17964 piece=▁혼\n",
      "bpe_model_trainer.cc(167) LOG(INFO) Updating active symbols. max_freq=684 min_freq=43\n",
      "bpe_model_trainer.cc(258) LOG(INFO) Added: freq=672 size=1020 all=237248 active=13086 piece=▁애니메이션\n",
      "bpe_model_trainer.cc(258) LOG(INFO) Added: freq=660 size=1040 all=238777 active=14615 piece=주의\n",
      "bpe_model_trainer.cc(258) LOG(INFO) Added: freq=640 size=1060 all=240624 active=16462 piece=▁백\n",
      "bpe_model_trainer.cc(258) LOG(INFO) Added: freq=624 size=1080 all=242078 active=17916 piece=당히\n",
      "bpe_model_trainer.cc(258) LOG(INFO) Added: freq=613 size=1100 all=243582 active=19420 piece=▁같이\n",
      "bpe_model_trainer.cc(167) LOG(INFO) Updating active symbols. max_freq=613 min_freq=41\n",
      "bpe_model_trainer.cc(258) LOG(INFO) Added: freq=599 size=1120 all=245031 active=13598 piece=▁색\n",
      "bpe_model_trainer.cc(258) LOG(INFO) Added: freq=585 size=1140 all=246151 active=14718 piece=▁순수\n",
      "bpe_model_trainer.cc(258) LOG(INFO) Added: freq=572 size=1160 all=247528 active=16095 piece=▁비슷\n",
      "bpe_model_trainer.cc(258) LOG(INFO) Added: freq=561 size=1180 all=248947 active=17514 piece=자체\n",
      "bpe_model_trainer.cc(258) LOG(INFO) Added: freq=551 size=1200 all=250592 active=19159 piece=▁프로\n",
      "bpe_model_trainer.cc(167) LOG(INFO) Updating active symbols. max_freq=550 min_freq=39\n",
      "bpe_model_trainer.cc(258) LOG(INFO) Added: freq=539 size=1220 all=252024 active=13898 piece=▁비교\n",
      "bpe_model_trainer.cc(258) LOG(INFO) Added: freq=524 size=1240 all=253463 active=15337 piece=▁벌\n",
      "bpe_model_trainer.cc(258) LOG(INFO) Added: freq=513 size=1260 all=254873 active=16747 piece=▁있을\n",
      "bpe_model_trainer.cc(258) LOG(INFO) Added: freq=507 size=1280 all=256062 active=17936 piece=보기\n",
      "bpe_model_trainer.cc(258) LOG(INFO) Added: freq=498 size=1300 all=257875 active=19748 piece=▁화려\n",
      "bpe_model_trainer.cc(167) LOG(INFO) Updating active symbols. max_freq=498 min_freq=37\n",
      "bpe_model_trainer.cc(258) LOG(INFO) Added: freq=487 size=1320 all=259149 active=14140 piece=그런\n",
      "bpe_model_trainer.cc(258) LOG(INFO) Added: freq=477 size=1340 all=260384 active=15375 piece=었고\n",
      "bpe_model_trainer.cc(258) LOG(INFO) Added: freq=471 size=1360 all=261670 active=16661 piece=▁보니\n",
      "bpe_model_trainer.cc(258) LOG(INFO) Added: freq=466 size=1380 all=263235 active=18226 piece=▁두번\n",
      "bpe_model_trainer.cc(258) LOG(INFO) Added: freq=460 size=1400 all=264814 active=19805 piece=이팅\n",
      "bpe_model_trainer.cc(167) LOG(INFO) Updating active symbols. max_freq=460 min_freq=36\n",
      "bpe_model_trainer.cc(258) LOG(INFO) Added: freq=451 size=1420 all=266024 active=14414 piece=▁아쉽다\n",
      "bpe_model_trainer.cc(258) LOG(INFO) Added: freq=443 size=1440 all=267460 active=15850 piece=▁진정한\n",
      "bpe_model_trainer.cc(258) LOG(INFO) Added: freq=434 size=1460 all=268300 active=16690 piece=▁굉장히\n",
      "bpe_model_trainer.cc(258) LOG(INFO) Added: freq=428 size=1480 all=269350 active=17740 piece=▁나와서\n",
      "bpe_model_trainer.cc(258) LOG(INFO) Added: freq=420 size=1500 all=270501 active=18891 piece=▁나의\n",
      "bpe_model_trainer.cc(167) LOG(INFO) Updating active symbols. max_freq=420 min_freq=35\n",
      "bpe_model_trainer.cc(258) LOG(INFO) Added: freq=412 size=1520 all=272021 active=15017 piece=▁O\n",
      "bpe_model_trainer.cc(258) LOG(INFO) Added: freq=406 size=1540 all=273173 active=16169 piece=랑스\n",
      "bpe_model_trainer.cc(258) LOG(INFO) Added: freq=398 size=1560 all=274239 active=17235 piece=????\n",
      "bpe_model_trainer.cc(258) LOG(INFO) Added: freq=391 size=1580 all=275107 active=18103 piece=기대\n",
      "bpe_model_trainer.cc(258) LOG(INFO) Added: freq=387 size=1600 all=276484 active=19480 piece=▁흥행\n",
      "bpe_model_trainer.cc(167) LOG(INFO) Updating active symbols. max_freq=386 min_freq=34\n",
      "bpe_model_trainer.cc(258) LOG(INFO) Added: freq=382 size=1620 all=277373 active=14641 piece=▁못하는\n",
      "bpe_model_trainer.cc(258) LOG(INFO) Added: freq=377 size=1640 all=278592 active=15860 piece=▁충분히\n",
      "bpe_model_trainer.cc(258) LOG(INFO) Added: freq=372 size=1660 all=279816 active=17084 piece=우드\n",
      "bpe_model_trainer.cc(258) LOG(INFO) Added: freq=367 size=1680 all=280932 active=18200 piece=▁주인공이\n",
      "bpe_model_trainer.cc(258) LOG(INFO) Added: freq=363 size=1700 all=282055 active=19323 piece=영화중\n",
      "bpe_model_trainer.cc(167) LOG(INFO) Updating active symbols. max_freq=363 min_freq=33\n",
      "bpe_model_trainer.cc(258) LOG(INFO) Added: freq=357 size=1720 all=283509 active=15415 piece=▁좋네요\n",
      "bpe_model_trainer.cc(258) LOG(INFO) Added: freq=352 size=1740 all=284924 active=16830 piece=▁선택\n",
      "bpe_model_trainer.cc(258) LOG(INFO) Added: freq=348 size=1760 all=285915 active=17821 piece=▁이영화는\n",
      "bpe_model_trainer.cc(258) LOG(INFO) Added: freq=344 size=1780 all=287194 active=19100 piece=▁만족\n",
      "bpe_model_trainer.cc(258) LOG(INFO) Added: freq=338 size=1800 all=288005 active=19911 piece=▁짧\n",
      "bpe_model_trainer.cc(167) LOG(INFO) Updating active symbols. max_freq=338 min_freq=32\n",
      "bpe_model_trainer.cc(258) LOG(INFO) Added: freq=335 size=1820 all=289001 active=15369 piece=▁평점은\n",
      "bpe_model_trainer.cc(258) LOG(INFO) Added: freq=330 size=1840 all=290108 active=16476 piece=▁쓴\n",
      "bpe_model_trainer.cc(258) LOG(INFO) Added: freq=327 size=1860 all=291333 active=17701 piece=▁대한민국\n",
      "bpe_model_trainer.cc(258) LOG(INFO) Added: freq=322 size=1880 all=292617 active=18985 piece=▁오글거\n",
      "bpe_model_trainer.cc(258) LOG(INFO) Added: freq=318 size=1900 all=293906 active=20274 piece=▁그럴\n",
      "bpe_model_trainer.cc(167) LOG(INFO) Updating active symbols. max_freq=318 min_freq=31\n",
      "bpe_model_trainer.cc(258) LOG(INFO) Added: freq=314 size=1920 all=294794 active=15549 piece=▁이리\n",
      "bpe_model_trainer.cc(258) LOG(INFO) Added: freq=310 size=1940 all=295736 active=16491 piece=▁없을\n",
      "bpe_model_trainer.cc(258) LOG(INFO) Added: freq=306 size=1960 all=296668 active=17423 piece=것은\n",
      "bpe_model_trainer.cc(258) LOG(INFO) Added: freq=303 size=1980 all=297757 active=18512 piece=▁유명\n",
      "bpe_model_trainer.cc(258) LOG(INFO) Added: freq=299 size=2000 all=298640 active=19395 piece=대의\n",
      "bpe_model_trainer.cc(167) LOG(INFO) Updating active symbols. max_freq=299 min_freq=30\n",
      "bpe_model_trainer.cc(258) LOG(INFO) Added: freq=296 size=2020 all=299811 active=16042 piece=▁저도\n",
      "bpe_model_trainer.cc(258) LOG(INFO) Added: freq=292 size=2040 all=300872 active=17103 piece=웠던\n",
      "bpe_model_trainer.cc(258) LOG(INFO) Added: freq=288 size=2060 all=301766 active=17996 piece=▁영원\n",
      "bpe_model_trainer.cc(258) LOG(INFO) Added: freq=286 size=2080 all=302498 active=18728 piece=▁재미없고\n",
      "bpe_model_trainer.cc(258) LOG(INFO) Added: freq=282 size=2100 all=303498 active=19728 piece=많이\n",
      "bpe_model_trainer.cc(167) LOG(INFO) Updating active symbols. max_freq=282 min_freq=29\n",
      "bpe_model_trainer.cc(258) LOG(INFO) Added: freq=280 size=2120 all=304617 active=16085 piece=▁부족한\n",
      "bpe_model_trainer.cc(258) LOG(INFO) Added: freq=277 size=2140 all=305500 active=16968 piece=▁스토리에\n",
      "bpe_model_trainer.cc(258) LOG(INFO) Added: freq=272 size=2160 all=307028 active=18496 piece=치게\n",
      "bpe_model_trainer.cc(258) LOG(INFO) Added: freq=269 size=2180 all=307606 active=19074 piece=▁이야기가\n",
      "bpe_model_trainer.cc(258) LOG(INFO) Added: freq=265 size=2200 all=308274 active=19742 piece=▁ᅮ\n",
      "bpe_model_trainer.cc(167) LOG(INFO) Updating active symbols. max_freq=265 min_freq=28\n",
      "bpe_model_trainer.cc(258) LOG(INFO) Added: freq=263 size=2220 all=309514 active=16630 piece=//\n",
      "bpe_model_trainer.cc(258) LOG(INFO) Added: freq=261 size=2240 all=310744 active=17860 piece=▁12\n",
      "bpe_model_trainer.cc(258) LOG(INFO) Added: freq=259 size=2260 all=311714 active=18830 piece=▁자유\n",
      "bpe_model_trainer.cc(258) LOG(INFO) Added: freq=257 size=2280 all=312983 active=20099 piece=▁않음\n",
      "bpe_model_trainer.cc(258) LOG(INFO) Added: freq=254 size=2300 all=313761 active=20877 piece=였어요\n",
      "bpe_model_trainer.cc(167) LOG(INFO) Updating active symbols. max_freq=254 min_freq=27\n",
      "bpe_model_trainer.cc(258) LOG(INFO) Added: freq=252 size=2320 all=314935 active=16782 piece=▁사이\n",
      "bpe_model_trainer.cc(258) LOG(INFO) Added: freq=250 size=2340 all=315812 active=17659 piece=면서도\n",
      "bpe_model_trainer.cc(258) LOG(INFO) Added: freq=248 size=2360 all=316826 active=18673 piece=나온다\n",
      "bpe_model_trainer.cc(258) LOG(INFO) Added: freq=245 size=2380 all=317618 active=19465 piece=하하\n",
      "bpe_model_trainer.cc(258) LOG(INFO) Added: freq=241 size=2400 all=318870 active=20717 piece=▁짓\n",
      "bpe_model_trainer.cc(167) LOG(INFO) Updating active symbols. max_freq=241 min_freq=27\n",
      "bpe_model_trainer.cc(258) LOG(INFO) Added: freq=239 size=2420 all=319805 active=16830 piece=▁의외\n",
      "bpe_model_trainer.cc(258) LOG(INFO) Added: freq=237 size=2440 all=320603 active=17628 piece=▁시도\n",
      "bpe_model_trainer.cc(258) LOG(INFO) Added: freq=234 size=2460 all=321428 active=18453 piece=▁해준\n",
      "bpe_model_trainer.cc(258) LOG(INFO) Added: freq=232 size=2480 all=322063 active=19088 piece=▁끝나고\n",
      "bpe_model_trainer.cc(258) LOG(INFO) Added: freq=230 size=2500 all=322989 active=20014 piece=▁유쾌한\n",
      "bpe_model_trainer.cc(167) LOG(INFO) Updating active symbols. max_freq=230 min_freq=26\n",
      "bpe_model_trainer.cc(258) LOG(INFO) Added: freq=227 size=2520 all=323613 active=16767 piece=▁호러\n",
      "bpe_model_trainer.cc(258) LOG(INFO) Added: freq=224 size=2540 all=324578 active=17732 piece=다지\n",
      "bpe_model_trainer.cc(258) LOG(INFO) Added: freq=223 size=2560 all=325548 active=18702 piece=있어요\n",
      "bpe_model_trainer.cc(258) LOG(INFO) Added: freq=221 size=2580 all=326273 active=19427 piece=▁헛\n",
      "bpe_model_trainer.cc(258) LOG(INFO) Added: freq=220 size=2600 all=327151 active=20305 piece=▁기분이\n",
      "bpe_model_trainer.cc(167) LOG(INFO) Updating active symbols. max_freq=220 min_freq=25\n",
      "bpe_model_trainer.cc(258) LOG(INFO) Added: freq=218 size=2620 all=327825 active=17011 piece=▁전편\n",
      "bpe_model_trainer.cc(258) LOG(INFO) Added: freq=216 size=2640 all=328923 active=18109 piece=▁채널\n",
      "bpe_model_trainer.cc(258) LOG(INFO) Added: freq=214 size=2660 all=329764 active=18950 piece=씨가\n",
      "bpe_model_trainer.cc(258) LOG(INFO) Added: freq=213 size=2680 all=330525 active=19711 piece=▁재밌었는데\n",
      "bpe_model_trainer.cc(258) LOG(INFO) Added: freq=210 size=2700 all=331199 active=20385 piece=an\n",
      "bpe_model_trainer.cc(167) LOG(INFO) Updating active symbols. max_freq=210 min_freq=25\n",
      "bpe_model_trainer.cc(258) LOG(INFO) Added: freq=209 size=2720 all=332007 active=17315 piece=▁비극\n",
      "bpe_model_trainer.cc(258) LOG(INFO) Added: freq=207 size=2740 all=332904 active=18212 piece=▁신선한\n",
      "bpe_model_trainer.cc(258) LOG(INFO) Added: freq=205 size=2760 all=333746 active=19054 piece=평점이\n",
      "bpe_model_trainer.cc(258) LOG(INFO) Added: freq=203 size=2780 all=334658 active=19966 piece=무섭\n",
      "bpe_model_trainer.cc(258) LOG(INFO) Added: freq=202 size=2800 all=335634 active=20942 piece=▁처음엔\n",
      "bpe_model_trainer.cc(167) LOG(INFO) Updating active symbols. max_freq=202 min_freq=24\n",
      "bpe_model_trainer.cc(258) LOG(INFO) Added: freq=200 size=2820 all=336612 active=17746 piece=▁활\n",
      "bpe_model_trainer.cc(258) LOG(INFO) Added: freq=199 size=2840 all=337302 active=18436 piece=▁폭력\n",
      "bpe_model_trainer.cc(258) LOG(INFO) Added: freq=197 size=2860 all=338142 active=19276 piece=▁감명\n",
      "bpe_model_trainer.cc(258) LOG(INFO) Added: freq=196 size=2880 all=339202 active=20336 piece=속에서\n",
      "bpe_model_trainer.cc(258) LOG(INFO) Added: freq=195 size=2900 all=340058 active=21192 piece=영화라고\n",
      "bpe_model_trainer.cc(167) LOG(INFO) Updating active symbols. max_freq=195 min_freq=24\n",
      "bpe_model_trainer.cc(258) LOG(INFO) Added: freq=193 size=2920 all=341009 active=17818 piece=줘서\n",
      "bpe_model_trainer.cc(258) LOG(INFO) Added: freq=192 size=2940 all=341858 active=18667 piece=▁만들고\n",
      "bpe_model_trainer.cc(258) LOG(INFO) Added: freq=190 size=2960 all=342668 active=19477 piece=▁뜻\n",
      "bpe_model_trainer.cc(258) LOG(INFO) Added: freq=189 size=2980 all=343586 active=20395 piece=▁있게\n",
      "bpe_model_trainer.cc(258) LOG(INFO) Added: freq=187 size=3000 all=344426 active=21235 piece=트콤\n",
      "bpe_model_trainer.cc(167) LOG(INFO) Updating active symbols. max_freq=187 min_freq=23\n",
      "bpe_model_trainer.cc(258) LOG(INFO) Added: freq=185 size=3020 all=345271 active=18027 piece=▁외계\n",
      "bpe_model_trainer.cc(258) LOG(INFO) Added: freq=183 size=3040 all=346242 active=18998 piece=ad\n",
      "bpe_model_trainer.cc(258) LOG(INFO) Added: freq=182 size=3060 all=347098 active=19854 piece=수의\n",
      "bpe_model_trainer.cc(258) LOG(INFO) Added: freq=181 size=3080 all=348014 active=20770 piece=▁성인\n",
      "bpe_model_trainer.cc(258) LOG(INFO) Added: freq=179 size=3100 all=348685 active=21441 piece=▁나옴\n",
      "bpe_model_trainer.cc(167) LOG(INFO) Updating active symbols. max_freq=179 min_freq=23\n",
      "bpe_model_trainer.cc(258) LOG(INFO) Added: freq=178 size=3120 all=349285 active=18026 piece=▁낮아서\n",
      "bpe_model_trainer.cc(258) LOG(INFO) Added: freq=177 size=3140 all=350159 active=18900 piece=▁단연\n",
      "bpe_model_trainer.cc(258) LOG(INFO) Added: freq=176 size=3160 all=350908 active=19649 piece=▁모든게\n",
      "bpe_model_trainer.cc(258) LOG(INFO) Added: freq=175 size=3180 all=351603 active=20343 piece=▁점수를\n",
      "bpe_model_trainer.cc(258) LOG(INFO) Added: freq=174 size=3200 all=352450 active=21190 piece=▁뻔하고\n",
      "bpe_model_trainer.cc(167) LOG(INFO) Updating active symbols. max_freq=174 min_freq=22\n",
      "bpe_model_trainer.cc(258) LOG(INFO) Added: freq=172 size=3220 all=353123 active=18291 piece=여운\n",
      "bpe_model_trainer.cc(258) LOG(INFO) Added: freq=171 size=3240 all=353799 active=18967 piece=▁없는데\n",
      "bpe_model_trainer.cc(258) LOG(INFO) Added: freq=169 size=3260 all=354727 active=19895 piece=▁다니\n",
      "trainer_interface.cc(615) LOG(INFO) Saving model: naver.model\n",
      "trainer_interface.cc(626) LOG(INFO) Saving vocabs: naver.vocab\n"
     ]
    }
   ],
   "source": [
    "# SentencePiece를 통해 단어 집합을 생성\n",
    "spm.SentencePieceTrainer.Train('--input=naver_review.txt --model_prefix=naver --vocab_size=5000 --model_type=bpe --max_sentence_length=9999')"
   ]
  },
  {
   "cell_type": "code",
   "execution_count": 11,
   "id": "f4f12a3e",
   "metadata": {},
   "outputs": [
    {
     "data": {
      "text/html": [
       "<div>\n",
       "<style scoped>\n",
       "    .dataframe tbody tr th:only-of-type {\n",
       "        vertical-align: middle;\n",
       "    }\n",
       "\n",
       "    .dataframe tbody tr th {\n",
       "        vertical-align: top;\n",
       "    }\n",
       "\n",
       "    .dataframe thead th {\n",
       "        text-align: right;\n",
       "    }\n",
       "</style>\n",
       "<table border=\"1\" class=\"dataframe\">\n",
       "  <thead>\n",
       "    <tr style=\"text-align: right;\">\n",
       "      <th></th>\n",
       "      <th>0</th>\n",
       "      <th>1</th>\n",
       "    </tr>\n",
       "  </thead>\n",
       "  <tbody>\n",
       "    <tr>\n",
       "      <th>0</th>\n",
       "      <td>&lt;unk&gt;</td>\n",
       "      <td>0</td>\n",
       "    </tr>\n",
       "    <tr>\n",
       "      <th>1</th>\n",
       "      <td>&lt;s&gt;</td>\n",
       "      <td>0</td>\n",
       "    </tr>\n",
       "    <tr>\n",
       "      <th>2</th>\n",
       "      <td>&lt;/s&gt;</td>\n",
       "      <td>0</td>\n",
       "    </tr>\n",
       "    <tr>\n",
       "      <th>3</th>\n",
       "      <td>..</td>\n",
       "      <td>0</td>\n",
       "    </tr>\n",
       "    <tr>\n",
       "      <th>4</th>\n",
       "      <td>영화</td>\n",
       "      <td>-1</td>\n",
       "    </tr>\n",
       "    <tr>\n",
       "      <th>5</th>\n",
       "      <td>▁영화</td>\n",
       "      <td>-2</td>\n",
       "    </tr>\n",
       "    <tr>\n",
       "      <th>6</th>\n",
       "      <td>▁이</td>\n",
       "      <td>-3</td>\n",
       "    </tr>\n",
       "    <tr>\n",
       "      <th>7</th>\n",
       "      <td>▁아</td>\n",
       "      <td>-4</td>\n",
       "    </tr>\n",
       "    <tr>\n",
       "      <th>8</th>\n",
       "      <td>...</td>\n",
       "      <td>-5</td>\n",
       "    </tr>\n",
       "    <tr>\n",
       "      <th>9</th>\n",
       "      <td>▁그</td>\n",
       "      <td>-6</td>\n",
       "    </tr>\n",
       "  </tbody>\n",
       "</table>\n",
       "</div>"
      ],
      "text/plain": [
       "       0  1\n",
       "0  <unk>  0\n",
       "1    <s>  0\n",
       "2   </s>  0\n",
       "3     ..  0\n",
       "4     영화 -1\n",
       "5    ▁영화 -2\n",
       "6     ▁이 -3\n",
       "7     ▁아 -4\n",
       "8    ... -5\n",
       "9     ▁그 -6"
      ]
     },
     "execution_count": 11,
     "metadata": {},
     "output_type": "execute_result"
    }
   ],
   "source": [
    "# .vocab 에서 학습된 subwords를 확인\n",
    "vocab_list = pd.read_csv('naver.vocab', sep='\\t', header=None, quoting=csv.QUOTE_NONE)\n",
    "vocab_list[:10]"
   ]
  },
  {
   "cell_type": "code",
   "execution_count": 12,
   "id": "9a8565dc",
   "metadata": {},
   "outputs": [
    {
     "data": {
      "text/html": [
       "<div>\n",
       "<style scoped>\n",
       "    .dataframe tbody tr th:only-of-type {\n",
       "        vertical-align: middle;\n",
       "    }\n",
       "\n",
       "    .dataframe tbody tr th {\n",
       "        vertical-align: top;\n",
       "    }\n",
       "\n",
       "    .dataframe thead th {\n",
       "        text-align: right;\n",
       "    }\n",
       "</style>\n",
       "<table border=\"1\" class=\"dataframe\">\n",
       "  <thead>\n",
       "    <tr style=\"text-align: right;\">\n",
       "      <th></th>\n",
       "      <th>0</th>\n",
       "      <th>1</th>\n",
       "    </tr>\n",
       "  </thead>\n",
       "  <tbody>\n",
       "    <tr>\n",
       "      <th>2293</th>\n",
       "      <td>▁춤</td>\n",
       "      <td>-2290</td>\n",
       "    </tr>\n",
       "    <tr>\n",
       "      <th>2755</th>\n",
       "      <td>더라구요</td>\n",
       "      <td>-2752</td>\n",
       "    </tr>\n",
       "    <tr>\n",
       "      <th>983</th>\n",
       "      <td>▁스타</td>\n",
       "      <td>-980</td>\n",
       "    </tr>\n",
       "    <tr>\n",
       "      <th>1986</th>\n",
       "      <td>▁SF</td>\n",
       "      <td>-1983</td>\n",
       "    </tr>\n",
       "    <tr>\n",
       "      <th>4290</th>\n",
       "      <td>룩</td>\n",
       "      <td>-4287</td>\n",
       "    </tr>\n",
       "    <tr>\n",
       "      <th>4262</th>\n",
       "      <td>멈</td>\n",
       "      <td>-4259</td>\n",
       "    </tr>\n",
       "    <tr>\n",
       "      <th>97</th>\n",
       "      <td>▁볼</td>\n",
       "      <td>-94</td>\n",
       "    </tr>\n",
       "    <tr>\n",
       "      <th>4443</th>\n",
       "      <td>맺</td>\n",
       "      <td>-4440</td>\n",
       "    </tr>\n",
       "    <tr>\n",
       "      <th>4135</th>\n",
       "      <td>잤</td>\n",
       "      <td>-4132</td>\n",
       "    </tr>\n",
       "    <tr>\n",
       "      <th>3282</th>\n",
       "      <td>화</td>\n",
       "      <td>-3279</td>\n",
       "    </tr>\n",
       "  </tbody>\n",
       "</table>\n",
       "</div>"
      ],
      "text/plain": [
       "         0     1\n",
       "2293    ▁춤 -2290\n",
       "2755  더라구요 -2752\n",
       "983    ▁스타  -980\n",
       "1986   ▁SF -1983\n",
       "4290     룩 -4287\n",
       "4262     멈 -4259\n",
       "97      ▁볼   -94\n",
       "4443     맺 -4440\n",
       "4135     잤 -4132\n",
       "3282     화 -3279"
      ]
     },
     "execution_count": 12,
     "metadata": {},
     "output_type": "execute_result"
    }
   ],
   "source": [
    "vocab_list.sample(10)"
   ]
  },
  {
   "cell_type": "code",
   "execution_count": 59,
   "id": "974e2edd",
   "metadata": {},
   "outputs": [
    {
     "data": {
      "text/plain": [
       "5000"
      ]
     },
     "execution_count": 59,
     "metadata": {},
     "output_type": "execute_result"
    }
   ],
   "source": [
    "len(vocab_list)"
   ]
  },
  {
   "cell_type": "markdown",
   "id": "7ac0c33e",
   "metadata": {},
   "source": [
    "설정한대로 5000개의 서브워드가 단어 집합에 존재함."
   ]
  },
  {
   "cell_type": "code",
   "execution_count": 60,
   "id": "16d044b2",
   "metadata": {},
   "outputs": [],
   "source": [
    "vocab_size = len(vocab_list)"
   ]
  },
  {
   "cell_type": "code",
   "execution_count": 23,
   "id": "d0233e1d",
   "metadata": {},
   "outputs": [
    {
     "data": {
      "text/plain": [
       "True"
      ]
     },
     "execution_count": 23,
     "metadata": {},
     "output_type": "execute_result"
    }
   ],
   "source": [
    "s = spm.SentencePieceProcessor()\n",
    "vocab_file = \"naver.model\"\n",
    "s.load(vocab_file)"
   ]
  },
  {
   "cell_type": "markdown",
   "id": "f54110c9",
   "metadata": {},
   "source": [
    "### 학습된 모델로 sp_tokenize() 메소드 구현하기"
   ]
  },
  {
   "cell_type": "code",
   "execution_count": 24,
   "id": "faae0eda",
   "metadata": {},
   "outputs": [],
   "source": [
    "def sp_tokenize(s, corpus):\n",
    "\n",
    "    tensor = []\n",
    "\n",
    "    for sen in corpus:\n",
    "        tensor.append(s.EncodeAsIds(sen))\n",
    "\n",
    "    with open(\"./naver.vocab\", 'r') as f:\n",
    "        vocab = f.readlines()\n",
    "\n",
    "    word_index = {}\n",
    "    index_word = {}\n",
    "\n",
    "    for idx, line in enumerate(vocab):\n",
    "        word = line.split(\"\\t\")[0]\n",
    "\n",
    "        word_index.update({idx:word})\n",
    "        index_word.update({word:idx})\n",
    "\n",
    "    tensor = tf.keras.preprocessing.sequence.pad_sequences(tensor, padding='post') # 'post'로 지정하면 시퀀스의 뒤에 패딩이 채워진다. 디폴트는 'pre'\n",
    "\n",
    "    return tensor, word_index, index_word"
   ]
  },
  {
   "cell_type": "code",
   "execution_count": 27,
   "id": "96df0f76",
   "metadata": {},
   "outputs": [
    {
     "name": "stdout",
     "output_type": "stream",
     "text": [
      "[[ 713 2632 3301  569  837 3276    0    0    0]\n",
      " [1665 2443  366   81 3285  147 4641   13    8]]\n"
     ]
    }
   ],
   "source": [
    "#sp_tokenize(s, corpus) 사용예제\n",
    "\n",
    "my_corpus = ['나는 밥을 먹었습니다.', '그러나 여전히 ㅠㅠ 배가 고픕니다...']\n",
    "tensor, word_index, index_word = sp_tokenize(s, my_corpus)\n",
    "print(tensor)"
   ]
  },
  {
   "cell_type": "markdown",
   "id": "1cea49d6",
   "metadata": {},
   "source": [
    "### 구현된 토크나이저를 적용하여 네이버 영화리뷰 감정 분석 모델을 재학습하기"
   ]
  },
  {
   "cell_type": "code",
   "execution_count": 28,
   "id": "4a5bb194",
   "metadata": {},
   "outputs": [],
   "source": [
    "import pandas as pd\n",
    "import numpy as np\n",
    "import matplotlib.pyplot as plt\n",
    "import re\n",
    "import urllib.request\n",
    "from konlpy.tag import Okt\n",
    "from tqdm import tqdm"
   ]
  },
  {
   "cell_type": "markdown",
   "id": "b974f47d",
   "metadata": {},
   "source": [
    "#### 1) 데이터 로드"
   ]
  },
  {
   "cell_type": "code",
   "execution_count": 29,
   "id": "de8ad8aa",
   "metadata": {},
   "outputs": [
    {
     "data": {
      "text/plain": [
       "('ratings_test.txt', <http.client.HTTPMessage at 0x7f60235bc7c0>)"
      ]
     },
     "execution_count": 29,
     "metadata": {},
     "output_type": "execute_result"
    }
   ],
   "source": [
    "urllib.request.urlretrieve(\"https://raw.githubusercontent.com/e9t/nsmc/master/ratings_train.txt\", filename=\"ratings_train.txt\")   # 훈련 데이터\n",
    "urllib.request.urlretrieve(\"https://raw.githubusercontent.com/e9t/nsmc/master/ratings_test.txt\", filename=\"ratings_test.txt\")   # 테스트 데이터"
   ]
  },
  {
   "cell_type": "code",
   "execution_count": 30,
   "id": "d268913e",
   "metadata": {},
   "outputs": [],
   "source": [
    "# 판다스를 이용하여 훈련데이터는 train_data, 테스트 데이터는 test_data에 저장\n",
    "train_data = pd.read_table('ratings_train.txt')\n",
    "test_data = pd.read_table('ratings_test.txt')"
   ]
  },
  {
   "cell_type": "code",
   "execution_count": 31,
   "id": "65c7302a",
   "metadata": {},
   "outputs": [
    {
     "name": "stdout",
     "output_type": "stream",
     "text": [
      "훈련용 리뷰 개수 : 150000\n"
     ]
    }
   ],
   "source": [
    "# 영화 리뷰 개수, 샘플 확인 - train_data\n",
    "print('훈련용 리뷰 개수 :',len(train_data)) # 훈련용 리뷰 개수 출력"
   ]
  },
  {
   "cell_type": "code",
   "execution_count": 32,
   "id": "a4012404",
   "metadata": {},
   "outputs": [
    {
     "data": {
      "text/html": [
       "<div>\n",
       "<style scoped>\n",
       "    .dataframe tbody tr th:only-of-type {\n",
       "        vertical-align: middle;\n",
       "    }\n",
       "\n",
       "    .dataframe tbody tr th {\n",
       "        vertical-align: top;\n",
       "    }\n",
       "\n",
       "    .dataframe thead th {\n",
       "        text-align: right;\n",
       "    }\n",
       "</style>\n",
       "<table border=\"1\" class=\"dataframe\">\n",
       "  <thead>\n",
       "    <tr style=\"text-align: right;\">\n",
       "      <th></th>\n",
       "      <th>id</th>\n",
       "      <th>document</th>\n",
       "      <th>label</th>\n",
       "    </tr>\n",
       "  </thead>\n",
       "  <tbody>\n",
       "    <tr>\n",
       "      <th>0</th>\n",
       "      <td>9976970</td>\n",
       "      <td>아 더빙.. 진짜 짜증나네요 목소리</td>\n",
       "      <td>0</td>\n",
       "    </tr>\n",
       "    <tr>\n",
       "      <th>1</th>\n",
       "      <td>3819312</td>\n",
       "      <td>흠...포스터보고 초딩영화줄....오버연기조차 가볍지 않구나</td>\n",
       "      <td>1</td>\n",
       "    </tr>\n",
       "    <tr>\n",
       "      <th>2</th>\n",
       "      <td>10265843</td>\n",
       "      <td>너무재밓었다그래서보는것을추천한다</td>\n",
       "      <td>0</td>\n",
       "    </tr>\n",
       "    <tr>\n",
       "      <th>3</th>\n",
       "      <td>9045019</td>\n",
       "      <td>교도소 이야기구먼 ..솔직히 재미는 없다..평점 조정</td>\n",
       "      <td>0</td>\n",
       "    </tr>\n",
       "    <tr>\n",
       "      <th>4</th>\n",
       "      <td>6483659</td>\n",
       "      <td>사이몬페그의 익살스런 연기가 돋보였던 영화!스파이더맨에서 늙어보이기만 했던 커스틴 ...</td>\n",
       "      <td>1</td>\n",
       "    </tr>\n",
       "  </tbody>\n",
       "</table>\n",
       "</div>"
      ],
      "text/plain": [
       "         id                                           document  label\n",
       "0   9976970                                아 더빙.. 진짜 짜증나네요 목소리      0\n",
       "1   3819312                  흠...포스터보고 초딩영화줄....오버연기조차 가볍지 않구나      1\n",
       "2  10265843                                  너무재밓었다그래서보는것을추천한다      0\n",
       "3   9045019                      교도소 이야기구먼 ..솔직히 재미는 없다..평점 조정      0\n",
       "4   6483659  사이몬페그의 익살스런 연기가 돋보였던 영화!스파이더맨에서 늙어보이기만 했던 커스틴 ...      1"
      ]
     },
     "execution_count": 32,
     "metadata": {},
     "output_type": "execute_result"
    }
   ],
   "source": [
    "train_data[:5] # 상위 5개 출력"
   ]
  },
  {
   "cell_type": "code",
   "execution_count": 33,
   "id": "78e1c506",
   "metadata": {},
   "outputs": [
    {
     "name": "stdout",
     "output_type": "stream",
     "text": [
      "테스트용 리뷰 개수 : 50000\n"
     ]
    }
   ],
   "source": [
    "# 영화 리뷰 개수, 샘플 확인 - test_data\n",
    "print('테스트용 리뷰 개수 :',len(test_data)) # 테스트용 리뷰 개수 출력"
   ]
  },
  {
   "cell_type": "code",
   "execution_count": 34,
   "id": "0ee05501",
   "metadata": {},
   "outputs": [
    {
     "data": {
      "text/html": [
       "<div>\n",
       "<style scoped>\n",
       "    .dataframe tbody tr th:only-of-type {\n",
       "        vertical-align: middle;\n",
       "    }\n",
       "\n",
       "    .dataframe tbody tr th {\n",
       "        vertical-align: top;\n",
       "    }\n",
       "\n",
       "    .dataframe thead th {\n",
       "        text-align: right;\n",
       "    }\n",
       "</style>\n",
       "<table border=\"1\" class=\"dataframe\">\n",
       "  <thead>\n",
       "    <tr style=\"text-align: right;\">\n",
       "      <th></th>\n",
       "      <th>id</th>\n",
       "      <th>document</th>\n",
       "      <th>label</th>\n",
       "    </tr>\n",
       "  </thead>\n",
       "  <tbody>\n",
       "    <tr>\n",
       "      <th>0</th>\n",
       "      <td>6270596</td>\n",
       "      <td>굳 ㅋ</td>\n",
       "      <td>1</td>\n",
       "    </tr>\n",
       "    <tr>\n",
       "      <th>1</th>\n",
       "      <td>9274899</td>\n",
       "      <td>GDNTOPCLASSINTHECLUB</td>\n",
       "      <td>0</td>\n",
       "    </tr>\n",
       "    <tr>\n",
       "      <th>2</th>\n",
       "      <td>8544678</td>\n",
       "      <td>뭐야 이 평점들은.... 나쁘진 않지만 10점 짜리는 더더욱 아니잖아</td>\n",
       "      <td>0</td>\n",
       "    </tr>\n",
       "    <tr>\n",
       "      <th>3</th>\n",
       "      <td>6825595</td>\n",
       "      <td>지루하지는 않은데 완전 막장임... 돈주고 보기에는....</td>\n",
       "      <td>0</td>\n",
       "    </tr>\n",
       "    <tr>\n",
       "      <th>4</th>\n",
       "      <td>6723715</td>\n",
       "      <td>3D만 아니었어도 별 다섯 개 줬을텐데.. 왜 3D로 나와서 제 심기를 불편하게 하죠??</td>\n",
       "      <td>0</td>\n",
       "    </tr>\n",
       "  </tbody>\n",
       "</table>\n",
       "</div>"
      ],
      "text/plain": [
       "        id                                           document  label\n",
       "0  6270596                                                굳 ㅋ      1\n",
       "1  9274899                               GDNTOPCLASSINTHECLUB      0\n",
       "2  8544678             뭐야 이 평점들은.... 나쁘진 않지만 10점 짜리는 더더욱 아니잖아      0\n",
       "3  6825595                   지루하지는 않은데 완전 막장임... 돈주고 보기에는....      0\n",
       "4  6723715  3D만 아니었어도 별 다섯 개 줬을텐데.. 왜 3D로 나와서 제 심기를 불편하게 하죠??      0"
      ]
     },
     "execution_count": 34,
     "metadata": {},
     "output_type": "execute_result"
    }
   ],
   "source": [
    "test_data[:5]"
   ]
  },
  {
   "cell_type": "markdown",
   "id": "861092f8",
   "metadata": {},
   "source": [
    "#### 2) 데이터 정제"
   ]
  },
  {
   "cell_type": "code",
   "execution_count": 35,
   "id": "cd145c0b",
   "metadata": {},
   "outputs": [
    {
     "data": {
      "text/plain": [
       "(146182, 2)"
      ]
     },
     "execution_count": 35,
     "metadata": {},
     "output_type": "execute_result"
    }
   ],
   "source": [
    "# train_data의 데이터 중복 유무 확인\n",
    "# document 열과 label 열의 중복을 제외한 값의 개수\n",
    "train_data['document'].nunique(), train_data['label'].nunique()"
   ]
  },
  {
   "cell_type": "code",
   "execution_count": 36,
   "id": "0e37ea75",
   "metadata": {},
   "outputs": [],
   "source": [
    "# document 열의 중복 제거\n",
    "train_data.drop_duplicates(subset=['document'], inplace=True)"
   ]
  },
  {
   "cell_type": "code",
   "execution_count": 37,
   "id": "12c3e90b",
   "metadata": {},
   "outputs": [
    {
     "name": "stdout",
     "output_type": "stream",
     "text": [
      "총 샘플의 수 : 146183\n"
     ]
    }
   ],
   "source": [
    "print('총 샘플의 수 :',len(train_data))"
   ]
  },
  {
   "cell_type": "code",
   "execution_count": 38,
   "id": "cb4bcc19",
   "metadata": {},
   "outputs": [
    {
     "data": {
      "text/plain": [
       "<AxesSubplot:>"
      ]
     },
     "execution_count": 38,
     "metadata": {},
     "output_type": "execute_result"
    },
    {
     "data": {
      "image/png": "[encoded data removed]",
      "text/plain": [
       "<Figure size 432x288 with 1 Axes>"
      ]
     },
     "metadata": {
      "needs_background": "light"
     },
     "output_type": "display_data"
    }
   ],
   "source": [
    "train_data['label'].value_counts().plot(kind = 'bar')"
   ]
  },
  {
   "cell_type": "code",
   "execution_count": 39,
   "id": "c835e669",
   "metadata": {},
   "outputs": [
    {
     "name": "stdout",
     "output_type": "stream",
     "text": [
      "   label  count\n",
      "0      0  73342\n",
      "1      1  72841\n"
     ]
    }
   ],
   "source": [
    "print(train_data.groupby('label').size().reset_index(name = 'count'))"
   ]
  },
  {
   "cell_type": "code",
   "execution_count": 40,
   "id": "1e6adab5",
   "metadata": {},
   "outputs": [
    {
     "name": "stdout",
     "output_type": "stream",
     "text": [
      "146183\n"
     ]
    }
   ],
   "source": [
    "print(len(train_data))"
   ]
  },
  {
   "cell_type": "code",
   "execution_count": 41,
   "id": "5a0aa73c",
   "metadata": {},
   "outputs": [
    {
     "name": "stdout",
     "output_type": "stream",
     "text": [
      "do you expect people to read the FAQ etc and actually accept hard atheism\n"
     ]
    }
   ],
   "source": [
    "#알파벳과 공백을 제외하고 모두 제거\n",
    "eng_text = 'do!!! you expect... people~ to~ read~ the FAQ, etc. and actually accept hard~! atheism?@@'\n",
    "print(re.sub(r'[^a-zA-Z ]', '', eng_text))"
   ]
  },
  {
   "cell_type": "code",
   "execution_count": 42,
   "id": "442c43c2",
   "metadata": {},
   "outputs": [
    {
     "name": "stderr",
     "output_type": "stream",
     "text": [
      "/tmp/ipykernel_14/3525229848.py:2: FutureWarning: The default value of regex will change from True to False in a future version.\n",
      "  train_data['document'] = train_data['document'].str.replace(\"[^ㄱ-ㅎㅏ-ㅣ가-힣 ]\",\"\")\n"
     ]
    },
    {
     "data": {
      "text/html": [
       "<div>\n",
       "<style scoped>\n",
       "    .dataframe tbody tr th:only-of-type {\n",
       "        vertical-align: middle;\n",
       "    }\n",
       "\n",
       "    .dataframe tbody tr th {\n",
       "        vertical-align: top;\n",
       "    }\n",
       "\n",
       "    .dataframe thead th {\n",
       "        text-align: right;\n",
       "    }\n",
       "</style>\n",
       "<table border=\"1\" class=\"dataframe\">\n",
       "  <thead>\n",
       "    <tr style=\"text-align: right;\">\n",
       "      <th></th>\n",
       "      <th>id</th>\n",
       "      <th>document</th>\n",
       "      <th>label</th>\n",
       "    </tr>\n",
       "  </thead>\n",
       "  <tbody>\n",
       "    <tr>\n",
       "      <th>0</th>\n",
       "      <td>9976970</td>\n",
       "      <td>아 더빙 진짜 짜증나네요 목소리</td>\n",
       "      <td>0</td>\n",
       "    </tr>\n",
       "    <tr>\n",
       "      <th>1</th>\n",
       "      <td>3819312</td>\n",
       "      <td>흠포스터보고 초딩영화줄오버연기조차 가볍지 않구나</td>\n",
       "      <td>1</td>\n",
       "    </tr>\n",
       "    <tr>\n",
       "      <th>2</th>\n",
       "      <td>10265843</td>\n",
       "      <td>너무재밓었다그래서보는것을추천한다</td>\n",
       "      <td>0</td>\n",
       "    </tr>\n",
       "    <tr>\n",
       "      <th>3</th>\n",
       "      <td>9045019</td>\n",
       "      <td>교도소 이야기구먼 솔직히 재미는 없다평점 조정</td>\n",
       "      <td>0</td>\n",
       "    </tr>\n",
       "    <tr>\n",
       "      <th>4</th>\n",
       "      <td>6483659</td>\n",
       "      <td>사이몬페그의 익살스런 연기가 돋보였던 영화스파이더맨에서 늙어보이기만 했던 커스틴 던...</td>\n",
       "      <td>1</td>\n",
       "    </tr>\n",
       "  </tbody>\n",
       "</table>\n",
       "</div>"
      ],
      "text/plain": [
       "         id                                           document  label\n",
       "0   9976970                                  아 더빙 진짜 짜증나네요 목소리      0\n",
       "1   3819312                         흠포스터보고 초딩영화줄오버연기조차 가볍지 않구나      1\n",
       "2  10265843                                  너무재밓었다그래서보는것을추천한다      0\n",
       "3   9045019                          교도소 이야기구먼 솔직히 재미는 없다평점 조정      0\n",
       "4   6483659  사이몬페그의 익살스런 연기가 돋보였던 영화스파이더맨에서 늙어보이기만 했던 커스틴 던...      1"
      ]
     },
     "execution_count": 42,
     "metadata": {},
     "output_type": "execute_result"
    }
   ],
   "source": [
    "# 한글과 공백을 제외하고 모두 제거\n",
    "train_data['document'] = train_data['document'].str.replace(\"[^ㄱ-ㅎㅏ-ㅣ가-힣 ]\",\"\")\n",
    "train_data[:5]"
   ]
  },
  {
   "cell_type": "code",
   "execution_count": 43,
   "id": "4cebd279",
   "metadata": {},
   "outputs": [
    {
     "name": "stdout",
     "output_type": "stream",
     "text": [
      "id            0\n",
      "document    790\n",
      "label         0\n",
      "dtype: int64\n"
     ]
    },
    {
     "name": "stderr",
     "output_type": "stream",
     "text": [
      "/tmp/ipykernel_14/2260017223.py:1: FutureWarning: The default value of regex will change from True to False in a future version.\n",
      "  train_data['document'] = train_data['document'].str.replace('^ +', \"\") # white space 데이터를 empty value로 변경\n"
     ]
    }
   ],
   "source": [
    "train_data['document'] = train_data['document'].str.replace('^ +', \"\") # white space 데이터를 empty value로 변경\n",
    "train_data['document'].replace('', np.nan, inplace=True)\n",
    "print(train_data.isnull().sum())"
   ]
  },
  {
   "cell_type": "code",
   "execution_count": 49,
   "id": "87a00b3c",
   "metadata": {},
   "outputs": [
    {
     "data": {
      "text/html": [
       "<div>\n",
       "<style scoped>\n",
       "    .dataframe tbody tr th:only-of-type {\n",
       "        vertical-align: middle;\n",
       "    }\n",
       "\n",
       "    .dataframe tbody tr th {\n",
       "        vertical-align: top;\n",
       "    }\n",
       "\n",
       "    .dataframe thead th {\n",
       "        text-align: right;\n",
       "    }\n",
       "</style>\n",
       "<table border=\"1\" class=\"dataframe\">\n",
       "  <thead>\n",
       "    <tr style=\"text-align: right;\">\n",
       "      <th></th>\n",
       "      <th>id</th>\n",
       "      <th>document</th>\n",
       "      <th>label</th>\n",
       "    </tr>\n",
       "  </thead>\n",
       "  <tbody>\n",
       "  </tbody>\n",
       "</table>\n",
       "</div>"
      ],
      "text/plain": [
       "Empty DataFrame\n",
       "Columns: [id, document, label]\n",
       "Index: []"
      ]
     },
     "execution_count": 49,
     "metadata": {},
     "output_type": "execute_result"
    }
   ],
   "source": [
    "train_data.loc[train_data.document.isnull()][:5]"
   ]
  },
  {
   "cell_type": "code",
   "execution_count": 50,
   "id": "0f2d29f0",
   "metadata": {},
   "outputs": [
    {
     "name": "stdout",
     "output_type": "stream",
     "text": [
      "145393\n"
     ]
    }
   ],
   "source": [
    "train_data = train_data.dropna(how = 'any')\n",
    "print(len(train_data))"
   ]
  },
  {
   "cell_type": "code",
   "execution_count": 71,
   "id": "4a60f167",
   "metadata": {},
   "outputs": [
    {
     "name": "stdout",
     "output_type": "stream",
     "text": [
      "전처리 후 테스트용 샘플의 개수 : 48389\n"
     ]
    },
    {
     "name": "stderr",
     "output_type": "stream",
     "text": [
      "/tmp/ipykernel_14/1415160361.py:4: FutureWarning: The default value of regex will change from True to False in a future version.\n",
      "  test_data['document'] = test_data['document'].str.replace(\"[^ㄱ-ㅎㅏ-ㅣ가-힣 ]\",\"\") # 정규 표현식 수행\n",
      "/tmp/ipykernel_14/1415160361.py:5: FutureWarning: The default value of regex will change from True to False in a future version.\n",
      "  test_data['document'] = test_data['document'].str.replace('^ +', \"\") # 공백은 empty 값으로 변경\n"
     ]
    }
   ],
   "source": [
    "# 테스트 데이터에도 위 정제 과정을 동일하게 진행\n",
    "\n",
    "test_data.drop_duplicates(subset = ['document'], inplace=True) # document 열에서 중복인 내용이 있다면 중복 제거\n",
    "test_data['document'] = test_data['document'].str.replace(\"[^ㄱ-ㅎㅏ-ㅣ가-힣 ]\",\"\") # 정규 표현식 수행\n",
    "test_data['document'] = test_data['document'].str.replace('^ +', \"\") # 공백은 empty 값으로 변경\n",
    "test_data['document'].replace('', np.nan, inplace=True) # 공백은 Null 값으로 변경\n",
    "test_data = test_data.dropna(how='any') # Null 값 제거\n",
    "print('전처리 후 테스트용 샘플의 개수 :',len(test_data))"
   ]
  },
  {
   "cell_type": "code",
   "execution_count": 62,
   "id": "2fe9ccc6",
   "metadata": {},
   "outputs": [],
   "source": [
    "X_train = np.array(train_data['document'])\n",
    "y_train = np.array(train_data['label'])"
   ]
  },
  {
   "cell_type": "code",
   "execution_count": 75,
   "id": "9944db4b",
   "metadata": {
    "scrolled": false
   },
   "outputs": [
    {
     "data": {
      "text/plain": [
       "array(['아 더빙 진짜 짜증나네요 목소리', '흠포스터보고 초딩영화줄오버연기조차 가볍지 않구나',\n",
       "       '너무재밓었다그래서보는것을추천한다', ..., '이게 뭐요 한국인은 거들먹거리고 필리핀 혼혈은 착하다',\n",
       "       '청춘 영화의 최고봉방황과 우울했던 날들의 자화상', '한국 영화 최초로 수간하는 내용이 담긴 영화'],\n",
       "      dtype=object)"
      ]
     },
     "execution_count": 75,
     "metadata": {},
     "output_type": "execute_result"
    }
   ],
   "source": [
    "X_train"
   ]
  },
  {
   "cell_type": "code",
   "execution_count": 76,
   "id": "43c09eb2",
   "metadata": {},
   "outputs": [],
   "source": [
    "# # 위 트레인 데이터를 인코딩하고싶은데 오류가 남\n",
    "\n",
    "# X_train = []\n",
    "# for sentence in train_data['document']: \n",
    "#     temp_X = s.EncodeAsIds(sentence) # 노드에서 소개해준 tokensIDs = s.EncodeAsIds\n",
    "#     X_train.append(temp_X)\n",
    "\n",
    "\n",
    "\n",
    "# [solution] list로 전환한 뒤 적용\n",
    "X_train,X_train_word_index, X_train_index_word = sp_tokenize(s, train_data['document'])"
   ]
  },
  {
   "cell_type": "code",
   "execution_count": 78,
   "id": "3ea0c146",
   "metadata": {},
   "outputs": [],
   "source": [
    "# list 상태 ==> ndarray로 바꿔주기\n",
    "y_train = np.array(list(train_data['label']))"
   ]
  },
  {
   "cell_type": "code",
   "execution_count": 79,
   "id": "fe74a0fa",
   "metadata": {},
   "outputs": [
    {
     "name": "stdout",
     "output_type": "stream",
     "text": [
      "[[   7 1059   54 2425   39 1972    0    0    0    0    0    0    0    0\n",
      "     0    0    0    0    0    0    0    0    0    0    0    0    0    0\n",
      "     0    0    0    0    0    0    0    0    0    0    0    0    0    0\n",
      "     0    0    0    0    0    0    0    0    0    0    0    0    0    0\n",
      "     0    0    0    0    0    0    0    0    0    0    0    0    0    0\n",
      "     0    0    0    0    0    0    0    0    0    0    0    0    0    0\n",
      "     0    0    0    0    0    0    0    0    0    0    0    0    0    0\n",
      "     0    0    0    0    0    0    0    0    0    0    0    0    0    0\n",
      "     0    0    0    0    0    0    0    0    0    0]\n",
      " [1649 3478  527  164 1271    4 3497 3348 3460  271 1759 1933 3281   67\n",
      "   403    0    0    0    0    0    0    0    0    0    0    0    0    0\n",
      "     0    0    0    0    0    0    0    0    0    0    0    0    0    0\n",
      "     0    0    0    0    0    0    0    0    0    0    0    0    0    0\n",
      "     0    0    0    0    0    0    0    0    0    0    0    0    0    0\n",
      "     0    0    0    0    0    0    0    0    0    0    0    0    0    0\n",
      "     0    0    0    0    0    0    0    0    0    0    0    0    0    0\n",
      "     0    0    0    0    0    0    0    0    0    0    0    0    0    0\n",
      "     0    0    0    0    0    0    0    0    0    0]\n",
      " [  23 3310 4959  110 1027 3304  409 1218 1814  281    0    0    0    0\n",
      "     0    0    0    0    0    0    0    0    0    0    0    0    0    0\n",
      "     0    0    0    0    0    0    0    0    0    0    0    0    0    0\n",
      "     0    0    0    0    0    0    0    0    0    0    0    0    0    0\n",
      "     0    0    0    0    0    0    0    0    0    0    0    0    0    0\n",
      "     0    0    0    0    0    0    0    0    0    0    0    0    0    0\n",
      "     0    0    0    0    0    0    0    0    0    0    0    0    0    0\n",
      "     0    0    0    0    0    0    0    0    0    0    0    0    0    0\n",
      "     0    0    0    0    0    0    0    0    0    0]]\n"
     ]
    }
   ],
   "source": [
    "print(X_train[:3])"
   ]
  },
  {
   "cell_type": "code",
   "execution_count": 80,
   "id": "4a1e4557",
   "metadata": {},
   "outputs": [
    {
     "name": "stdout",
     "output_type": "stream",
     "text": [
      "학습데이터 : 145393\n",
      "타겟데이터 : 145393\n"
     ]
    }
   ],
   "source": [
    "print(\"학습데이터 :\",len(X_train))\n",
    "print(\"타겟데이터 :\",len(y_train))"
   ]
  },
  {
   "cell_type": "code",
   "execution_count": 81,
   "id": "3c6571fd",
   "metadata": {},
   "outputs": [
    {
     "name": "stdout",
     "output_type": "stream",
     "text": [
      "Epoch 1/15\n",
      "1818/1818 [==============================] - 603s 330ms/step - loss: 0.6933 - acc: 0.5005 - val_loss: 0.6932 - val_acc: 0.4955\n",
      "\n",
      "Epoch 00001: val_acc improved from -inf to 0.49555, saving model to best_model.h5\n",
      "Epoch 2/15\n",
      "1818/1818 [==============================] - 603s 332ms/step - loss: 0.6934 - acc: 0.4984 - val_loss: 0.6931 - val_acc: 0.5045\n",
      "\n",
      "Epoch 00002: val_acc improved from 0.49555 to 0.50445, saving model to best_model.h5\n",
      "Epoch 3/15\n",
      "1818/1818 [==============================] - 604s 332ms/step - loss: 0.6932 - acc: 0.5014 - val_loss: 0.6933 - val_acc: 0.4955\n",
      "\n",
      "Epoch 00003: val_acc did not improve from 0.50445\n",
      "Epoch 4/15\n",
      " 672/1818 [==========>...................] - ETA: 5:49 - loss: 0.6933 - acc: 0.4995"
     ]
    },
    {
     "ename": "KeyboardInterrupt",
     "evalue": "",
     "output_type": "error",
     "traceback": [
      "\u001b[0;31m---------------------------------------------------------------------------\u001b[0m",
      "\u001b[0;31mKeyboardInterrupt\u001b[0m                         Traceback (most recent call last)",
      "\u001b[0;32m/tmp/ipykernel_14/3985332818.py\u001b[0m in \u001b[0;36m<module>\u001b[0;34m\u001b[0m\n\u001b[1;32m     16\u001b[0m \u001b[0;34m\u001b[0m\u001b[0m\n\u001b[1;32m     17\u001b[0m \u001b[0mmodel\u001b[0m\u001b[0;34m.\u001b[0m\u001b[0mcompile\u001b[0m\u001b[0;34m(\u001b[0m\u001b[0moptimizer\u001b[0m\u001b[0;34m=\u001b[0m\u001b[0;34m'rmsprop'\u001b[0m\u001b[0;34m,\u001b[0m \u001b[0mloss\u001b[0m\u001b[0;34m=\u001b[0m\u001b[0;34m'binary_crossentropy'\u001b[0m\u001b[0;34m,\u001b[0m \u001b[0mmetrics\u001b[0m\u001b[0;34m=\u001b[0m\u001b[0;34m[\u001b[0m\u001b[0;34m'acc'\u001b[0m\u001b[0;34m]\u001b[0m\u001b[0;34m)\u001b[0m\u001b[0;34m\u001b[0m\u001b[0;34m\u001b[0m\u001b[0m\n\u001b[0;32m---> 18\u001b[0;31m \u001b[0mhistory\u001b[0m \u001b[0;34m=\u001b[0m \u001b[0mmodel\u001b[0m\u001b[0;34m.\u001b[0m\u001b[0mfit\u001b[0m\u001b[0;34m(\u001b[0m\u001b[0mX_train\u001b[0m\u001b[0;34m,\u001b[0m \u001b[0my_train\u001b[0m\u001b[0;34m,\u001b[0m \u001b[0mepochs\u001b[0m\u001b[0;34m=\u001b[0m\u001b[0;36m15\u001b[0m\u001b[0;34m,\u001b[0m \u001b[0mcallbacks\u001b[0m\u001b[0;34m=\u001b[0m\u001b[0;34m[\u001b[0m\u001b[0mes\u001b[0m\u001b[0;34m,\u001b[0m \u001b[0mmc\u001b[0m\u001b[0;34m]\u001b[0m\u001b[0;34m,\u001b[0m \u001b[0mbatch_size\u001b[0m\u001b[0;34m=\u001b[0m\u001b[0;36m64\u001b[0m\u001b[0;34m,\u001b[0m \u001b[0mvalidation_split\u001b[0m\u001b[0;34m=\u001b[0m\u001b[0;36m0.2\u001b[0m\u001b[0;34m)\u001b[0m\u001b[0;34m\u001b[0m\u001b[0;34m\u001b[0m\u001b[0m\n\u001b[0m",
      "\u001b[0;32m/opt/conda/lib/python3.9/site-packages/keras/engine/training.py\u001b[0m in \u001b[0;36mfit\u001b[0;34m(self, x, y, batch_size, epochs, verbose, callbacks, validation_split, validation_data, shuffle, class_weight, sample_weight, initial_epoch, steps_per_epoch, validation_steps, validation_batch_size, validation_freq, max_queue_size, workers, use_multiprocessing)\u001b[0m\n\u001b[1;32m   1182\u001b[0m                 _r=1):\n\u001b[1;32m   1183\u001b[0m               \u001b[0mcallbacks\u001b[0m\u001b[0;34m.\u001b[0m\u001b[0mon_train_batch_begin\u001b[0m\u001b[0;34m(\u001b[0m\u001b[0mstep\u001b[0m\u001b[0;34m)\u001b[0m\u001b[0;34m\u001b[0m\u001b[0;34m\u001b[0m\u001b[0m\n\u001b[0;32m-> 1184\u001b[0;31m               \u001b[0mtmp_logs\u001b[0m \u001b[0;34m=\u001b[0m \u001b[0mself\u001b[0m\u001b[0;34m.\u001b[0m\u001b[0mtrain_function\u001b[0m\u001b[0;34m(\u001b[0m\u001b[0miterator\u001b[0m\u001b[0;34m)\u001b[0m\u001b[0;34m\u001b[0m\u001b[0;34m\u001b[0m\u001b[0m\n\u001b[0m\u001b[1;32m   1185\u001b[0m               \u001b[0;32mif\u001b[0m \u001b[0mdata_handler\u001b[0m\u001b[0;34m.\u001b[0m\u001b[0mshould_sync\u001b[0m\u001b[0;34m:\u001b[0m\u001b[0;34m\u001b[0m\u001b[0;34m\u001b[0m\u001b[0m\n\u001b[1;32m   1186\u001b[0m                 \u001b[0mcontext\u001b[0m\u001b[0;34m.\u001b[0m\u001b[0masync_wait\u001b[0m\u001b[0;34m(\u001b[0m\u001b[0;34m)\u001b[0m\u001b[0;34m\u001b[0m\u001b[0;34m\u001b[0m\u001b[0m\n",
      "\u001b[0;32m/opt/conda/lib/python3.9/site-packages/tensorflow/python/eager/def_function.py\u001b[0m in \u001b[0;36m__call__\u001b[0;34m(self, *args, **kwds)\u001b[0m\n\u001b[1;32m    883\u001b[0m \u001b[0;34m\u001b[0m\u001b[0m\n\u001b[1;32m    884\u001b[0m       \u001b[0;32mwith\u001b[0m \u001b[0mOptionalXlaContext\u001b[0m\u001b[0;34m(\u001b[0m\u001b[0mself\u001b[0m\u001b[0;34m.\u001b[0m\u001b[0m_jit_compile\u001b[0m\u001b[0;34m)\u001b[0m\u001b[0;34m:\u001b[0m\u001b[0;34m\u001b[0m\u001b[0;34m\u001b[0m\u001b[0m\n\u001b[0;32m--> 885\u001b[0;31m         \u001b[0mresult\u001b[0m \u001b[0;34m=\u001b[0m \u001b[0mself\u001b[0m\u001b[0;34m.\u001b[0m\u001b[0m_call\u001b[0m\u001b[0;34m(\u001b[0m\u001b[0;34m*\u001b[0m\u001b[0margs\u001b[0m\u001b[0;34m,\u001b[0m \u001b[0;34m**\u001b[0m\u001b[0mkwds\u001b[0m\u001b[0;34m)\u001b[0m\u001b[0;34m\u001b[0m\u001b[0;34m\u001b[0m\u001b[0m\n\u001b[0m\u001b[1;32m    886\u001b[0m \u001b[0;34m\u001b[0m\u001b[0m\n\u001b[1;32m    887\u001b[0m       \u001b[0mnew_tracing_count\u001b[0m \u001b[0;34m=\u001b[0m \u001b[0mself\u001b[0m\u001b[0;34m.\u001b[0m\u001b[0mexperimental_get_tracing_count\u001b[0m\u001b[0;34m(\u001b[0m\u001b[0;34m)\u001b[0m\u001b[0;34m\u001b[0m\u001b[0;34m\u001b[0m\u001b[0m\n",
      "\u001b[0;32m/opt/conda/lib/python3.9/site-packages/tensorflow/python/eager/def_function.py\u001b[0m in \u001b[0;36m_call\u001b[0;34m(self, *args, **kwds)\u001b[0m\n\u001b[1;32m    915\u001b[0m       \u001b[0;31m# In this case we have created variables on the first call, so we run the\u001b[0m\u001b[0;34m\u001b[0m\u001b[0;34m\u001b[0m\u001b[0m\n\u001b[1;32m    916\u001b[0m       \u001b[0;31m# defunned version which is guaranteed to never create variables.\u001b[0m\u001b[0;34m\u001b[0m\u001b[0;34m\u001b[0m\u001b[0m\n\u001b[0;32m--> 917\u001b[0;31m       \u001b[0;32mreturn\u001b[0m \u001b[0mself\u001b[0m\u001b[0;34m.\u001b[0m\u001b[0m_stateless_fn\u001b[0m\u001b[0;34m(\u001b[0m\u001b[0;34m*\u001b[0m\u001b[0margs\u001b[0m\u001b[0;34m,\u001b[0m \u001b[0;34m**\u001b[0m\u001b[0mkwds\u001b[0m\u001b[0;34m)\u001b[0m  \u001b[0;31m# pylint: disable=not-callable\u001b[0m\u001b[0;34m\u001b[0m\u001b[0;34m\u001b[0m\u001b[0m\n\u001b[0m\u001b[1;32m    918\u001b[0m     \u001b[0;32melif\u001b[0m \u001b[0mself\u001b[0m\u001b[0;34m.\u001b[0m\u001b[0m_stateful_fn\u001b[0m \u001b[0;32mis\u001b[0m \u001b[0;32mnot\u001b[0m \u001b[0;32mNone\u001b[0m\u001b[0;34m:\u001b[0m\u001b[0;34m\u001b[0m\u001b[0;34m\u001b[0m\u001b[0m\n\u001b[1;32m    919\u001b[0m       \u001b[0;31m# Release the lock early so that multiple threads can perform the call\u001b[0m\u001b[0;34m\u001b[0m\u001b[0;34m\u001b[0m\u001b[0m\n",
      "\u001b[0;32m/opt/conda/lib/python3.9/site-packages/tensorflow/python/eager/function.py\u001b[0m in \u001b[0;36m__call__\u001b[0;34m(self, *args, **kwargs)\u001b[0m\n\u001b[1;32m   3037\u001b[0m       (graph_function,\n\u001b[1;32m   3038\u001b[0m        filtered_flat_args) = self._maybe_define_function(args, kwargs)\n\u001b[0;32m-> 3039\u001b[0;31m     return graph_function._call_flat(\n\u001b[0m\u001b[1;32m   3040\u001b[0m         filtered_flat_args, captured_inputs=graph_function.captured_inputs)  # pylint: disable=protected-access\n\u001b[1;32m   3041\u001b[0m \u001b[0;34m\u001b[0m\u001b[0m\n",
      "\u001b[0;32m/opt/conda/lib/python3.9/site-packages/tensorflow/python/eager/function.py\u001b[0m in \u001b[0;36m_call_flat\u001b[0;34m(self, args, captured_inputs, cancellation_manager)\u001b[0m\n\u001b[1;32m   1961\u001b[0m         and executing_eagerly):\n\u001b[1;32m   1962\u001b[0m       \u001b[0;31m# No tape is watching; skip to running the function.\u001b[0m\u001b[0;34m\u001b[0m\u001b[0;34m\u001b[0m\u001b[0m\n\u001b[0;32m-> 1963\u001b[0;31m       return self._build_call_outputs(self._inference_function.call(\n\u001b[0m\u001b[1;32m   1964\u001b[0m           ctx, args, cancellation_manager=cancellation_manager))\n\u001b[1;32m   1965\u001b[0m     forward_backward = self._select_forward_and_backward_functions(\n",
      "\u001b[0;32m/opt/conda/lib/python3.9/site-packages/tensorflow/python/eager/function.py\u001b[0m in \u001b[0;36mcall\u001b[0;34m(self, ctx, args, cancellation_manager)\u001b[0m\n\u001b[1;32m    589\u001b[0m       \u001b[0;32mwith\u001b[0m \u001b[0m_InterpolateFunctionError\u001b[0m\u001b[0;34m(\u001b[0m\u001b[0mself\u001b[0m\u001b[0;34m)\u001b[0m\u001b[0;34m:\u001b[0m\u001b[0;34m\u001b[0m\u001b[0;34m\u001b[0m\u001b[0m\n\u001b[1;32m    590\u001b[0m         \u001b[0;32mif\u001b[0m \u001b[0mcancellation_manager\u001b[0m \u001b[0;32mis\u001b[0m \u001b[0;32mNone\u001b[0m\u001b[0;34m:\u001b[0m\u001b[0;34m\u001b[0m\u001b[0;34m\u001b[0m\u001b[0m\n\u001b[0;32m--> 591\u001b[0;31m           outputs = execute.execute(\n\u001b[0m\u001b[1;32m    592\u001b[0m               \u001b[0mstr\u001b[0m\u001b[0;34m(\u001b[0m\u001b[0mself\u001b[0m\u001b[0;34m.\u001b[0m\u001b[0msignature\u001b[0m\u001b[0;34m.\u001b[0m\u001b[0mname\u001b[0m\u001b[0;34m)\u001b[0m\u001b[0;34m,\u001b[0m\u001b[0;34m\u001b[0m\u001b[0;34m\u001b[0m\u001b[0m\n\u001b[1;32m    593\u001b[0m               \u001b[0mnum_outputs\u001b[0m\u001b[0;34m=\u001b[0m\u001b[0mself\u001b[0m\u001b[0;34m.\u001b[0m\u001b[0m_num_outputs\u001b[0m\u001b[0;34m,\u001b[0m\u001b[0;34m\u001b[0m\u001b[0;34m\u001b[0m\u001b[0m\n",
      "\u001b[0;32m/opt/conda/lib/python3.9/site-packages/tensorflow/python/eager/execute.py\u001b[0m in \u001b[0;36mquick_execute\u001b[0;34m(op_name, num_outputs, inputs, attrs, ctx, name)\u001b[0m\n\u001b[1;32m     57\u001b[0m   \u001b[0;32mtry\u001b[0m\u001b[0;34m:\u001b[0m\u001b[0;34m\u001b[0m\u001b[0;34m\u001b[0m\u001b[0m\n\u001b[1;32m     58\u001b[0m     \u001b[0mctx\u001b[0m\u001b[0;34m.\u001b[0m\u001b[0mensure_initialized\u001b[0m\u001b[0;34m(\u001b[0m\u001b[0;34m)\u001b[0m\u001b[0;34m\u001b[0m\u001b[0;34m\u001b[0m\u001b[0m\n\u001b[0;32m---> 59\u001b[0;31m     tensors = pywrap_tfe.TFE_Py_Execute(ctx._handle, device_name, op_name,\n\u001b[0m\u001b[1;32m     60\u001b[0m                                         inputs, attrs, num_outputs)\n\u001b[1;32m     61\u001b[0m   \u001b[0;32mexcept\u001b[0m \u001b[0mcore\u001b[0m\u001b[0;34m.\u001b[0m\u001b[0m_NotOkStatusException\u001b[0m \u001b[0;32mas\u001b[0m \u001b[0me\u001b[0m\u001b[0;34m:\u001b[0m\u001b[0;34m\u001b[0m\u001b[0;34m\u001b[0m\u001b[0m\n",
      "\u001b[0;31mKeyboardInterrupt\u001b[0m: "
     ]
    }
   ],
   "source": [
    "from tensorflow.keras.layers import Embedding, Dense, LSTM\n",
    "from tensorflow.keras.models import Sequential\n",
    "from tensorflow.keras.models import load_model\n",
    "from tensorflow.keras.callbacks import EarlyStopping, ModelCheckpoint\n",
    "\n",
    "embedding_dim = 100\n",
    "hidden_units = 128\n",
    "\n",
    "model = Sequential()\n",
    "model.add(Embedding(vocab_size, embedding_dim))\n",
    "model.add(LSTM(hidden_units))\n",
    "model.add(Dense(1, activation='sigmoid'))\n",
    "\n",
    "es = EarlyStopping(monitor='val_loss', mode='min', verbose=1, patience=4)\n",
    "mc = ModelCheckpoint('best_model.h5', monitor='val_acc', mode='max', verbose=1, save_best_only=True)\n",
    "\n",
    "model.compile(optimizer='rmsprop', loss='binary_crossentropy', metrics=['acc'])\n",
    "history = model.fit(X_train, y_train, epochs=15, callbacks=[es, mc], batch_size=64, validation_split=0.2)"
   ]
  },
  {
   "cell_type": "markdown",
   "id": "88ca3500",
   "metadata": {},
   "source": [
    "# 회고\n",
    "\n",
    "1. NLP는 벼락치기가 불가능하군요,,,, 반성합니다,,,  미리미리 하자 나자신 ㅠ^ㅠ\n",
    "2. NLP는 앞선 내용에 익숙해지지 않으면 뒤로 갈수록 어려워질 수 있다고 하셨는데, 돌아서면 까먹으니 무조건 복습각입니다.\n",
    "3. 한국어를 토큰화할 때 형태소 분석기와 Subword 기반 토큰화 중에서 어떤 것을 선택하면 좋을지에 대해서 자세하게 다뤄주신 부분이 공부가 많이 되었습니다! (엑소브레인의 Bert모델 중 한국어 전용 형태소 분석기 토크나이저를 사용한 버전이 한국어에 특화된 만큼 정확하게 동작한다면 성능이 좋을 수 있지만 현장에서는 SentencePiece같은 Subword기반 토크나이저가 각광받는 이유 - 언어는 계속 변하므로, 정교한 형태소 분석기는 성능을 유지하기 위해서는 지속적으로 데이터를 관리하고 유지보수 작업을 해줘야함. 반면에, SentencePiece모델은 코퍼스데이터에서 쉽게 추출하여 생성 가능하기도 하고, Subword 기반이라 새로 만들어지는 단어에 대한 OOV 문제에서도 robust하게 대처할 수 있다는 강점이 있다는 점 + 언어에 중립적이라 여러 언어가 섞여 나오는 텍스트를 처리하는데에도 능함 + 특정언어에 대한 전문지식이 없이도 엔지니어가 그 언어에 대한 작업을 손쉽게 진행할 수 있음 + 그 언어에 특화된 토크나이저의 성능에 뒤지지 않거나 대체로 능가하는 성능)\n",
    "\n",
    "\n",
    "# 정리\n",
    "https://www.notion.so/2-d3fab03af4a84e03a94621d26860f1aa"
   ]
  }
 ],
 "metadata": {
  "kernelspec": {
   "display_name": "Python 3 (ipykernel)",
   "language": "python",
   "name": "python3"
  },
  "language_info": {
   "codemirror_mode": {
    "name": "ipython",
    "version": 3
   },
   "file_extension": ".py",
   "mimetype": "text/x-python",
   "name": "python",
   "nbconvert_exporter": "python",
   "pygments_lexer": "ipython3",
   "version": "3.9.7"
  }
 },
 "nbformat": 4,
 "nbformat_minor": 5
}
