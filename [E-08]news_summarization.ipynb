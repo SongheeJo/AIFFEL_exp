{
 "cells": [
  {
   "cell_type": "markdown",
   "id": "d0fce663",
   "metadata": {},
   "source": [
    "# 0. 데이터 준비하기\n",
    "* 불용어(stopwords) 제거 작업을 위한 NLTK 패키지 불용어 사전 다운로드\n",
    "* 데이터 전처리를 위한 나머지 패키지 불러오기"
   ]
  },
  {
   "cell_type": "code",
   "execution_count": 1,
   "id": "21b1b4b5",
   "metadata": {},
   "outputs": [
    {
     "name": "stderr",
     "output_type": "stream",
     "text": [
      "[nltk_data] Downloading package stopwords to /aiffel/nltk_data...\n",
      "[nltk_data]   Package stopwords is already up-to-date!\n"
     ]
    },
    {
     "name": "stdout",
     "output_type": "stream",
     "text": [
      "=3\n"
     ]
    }
   ],
   "source": [
    "import nltk    # Latural Language Toolkit, 영어 기호, 통계, 자연어 처리를 위한 라이브러리\n",
    "nltk.download('stopwords')    # 자주 나오지만, 의미 가치가 떨어지는 불용어(stopwords)사전 ex. I, my, me, over, 조사, 접미사\n",
    "\n",
    "import numpy as np\n",
    "import pandas as pd\n",
    "import os\n",
    "import re\n",
    "import matplotlib.pyplot as plt\n",
    "from nltk.corpus import stopwords\n",
    "from bs4 import BeautifulSoup \n",
    "from tensorflow.keras.preprocessing.text import Tokenizer \n",
    "from tensorflow.keras.preprocessing.sequence import pad_sequences\n",
    "import urllib.request\n",
    "import warnings\n",
    "warnings.filterwarnings(\"ignore\", category=UserWarning, module='bs4')\n",
    "\n",
    "print('=3')"
   ]
  },
  {
   "cell_type": "code",
   "execution_count": 2,
   "id": "912b0706",
   "metadata": {},
   "outputs": [],
   "source": [
    "'''\n",
    "data = pd.read_csv(os.getenv(\"HOME\")+\"/aiffel/news_summarization/data/Reviews.csv\", nrows=100000)\n",
    "# 데이터(Reviews.csv)는 총 568,454개의 샘플을 가지고 있지만, 우리는 시간상 (10만 개)의 샘플만 쓰겠다.\n",
    "print('전체 샘플수 :', (len(data)))\n",
    "'''\n",
    "\n",
    "urllib.request.urlretrieve(\"https://raw.githubusercontent.com/sunnysai12345/News_Summary/master/news_summary_more.csv\", filename=\"news_summary_more.csv\")\n",
    "data = pd.read_csv('news_summary_more.csv', encoding='iso-8859-1')"
   ]
  },
  {
   "cell_type": "code",
   "execution_count": 3,
   "id": "398fd4a2",
   "metadata": {},
   "outputs": [
    {
     "data": {
      "text/html": [
       "<div>\n",
       "<style scoped>\n",
       "    .dataframe tbody tr th:only-of-type {\n",
       "        vertical-align: middle;\n",
       "    }\n",
       "\n",
       "    .dataframe tbody tr th {\n",
       "        vertical-align: top;\n",
       "    }\n",
       "\n",
       "    .dataframe thead th {\n",
       "        text-align: right;\n",
       "    }\n",
       "</style>\n",
       "<table border=\"1\" class=\"dataframe\">\n",
       "  <thead>\n",
       "    <tr style=\"text-align: right;\">\n",
       "      <th></th>\n",
       "      <th>headlines</th>\n",
       "      <th>text</th>\n",
       "    </tr>\n",
       "  </thead>\n",
       "  <tbody>\n",
       "    <tr>\n",
       "      <th>0</th>\n",
       "      <td>upGrad learner switches to career in ML &amp; Al w...</td>\n",
       "      <td>Saurav Kant, an alumnus of upGrad and IIIT-B's...</td>\n",
       "    </tr>\n",
       "    <tr>\n",
       "      <th>1</th>\n",
       "      <td>Delhi techie wins free food from Swiggy for on...</td>\n",
       "      <td>Kunal Shah's credit card bill payment platform...</td>\n",
       "    </tr>\n",
       "    <tr>\n",
       "      <th>2</th>\n",
       "      <td>New Zealand end Rohit Sharma-led India's 12-ma...</td>\n",
       "      <td>New Zealand defeated India by 8 wickets in the...</td>\n",
       "    </tr>\n",
       "    <tr>\n",
       "      <th>3</th>\n",
       "      <td>Aegon life iTerm insurance plan helps customer...</td>\n",
       "      <td>With Aegon Life iTerm Insurance plan, customer...</td>\n",
       "    </tr>\n",
       "    <tr>\n",
       "      <th>4</th>\n",
       "      <td>Have known Hirani for yrs, what if MeToo claim...</td>\n",
       "      <td>Speaking about the sexual harassment allegatio...</td>\n",
       "    </tr>\n",
       "  </tbody>\n",
       "</table>\n",
       "</div>"
      ],
      "text/plain": [
       "                                           headlines  \\\n",
       "0  upGrad learner switches to career in ML & Al w...   \n",
       "1  Delhi techie wins free food from Swiggy for on...   \n",
       "2  New Zealand end Rohit Sharma-led India's 12-ma...   \n",
       "3  Aegon life iTerm insurance plan helps customer...   \n",
       "4  Have known Hirani for yrs, what if MeToo claim...   \n",
       "\n",
       "                                                text  \n",
       "0  Saurav Kant, an alumnus of upGrad and IIIT-B's...  \n",
       "1  Kunal Shah's credit card bill payment platform...  \n",
       "2  New Zealand defeated India by 8 wickets in the...  \n",
       "3  With Aegon Life iTerm Insurance plan, customer...  \n",
       "4  Speaking about the sexual harassment allegatio...  "
      ]
     },
     "execution_count": 3,
     "metadata": {},
     "output_type": "execute_result"
    }
   ],
   "source": [
    "# 이 중에 5개만 출력해보자.\n",
    "data.head()"
   ]
  },
  {
   "cell_type": "code",
   "execution_count": 4,
   "id": "d02fc191",
   "metadata": {},
   "outputs": [
    {
     "data": {
      "text/html": [
       "<div>\n",
       "<style scoped>\n",
       "    .dataframe tbody tr th:only-of-type {\n",
       "        vertical-align: middle;\n",
       "    }\n",
       "\n",
       "    .dataframe tbody tr th {\n",
       "        vertical-align: top;\n",
       "    }\n",
       "\n",
       "    .dataframe thead th {\n",
       "        text-align: right;\n",
       "    }\n",
       "</style>\n",
       "<table border=\"1\" class=\"dataframe\">\n",
       "  <thead>\n",
       "    <tr style=\"text-align: right;\">\n",
       "      <th></th>\n",
       "      <th>text</th>\n",
       "      <th>headlines</th>\n",
       "    </tr>\n",
       "  </thead>\n",
       "  <tbody>\n",
       "    <tr>\n",
       "      <th>95780</th>\n",
       "      <td>A Swedish man put his browser history on sale ...</td>\n",
       "      <td>Man puts his own internet browser history on sale</td>\n",
       "    </tr>\n",
       "    <tr>\n",
       "      <th>91571</th>\n",
       "      <td>The Delhi High Court on Wednesday pulled up a ...</td>\n",
       "      <td>Delhi HC pulls up petitioner over food quality...</td>\n",
       "    </tr>\n",
       "    <tr>\n",
       "      <th>26496</th>\n",
       "      <td>Sex addiction has been recognised as a mental ...</td>\n",
       "      <td>WHO classifies sex addiction as mental illness</td>\n",
       "    </tr>\n",
       "    <tr>\n",
       "      <th>33982</th>\n",
       "      <td>Reacting to images of a Spanish woman resembli...</td>\n",
       "      <td>Twitter reacts to Trump's Spanish doppelganger</td>\n",
       "    </tr>\n",
       "    <tr>\n",
       "      <th>59218</th>\n",
       "      <td>Union Minister Mukhtar Abbas Naqvi on Sunday s...</td>\n",
       "      <td>Govt has no intention to introduce Islamic ban...</td>\n",
       "    </tr>\n",
       "    <tr>\n",
       "      <th>85315</th>\n",
       "      <td>In the first-ever study dating Jupiter's age, ...</td>\n",
       "      <td>Jupiter confirmed as the oldest planet in Sola...</td>\n",
       "    </tr>\n",
       "    <tr>\n",
       "      <th>92560</th>\n",
       "      <td>Delhi Congress chief Ajay Maken on Thursday fi...</td>\n",
       "      <td>Congress files corruption complaint against Ke...</td>\n",
       "    </tr>\n",
       "    <tr>\n",
       "      <th>19033</th>\n",
       "      <td>A 38-year-old Navy personnel named Murali Kuma...</td>\n",
       "      <td>Mr Asia, Mr India winner arrested on rape charges</td>\n",
       "    </tr>\n",
       "    <tr>\n",
       "      <th>16712</th>\n",
       "      <td>A female Uber driver in the US has sued Americ...</td>\n",
       "      <td>Female Uber driver sues athlete over groping, ...</td>\n",
       "    </tr>\n",
       "    <tr>\n",
       "      <th>33854</th>\n",
       "      <td>Maharashtra Police on Wednesday said that Shiv...</td>\n",
       "      <td>Shiv Sena leader killed by contract killer hir...</td>\n",
       "    </tr>\n",
       "  </tbody>\n",
       "</table>\n",
       "</div>"
      ],
      "text/plain": [
       "                                                    text  \\\n",
       "95780  A Swedish man put his browser history on sale ...   \n",
       "91571  The Delhi High Court on Wednesday pulled up a ...   \n",
       "26496  Sex addiction has been recognised as a mental ...   \n",
       "33982  Reacting to images of a Spanish woman resembli...   \n",
       "59218  Union Minister Mukhtar Abbas Naqvi on Sunday s...   \n",
       "85315  In the first-ever study dating Jupiter's age, ...   \n",
       "92560  Delhi Congress chief Ajay Maken on Thursday fi...   \n",
       "19033  A 38-year-old Navy personnel named Murali Kuma...   \n",
       "16712  A female Uber driver in the US has sued Americ...   \n",
       "33854  Maharashtra Police on Wednesday said that Shiv...   \n",
       "\n",
       "                                               headlines  \n",
       "95780  Man puts his own internet browser history on sale  \n",
       "91571  Delhi HC pulls up petitioner over food quality...  \n",
       "26496     WHO classifies sex addiction as mental illness  \n",
       "33982     Twitter reacts to Trump's Spanish doppelganger  \n",
       "59218  Govt has no intention to introduce Islamic ban...  \n",
       "85315  Jupiter confirmed as the oldest planet in Sola...  \n",
       "92560  Congress files corruption complaint against Ke...  \n",
       "19033  Mr Asia, Mr India winner arrested on rape charges  \n",
       "16712  Female Uber driver sues athlete over groping, ...  \n",
       "33854  Shiv Sena leader killed by contract killer hir...  "
      ]
     },
     "execution_count": 4,
     "metadata": {},
     "output_type": "execute_result"
    }
   ],
   "source": [
    "# 우리는 훈련에서 Summary와 Text 열만 보면 됨.\n",
    "# ㄴ 인공신경망아!\n",
    "# ㄴ 'text 시퀀스를 입력받으면,\n",
    "# ㄴ headlines 시퀀스를 예측하렴'\n",
    "data = data[['text','headlines']]    # 두 열만 별도로 저장\n",
    "data.head()    # 다시 출력하자\n",
    "\n",
    "#랜덤한 10개 샘플 출력\n",
    "data.sample(10)"
   ]
  },
  {
   "cell_type": "markdown",
   "id": "ede44cc7",
   "metadata": {},
   "source": [
    "# 1. 데이터 전처리\n",
    "## (1) 데이터 정리하기\n",
    "### 중복 샘플과 NULL 값이 존재하는 샘플 제거"
   ]
  },
  {
   "cell_type": "code",
   "execution_count": 5,
   "id": "fe60cbb1",
   "metadata": {},
   "outputs": [
    {
     "name": "stdout",
     "output_type": "stream",
     "text": [
      "text 열에서 중복을 배제한 유일한 샘플의 수 : 98360\n",
      "headlines 열에서 중복을 배제한 유일한 샘플의 수 : 98280\n"
     ]
    }
   ],
   "source": [
    "print('text 열에서 중복을 배제한 유일한 샘플의 수 :', data['text'].nunique())\n",
    "print('headlines 열에서 중복을 배제한 유일한 샘플의 수 :', data['headlines'].nunique())"
   ]
  },
  {
   "cell_type": "code",
   "execution_count": 6,
   "id": "e39898ed",
   "metadata": {},
   "outputs": [
    {
     "name": "stdout",
     "output_type": "stream",
     "text": [
      "전체 샘플수 : 98360\n"
     ]
    }
   ],
   "source": [
    "# text가 중복이 된 샘플 제거 - 데이터프레임의 drop_duplicates() 사용\n",
    "# inplace=True 를 설정하면 DataFrame 타입 값을 return 하지 않고 data 내부를 직접적으로 바꿉니다\n",
    "data.drop_duplicates(subset = ['text'], inplace=True)\n",
    "print('전체 샘플수 :', (len(data)))"
   ]
  },
  {
   "cell_type": "code",
   "execution_count": 7,
   "id": "15d704dc",
   "metadata": {},
   "outputs": [
    {
     "name": "stdout",
     "output_type": "stream",
     "text": [
      "text         0\n",
      "headlines    0\n",
      "dtype: int64\n"
     ]
    }
   ],
   "source": [
    "# 데이터에 혹시 Null값이 남아있나? 확인 - .isnull().sum() 사용\n",
    "print(data.isnull().sum())"
   ]
  },
  {
   "cell_type": "code",
   "execution_count": 8,
   "id": "d6c792f3",
   "metadata": {},
   "outputs": [
    {
     "name": "stdout",
     "output_type": "stream",
     "text": [
      "전체 샘플수 : 98360\n"
     ]
    }
   ],
   "source": [
    "# 데이터프레임에서 Null 제거하기 - dropna() 함수 사용\n",
    "data.dropna(axis=0, inplace=True)\n",
    "print('전체 샘플수 :', (len(data)))"
   ]
  },
  {
   "cell_type": "markdown",
   "id": "309076cf",
   "metadata": {},
   "source": [
    "### 텍스트 정규화와 불용어 제거\n",
    "* 텍스트 정규화? 같은 뜻인 표현(ex. it'll = it will) 합치기 -> 계산량 덜어주기"
   ]
  },
  {
   "cell_type": "code",
   "execution_count": 9,
   "id": "71f865ec",
   "metadata": {},
   "outputs": [
    {
     "name": "stdout",
     "output_type": "stream",
     "text": [
      "정규화 사전의 수:  120\n"
     ]
    }
   ],
   "source": [
    "# 텍스트 정규화\n",
    "contractions = {\"ain't\": \"is not\", \"aren't\": \"are not\",\"can't\": \"cannot\", \"'cause\": \"because\", \"could've\": \"could have\", \"couldn't\": \"could not\",\n",
    "                           \"didn't\": \"did not\",  \"doesn't\": \"does not\", \"don't\": \"do not\", \"hadn't\": \"had not\", \"hasn't\": \"has not\", \"haven't\": \"have not\",\n",
    "                           \"he'd\": \"he would\",\"he'll\": \"he will\", \"he's\": \"he is\", \"how'd\": \"how did\", \"how'd'y\": \"how do you\", \"how'll\": \"how will\", \"how's\": \"how is\",\n",
    "                           \"I'd\": \"I would\", \"I'd've\": \"I would have\", \"I'll\": \"I will\", \"I'll've\": \"I will have\",\"I'm\": \"I am\", \"I've\": \"I have\", \"i'd\": \"i would\",\n",
    "                           \"i'd've\": \"i would have\", \"i'll\": \"i will\",  \"i'll've\": \"i will have\",\"i'm\": \"i am\", \"i've\": \"i have\", \"isn't\": \"is not\", \"it'd\": \"it would\",\n",
    "                           \"it'd've\": \"it would have\", \"it'll\": \"it will\", \"it'll've\": \"it will have\",\"it's\": \"it is\", \"let's\": \"let us\", \"ma'am\": \"madam\",\n",
    "                           \"mayn't\": \"may not\", \"might've\": \"might have\",\"mightn't\": \"might not\",\"mightn't've\": \"might not have\", \"must've\": \"must have\",\n",
    "                           \"mustn't\": \"must not\", \"mustn't've\": \"must not have\", \"needn't\": \"need not\", \"needn't've\": \"need not have\",\"o'clock\": \"of the clock\",\n",
    "                           \"oughtn't\": \"ought not\", \"oughtn't've\": \"ought not have\", \"shan't\": \"shall not\", \"sha'n't\": \"shall not\", \"shan't've\": \"shall not have\",\n",
    "                           \"she'd\": \"she would\", \"she'd've\": \"she would have\", \"she'll\": \"she will\", \"she'll've\": \"she will have\", \"she's\": \"she is\",\n",
    "                           \"should've\": \"should have\", \"shouldn't\": \"should not\", \"shouldn't've\": \"should not have\", \"so've\": \"so have\",\"so's\": \"so as\",\n",
    "                           \"this's\": \"this is\",\"that'd\": \"that would\", \"that'd've\": \"that would have\", \"that's\": \"that is\", \"there'd\": \"there would\",\n",
    "                           \"there'd've\": \"there would have\", \"there's\": \"there is\", \"here's\": \"here is\",\"they'd\": \"they would\", \"they'd've\": \"they would have\",\n",
    "                           \"they'll\": \"they will\", \"they'll've\": \"they will have\", \"they're\": \"they are\", \"they've\": \"they have\", \"to've\": \"to have\",\n",
    "                           \"wasn't\": \"was not\", \"we'd\": \"we would\", \"we'd've\": \"we would have\", \"we'll\": \"we will\", \"we'll've\": \"we will have\", \"we're\": \"we are\",\n",
    "                           \"we've\": \"we have\", \"weren't\": \"were not\", \"what'll\": \"what will\", \"what'll've\": \"what will have\", \"what're\": \"what are\",\n",
    "                           \"what's\": \"what is\", \"what've\": \"what have\", \"when's\": \"when is\", \"when've\": \"when have\", \"where'd\": \"where did\", \"where's\": \"where is\",\n",
    "                           \"where've\": \"where have\", \"who'll\": \"who will\", \"who'll've\": \"who will have\", \"who's\": \"who is\", \"who've\": \"who have\",\n",
    "                           \"why's\": \"why is\", \"why've\": \"why have\", \"will've\": \"will have\", \"won't\": \"will not\", \"won't've\": \"will not have\",\n",
    "                           \"would've\": \"would have\", \"wouldn't\": \"would not\", \"wouldn't've\": \"would not have\", \"y'all\": \"you all\",\n",
    "                           \"y'all'd\": \"you all would\",\"y'all'd've\": \"you all would have\",\"y'all're\": \"you all are\",\"y'all've\": \"you all have\",\n",
    "                           \"you'd\": \"you would\", \"you'd've\": \"you would have\", \"you'll\": \"you will\", \"you'll've\": \"you will have\",\n",
    "                           \"you're\": \"you are\", \"you've\": \"you have\"}\n",
    "\n",
    "print(\"정규화 사전의 수: \", len(contractions))"
   ]
  },
  {
   "cell_type": "code",
   "execution_count": 10,
   "id": "7b6a8684",
   "metadata": {},
   "outputs": [
    {
     "name": "stdout",
     "output_type": "stream",
     "text": [
      "불용어 개수 : 179\n",
      "['i', 'me', 'my', 'myself', 'we', 'our', 'ours', 'ourselves', 'you', \"you're\", \"you've\", \"you'll\", \"you'd\", 'your', 'yours', 'yourself', 'yourselves', 'he', 'him', 'his', 'himself', 'she', \"she's\", 'her', 'hers', 'herself', 'it', \"it's\", 'its', 'itself', 'they', 'them', 'their', 'theirs', 'themselves', 'what', 'which', 'who', 'whom', 'this', 'that', \"that'll\", 'these', 'those', 'am', 'is', 'are', 'was', 'were', 'be', 'been', 'being', 'have', 'has', 'had', 'having', 'do', 'does', 'did', 'doing', 'a', 'an', 'the', 'and', 'but', 'if', 'or', 'because', 'as', 'until', 'while', 'of', 'at', 'by', 'for', 'with', 'about', 'against', 'between', 'into', 'through', 'during', 'before', 'after', 'above', 'below', 'to', 'from', 'up', 'down', 'in', 'out', 'on', 'off', 'over', 'under', 'again', 'further', 'then', 'once', 'here', 'there', 'when', 'where', 'why', 'how', 'all', 'any', 'both', 'each', 'few', 'more', 'most', 'other', 'some', 'such', 'no', 'nor', 'not', 'only', 'own', 'same', 'so', 'than', 'too', 'very', 's', 't', 'can', 'will', 'just', 'don', \"don't\", 'should', \"should've\", 'now', 'd', 'll', 'm', 'o', 're', 've', 'y', 'ain', 'aren', \"aren't\", 'couldn', \"couldn't\", 'didn', \"didn't\", 'doesn', \"doesn't\", 'hadn', \"hadn't\", 'hasn', \"hasn't\", 'haven', \"haven't\", 'isn', \"isn't\", 'ma', 'mightn', \"mightn't\", 'mustn', \"mustn't\", 'needn', \"needn't\", 'shan', \"shan't\", 'shouldn', \"shouldn't\", 'wasn', \"wasn't\", 'weren', \"weren't\", 'won', \"won't\", 'wouldn', \"wouldn't\"]\n"
     ]
    }
   ],
   "source": [
    "# 불용어 제거 - '상대적으로 길이가 짧은 요약 데이터에 대해서도 불용어를 제거하는 것이 좋을지 고민해 보세요.-??\n",
    "\n",
    "print('불용어 개수 :', len(stopwords.words('english') ))\n",
    "print(stopwords.words('english'))\n",
    "# '정규 표현식을 통해 각종 특수문자를 제거'-??"
   ]
  },
  {
   "cell_type": "code",
   "execution_count": 11,
   "id": "90d3491b",
   "metadata": {},
   "outputs": [
    {
     "name": "stdout",
     "output_type": "stream",
     "text": [
      "=3\n"
     ]
    }
   ],
   "source": [
    "# 데이터 전처리 함수\n",
    "def preprocess_sentence(sentence, remove_stopwords=True):\n",
    "    sentence = sentence.lower() # 텍스트 소문자화\n",
    "    sentence = BeautifulSoup(sentence, \"lxml\").text # <br />, <a href = ...> 등의 html 태그 제거\n",
    "    sentence = re.sub(r'\\([^)]*\\)', '', sentence) # 괄호로 닫힌 문자열 (...) 제거 Ex) my husband (and myself!) for => my husband for\n",
    "    sentence = re.sub('\"','', sentence) # 쌍따옴표 \" 제거\n",
    "    sentence = ' '.join([contractions[t] if t in contractions else t for t in sentence.split(\" \")]) # 약어 정규화\n",
    "    sentence = re.sub(r\"'s\\b\",\"\", sentence) # 소유격 제거. Ex) roland's -> roland\n",
    "    sentence = re.sub(\"[^a-zA-Z]\", \" \", sentence) # 영어 외 문자(숫자, 특수문자 등) 공백으로 변환\n",
    "    sentence = re.sub('[m]{2,}', 'mm', sentence) # m이 3개 이상이면 2개로 변경. Ex) ummmmmmm yeah -> umm yeah\n",
    "\n",
    "    # 분기 - Abstractive한 문장 요약 결과문이 자연스러운 문장이 되려면 이 불용어들이 Summary에는 남아 있는 게 더 좋을 듯함\n",
    "    # 불용어 제거 (text)\n",
    "    if remove_stopwords:\n",
    "        tokens = ' '.join(word for word in sentence.split() if not word in stopwords.words('english') if len(word) > 1)\n",
    "    # 불용어 미제거 (headlines)\n",
    "    else:\n",
    "        tokens = ' '.join(word for word in sentence.split() if len(word) > 1)\n",
    "    return tokens\n",
    "print('=3')"
   ]
  },
  {
   "cell_type": "code",
   "execution_count": 12,
   "id": "df02ec41",
   "metadata": {},
   "outputs": [
    {
     "name": "stdout",
     "output_type": "stream",
     "text": [
      "text:  everything bought great infact ordered twice third ordered wasfor mother father\n",
      "headlines: great way to start the day\n"
     ]
    }
   ],
   "source": [
    "# 전처리 전, 후의 결과 확인해보자 - 임의의 text, summary만들어 함수를 호출\n",
    "\n",
    "temp_text = 'Everything I bought was great, infact I ordered twice and the third ordered was<br />for my mother and father.'\n",
    "temp_headlines = 'Great way to start (or finish) the day!!!'\n",
    "\n",
    "print(\"text: \", preprocess_sentence(temp_text))\n",
    "print(\"headlines:\", preprocess_sentence(temp_headlines, False))  # 불용어를 제거하지 않습니다."
   ]
  },
  {
   "cell_type": "markdown",
   "id": "4611c751",
   "metadata": {},
   "source": [
    "여기부터 정리욤 ㅋ"
   ]
  },
  {
   "cell_type": "code",
   "execution_count": 13,
   "id": "7b39e736",
   "metadata": {},
   "outputs": [
    {
     "name": "stdout",
     "output_type": "stream",
     "text": [
      "text 전처리 후 결과:  ['saurav kant alumnus upgrad iiit pg program machine learning artificial intelligence sr systems engineer infosys almost years work experience program upgrad degree career support helped transition data scientist tech mahindra salary hike upgrad online power learning powered lakh careers', 'kunal shah credit card bill payment platform cred gave users chance win free food swiggy one year pranav kaushik delhi techie bagged reward spending cred coins users get one cred coin per rupee bill paid used avail rewards brands like ixigo bookmyshow ubereats cult fit', 'new zealand defeated india wickets fourth odi hamilton thursday win first match five match odi series india lost international match rohit sharma captaincy consecutive victories dating back march match witnessed india getting seventh lowest total odi cricket history', 'aegon life iterm insurance plan customers enjoy tax benefits premiums paid save taxes plan provides life cover age years also customers options insure critical illnesses disability accidental death benefit rider life cover age years', 'speaking sexual harassment allegations rajkumar hirani sonam kapoor said known hirani many years true metoo movement get derailed metoo movement always believe woman case need reserve judgment added hirani accused assistant worked sanju']\n"
     ]
    }
   ],
   "source": [
    "clean_text = []\n",
    "# 전체 text 데이터에 대한 전처리 : 10분 이상 시간이 걸릴 수 있습니다. \n",
    "for s in data['text']:\n",
    "    clean_text.append(preprocess_sentence(s))\n",
    "\n",
    "# 전처리 후 출력\n",
    "print(\"text 전처리 후 결과: \", clean_text[:5])"
   ]
  },
  {
   "cell_type": "code",
   "execution_count": 14,
   "id": "5cfdb94b",
   "metadata": {},
   "outputs": [
    {
     "name": "stdout",
     "output_type": "stream",
     "text": [
      "headlines 전처리 후 결과:  ['upgrad learner switches to career in ml al with salary hike', 'delhi techie wins free food from swiggy for one year on cred', 'new zealand end rohit sharma led india match winning streak', 'aegon life iterm insurance plan helps customers save tax', 'have known hirani for yrs what if metoo claims are not true sonam']\n"
     ]
    }
   ],
   "source": [
    "clean_headlines = []\n",
    "# 전체 headlines 데이터에 대한 전처리 : 5분 이상 시간이 걸릴 수 있습니다. \n",
    "for s in data['headlines']:\n",
    "    clean_headlines.append(preprocess_sentence(s, False))\n",
    "\n",
    "print(\"headlines 전처리 후 결과: \", clean_headlines[:5])"
   ]
  },
  {
   "cell_type": "code",
   "execution_count": 15,
   "id": "35ed6357",
   "metadata": {},
   "outputs": [
    {
     "name": "stdout",
     "output_type": "stream",
     "text": [
      "=3\n"
     ]
    }
   ],
   "source": [
    "data['text'] = clean_text\n",
    "data['headlines'] = clean_headlines\n",
    "\n",
    "# 빈 값을 Null 값으로 변환\n",
    "data.replace('', np.nan, inplace=True)\n",
    "print('=3')"
   ]
  },
  {
   "cell_type": "markdown",
   "id": "45669512",
   "metadata": {},
   "source": [
    "# 1. 데이터 전처리\n",
    "## (2) 훈련데이터와 테스트데이터 나누기 \n",
    "* 학습에 사용할 데이터의 크기를 결정\n",
    "* 문장의 시작과 끝을 표시"
   ]
  },
  {
   "cell_type": "markdown",
   "id": "08421ab7",
   "metadata": {},
   "source": [
    "### 샘플의 최대 길이 정하기"
   ]
  },
  {
   "cell_type": "code",
   "execution_count": 16,
   "id": "254868c2",
   "metadata": {},
   "outputs": [
    {
     "name": "stdout",
     "output_type": "stream",
     "text": [
      "텍스트의 최소 길이 : 1\n",
      "텍스트의 최대 길이 : 60\n",
      "텍스트의 평균 길이 : 35.09968483123221\n",
      "요약의 최소 길이 : 1\n",
      "요약의 최대 길이 : 16\n",
      "요약의 평균 길이 : 9.299532330215534\n"
     ]
    },
    {
     "data": {
      "image/png": "[encoded data removed]",
      "text/plain": [
       "<Figure size 432x288 with 2 Axes>"
      ]
     },
     "metadata": {
      "needs_background": "light"
     },
     "output_type": "display_data"
    },
    {
     "data": {
      "image/png": "[encoded data removed]",
      "text/plain": [
       "<Figure size 432x288 with 1 Axes>"
      ]
     },
     "metadata": {
      "needs_background": "light"
     },
     "output_type": "display_data"
    },
    {
     "data": {
      "image/png": "[encoded data removed]",
      "text/plain": [
       "<Figure size 432x288 with 1 Axes>"
      ]
     },
     "metadata": {
      "needs_background": "light"
     },
     "output_type": "display_data"
    }
   ],
   "source": [
    "# 길이 분포 출력\n",
    "import matplotlib.pyplot as plt\n",
    "\n",
    "text_len = [len(s.split()) for s in data['text']]\n",
    "headlines_len = [len(s.split()) for s in data['headlines']]\n",
    "\n",
    "print('텍스트의 최소 길이 : {}'.format(np.min(text_len)))\n",
    "print('텍스트의 최대 길이 : {}'.format(np.max(text_len)))\n",
    "print('텍스트의 평균 길이 : {}'.format(np.mean(text_len)))\n",
    "print('요약의 최소 길이 : {}'.format(np.min(headlines_len)))\n",
    "print('요약의 최대 길이 : {}'.format(np.max(headlines_len)))\n",
    "print('요약의 평균 길이 : {}'.format(np.mean(headlines_len)))\n",
    "\n",
    "plt.subplot(1,2,1)\n",
    "plt.boxplot(text_len)\n",
    "plt.title('text')\n",
    "plt.subplot(1,2,2)\n",
    "plt.boxplot(headlines_len)\n",
    "plt.title('headlines')\n",
    "plt.tight_layout()\n",
    "plt.show()\n",
    "\n",
    "plt.title('text')\n",
    "plt.hist(text_len, bins = 40)\n",
    "plt.xlabel('length of samples')\n",
    "plt.ylabel('number of samples')\n",
    "plt.show()\n",
    "\n",
    "plt.title('headlines')\n",
    "plt.hist(headlines_len, bins = 40)\n",
    "plt.xlabel('length of samples')\n",
    "plt.ylabel('number of samples')\n",
    "plt.show()"
   ]
  },
  {
   "cell_type": "code",
   "execution_count": 17,
   "id": "9e365f2c",
   "metadata": {},
   "outputs": [
    {
     "name": "stdout",
     "output_type": "stream",
     "text": [
      "=3\n"
     ]
    }
   ],
   "source": [
    "text_max_len = 50\n",
    "headlines_max_len = 8\n",
    "print('=3')"
   ]
  },
  {
   "cell_type": "code",
   "execution_count": 18,
   "id": "824e6939",
   "metadata": {},
   "outputs": [
    {
     "name": "stdout",
     "output_type": "stream",
     "text": [
      "=3\n"
     ]
    }
   ],
   "source": [
    "def below_threshold_len(max_len, nested_list):\n",
    "  cnt = 0\n",
    "  for s in nested_list:\n",
    "    if(len(s.split()) <= max_len):\n",
    "        cnt = cnt + 1\n",
    "  print('전체 샘플 중 길이가 %s 이하인 샘플의 비율: %s'%(max_len, (cnt / len(nested_list))))\n",
    "print('=3')"
   ]
  },
  {
   "cell_type": "code",
   "execution_count": 19,
   "id": "05618f63",
   "metadata": {},
   "outputs": [
    {
     "name": "stdout",
     "output_type": "stream",
     "text": [
      "전체 샘플 중 길이가 50 이하인 샘플의 비율: 0.9998576657177715\n",
      "전체 샘플 중 길이가 8 이하인 샘플의 비율: 0.2755693371289142\n"
     ]
    }
   ],
   "source": [
    "below_threshold_len(text_max_len, data['text'])\n",
    "below_threshold_len(headlines_max_len,  data['headlines'])"
   ]
  },
  {
   "cell_type": "code",
   "execution_count": 20,
   "id": "7c9b8b90",
   "metadata": {},
   "outputs": [
    {
     "name": "stdout",
     "output_type": "stream",
     "text": [
      "전체 샘플수 : 27105\n"
     ]
    }
   ],
   "source": [
    "data = data[data['text'].apply(lambda x: len(x.split()) <= text_max_len)]\n",
    "data = data[data['headlines'].apply(lambda x: len(x.split()) <= headlines_max_len)]\n",
    "print('전체 샘플수 :', (len(data)))"
   ]
  },
  {
   "cell_type": "markdown",
   "id": "078a42f9",
   "metadata": {},
   "source": [
    "### 시작 토큰과 종료 토큰 추가하기"
   ]
  },
  {
   "cell_type": "code",
   "execution_count": 21,
   "id": "0292b2b9",
   "metadata": {},
   "outputs": [
    {
     "data": {
      "text/html": [
       "<div>\n",
       "<style scoped>\n",
       "    .dataframe tbody tr th:only-of-type {\n",
       "        vertical-align: middle;\n",
       "    }\n",
       "\n",
       "    .dataframe tbody tr th {\n",
       "        vertical-align: top;\n",
       "    }\n",
       "\n",
       "    .dataframe thead th {\n",
       "        text-align: right;\n",
       "    }\n",
       "</style>\n",
       "<table border=\"1\" class=\"dataframe\">\n",
       "  <thead>\n",
       "    <tr style=\"text-align: right;\">\n",
       "      <th></th>\n",
       "      <th>text</th>\n",
       "      <th>headlines</th>\n",
       "      <th>decoder_input</th>\n",
       "      <th>decoder_target</th>\n",
       "    </tr>\n",
       "  </thead>\n",
       "  <tbody>\n",
       "    <tr>\n",
       "      <th>19</th>\n",
       "      <td>union minister dharmendra pradhan wednesday cl...</td>\n",
       "      <td>odisha cm patnaik controls mining mafia union ...</td>\n",
       "      <td>sostoken odisha cm patnaik controls mining maf...</td>\n",
       "      <td>odisha cm patnaik controls mining mafia union ...</td>\n",
       "    </tr>\n",
       "    <tr>\n",
       "      <th>21</th>\n",
       "      <td>indian space research organisation wednesday u...</td>\n",
       "      <td>isro unveils bengaluru centre for manned space...</td>\n",
       "      <td>sostoken isro unveils bengaluru centre for man...</td>\n",
       "      <td>isro unveils bengaluru centre for manned space...</td>\n",
       "    </tr>\n",
       "    <tr>\n",
       "      <th>22</th>\n",
       "      <td>least people killed others injured saudi arabi...</td>\n",
       "      <td>killed injured in saudi arabia floods</td>\n",
       "      <td>sostoken killed injured in saudi arabia floods</td>\n",
       "      <td>killed injured in saudi arabia floods eostoken</td>\n",
       "    </tr>\n",
       "    <tr>\n",
       "      <th>29</th>\n",
       "      <td>investigators searching lost plane carrying ar...</td>\n",
       "      <td>seat cushions from missing plane carrying foot...</td>\n",
       "      <td>sostoken seat cushions from missing plane carr...</td>\n",
       "      <td>seat cushions from missing plane carrying foot...</td>\n",
       "    </tr>\n",
       "    <tr>\n",
       "      <th>36</th>\n",
       "      <td>agustawestland chopper scam co accused rajiv s...</td>\n",
       "      <td>agustawestland scam accused rajiv saxena extra...</td>\n",
       "      <td>sostoken agustawestland scam accused rajiv sax...</td>\n",
       "      <td>agustawestland scam accused rajiv saxena extra...</td>\n",
       "    </tr>\n",
       "  </tbody>\n",
       "</table>\n",
       "</div>"
      ],
      "text/plain": [
       "                                                 text  \\\n",
       "19  union minister dharmendra pradhan wednesday cl...   \n",
       "21  indian space research organisation wednesday u...   \n",
       "22  least people killed others injured saudi arabi...   \n",
       "29  investigators searching lost plane carrying ar...   \n",
       "36  agustawestland chopper scam co accused rajiv s...   \n",
       "\n",
       "                                            headlines  \\\n",
       "19  odisha cm patnaik controls mining mafia union ...   \n",
       "21  isro unveils bengaluru centre for manned space...   \n",
       "22              killed injured in saudi arabia floods   \n",
       "29  seat cushions from missing plane carrying foot...   \n",
       "36  agustawestland scam accused rajiv saxena extra...   \n",
       "\n",
       "                                        decoder_input  \\\n",
       "19  sostoken odisha cm patnaik controls mining maf...   \n",
       "21  sostoken isro unveils bengaluru centre for man...   \n",
       "22     sostoken killed injured in saudi arabia floods   \n",
       "29  sostoken seat cushions from missing plane carr...   \n",
       "36  sostoken agustawestland scam accused rajiv sax...   \n",
       "\n",
       "                                       decoder_target  \n",
       "19  odisha cm patnaik controls mining mafia union ...  \n",
       "21  isro unveils bengaluru centre for manned space...  \n",
       "22     killed injured in saudi arabia floods eostoken  \n",
       "29  seat cushions from missing plane carrying foot...  \n",
       "36  agustawestland scam accused rajiv saxena extra...  "
      ]
     },
     "execution_count": 21,
     "metadata": {},
     "output_type": "execute_result"
    }
   ],
   "source": [
    "# 요약 데이터에는 시작 토큰과 종료 토큰을 추가한다.\n",
    "data['decoder_input'] = data['headlines'].apply(lambda x : 'sostoken '+ x)\n",
    "data['decoder_target'] = data['headlines'].apply(lambda x : x + ' eostoken')\n",
    "data.head()"
   ]
  },
  {
   "cell_type": "code",
   "execution_count": 22,
   "id": "879bd3c5",
   "metadata": {},
   "outputs": [
    {
     "name": "stdout",
     "output_type": "stream",
     "text": [
      "=3\n"
     ]
    }
   ],
   "source": [
    "encoder_input = np.array(data['text']) # 인코더의 입력\n",
    "decoder_input = np.array(data['decoder_input']) # 디코더의 입력\n",
    "decoder_target = np.array(data['decoder_target']) # 디코더의 레이블\n",
    "print('=3')"
   ]
  },
  {
   "cell_type": "code",
   "execution_count": 23,
   "id": "2c2aca21",
   "metadata": {},
   "outputs": [
    {
     "name": "stdout",
     "output_type": "stream",
     "text": [
      "[  750  9693 13001 ... 17700  3590 14705]\n"
     ]
    }
   ],
   "source": [
    "indices = np.arange(encoder_input.shape[0])\n",
    "np.random.shuffle(indices)\n",
    "print(indices)"
   ]
  },
  {
   "cell_type": "code",
   "execution_count": 24,
   "id": "74c600e3",
   "metadata": {},
   "outputs": [
    {
     "name": "stdout",
     "output_type": "stream",
     "text": [
      "=3\n"
     ]
    }
   ],
   "source": [
    "encoder_input = encoder_input[indices]\n",
    "decoder_input = decoder_input[indices]\n",
    "decoder_target = decoder_target[indices]\n",
    "print('=3')"
   ]
  },
  {
   "cell_type": "code",
   "execution_count": 25,
   "id": "a2c36075",
   "metadata": {},
   "outputs": [
    {
     "name": "stdout",
     "output_type": "stream",
     "text": [
      "테스트 데이터의 수 : 5421\n"
     ]
    }
   ],
   "source": [
    "n_of_val = int(len(encoder_input)*0.2)\n",
    "print('테스트 데이터의 수 :', n_of_val)"
   ]
  },
  {
   "cell_type": "code",
   "execution_count": 26,
   "id": "44627bab",
   "metadata": {},
   "outputs": [
    {
     "name": "stdout",
     "output_type": "stream",
     "text": [
      "훈련 데이터의 개수 : 21684\n",
      "훈련 레이블의 개수 : 21684\n",
      "테스트 데이터의 개수 : 5421\n",
      "테스트 레이블의 개수 : 5421\n"
     ]
    }
   ],
   "source": [
    "encoder_input_train = encoder_input[:-n_of_val]\n",
    "decoder_input_train = decoder_input[:-n_of_val]\n",
    "decoder_target_train = decoder_target[:-n_of_val]\n",
    "\n",
    "encoder_input_test = encoder_input[-n_of_val:]\n",
    "decoder_input_test = decoder_input[-n_of_val:]\n",
    "decoder_target_test = decoder_target[-n_of_val:]\n",
    "\n",
    "print('훈련 데이터의 개수 :', len(encoder_input_train))\n",
    "print('훈련 레이블의 개수 :', len(decoder_input_train))\n",
    "print('테스트 데이터의 개수 :', len(encoder_input_test))\n",
    "print('테스트 레이블의 개수 :', len(decoder_input_test))"
   ]
  },
  {
   "cell_type": "markdown",
   "id": "d4efff69",
   "metadata": {},
   "source": [
    "# 1. 데이터 전처리\n",
    "## (3) 정수 인코딩"
   ]
  },
  {
   "cell_type": "markdown",
   "id": "473b1190",
   "metadata": {},
   "source": [
    "### 단어 집합(vocabulary) 만들기 및 정수 인코딩"
   ]
  },
  {
   "cell_type": "code",
   "execution_count": 27,
   "id": "244cc5fa",
   "metadata": {},
   "outputs": [
    {
     "name": "stdout",
     "output_type": "stream",
     "text": [
      "=3\n"
     ]
    }
   ],
   "source": [
    "src_tokenizer = Tokenizer() # 토크나이저 정의\n",
    "src_tokenizer.fit_on_texts(encoder_input_train) # 입력된 데이터로부터 단어 집합 생성\n",
    "print('=3')"
   ]
  },
  {
   "cell_type": "code",
   "execution_count": 28,
   "id": "37847ab8",
   "metadata": {},
   "outputs": [
    {
     "name": "stdout",
     "output_type": "stream",
     "text": [
      "단어 집합(vocabulary)의 크기 : 42456\n",
      "등장 빈도가 6번 이하인 희귀 단어의 수: 30684\n",
      "단어 집합에서 희귀 단어를 제외시킬 경우의 단어 집합의 크기 11772\n",
      "단어 집합에서 희귀 단어의 비율: 72.27247032221594\n",
      "전체 등장 빈도에서 희귀 단어 등장 빈도 비율: 8.259983079081646\n"
     ]
    }
   ],
   "source": [
    "threshold = 7\n",
    "total_cnt = len(src_tokenizer.word_index) # 단어의 수\n",
    "rare_cnt = 0 # 등장 빈도수가 threshold보다 작은 단어의 개수를 카운트\n",
    "total_freq = 0 # 훈련 데이터의 전체 단어 빈도수 총 합\n",
    "rare_freq = 0 # 등장 빈도수가 threshold보다 작은 단어의 등장 빈도수의 총 합\n",
    "\n",
    "# 단어와 빈도수의 쌍(pair)을 key와 value로 받는다.\n",
    "for key, value in src_tokenizer.word_counts.items():\n",
    "    total_freq = total_freq + value\n",
    "\n",
    "    # 단어의 등장 빈도수가 threshold보다 작으면\n",
    "    if(value < threshold):\n",
    "        rare_cnt = rare_cnt + 1\n",
    "        rare_freq = rare_freq + value\n",
    "\n",
    "print('단어 집합(vocabulary)의 크기 :', total_cnt)\n",
    "print('등장 빈도가 %s번 이하인 희귀 단어의 수: %s'%(threshold - 1, rare_cnt))\n",
    "print('단어 집합에서 희귀 단어를 제외시킬 경우의 단어 집합의 크기 %s'%(total_cnt - rare_cnt))\n",
    "print(\"단어 집합에서 희귀 단어의 비율:\", (rare_cnt / total_cnt)*100)\n",
    "print(\"전체 등장 빈도에서 희귀 단어 등장 빈도 비율:\", (rare_freq / total_freq)*100)"
   ]
  },
  {
   "cell_type": "code",
   "execution_count": 29,
   "id": "43b0dc93",
   "metadata": {},
   "outputs": [
    {
     "name": "stdout",
     "output_type": "stream",
     "text": [
      "=3\n"
     ]
    }
   ],
   "source": [
    "src_vocab = 8000\n",
    "src_tokenizer = Tokenizer(num_words=src_vocab) # 단어 집합의 크기를 8,000으로 제한\n",
    "src_tokenizer.fit_on_texts(encoder_input_train) # 단어 집합 재생성\n",
    "print('=3')"
   ]
  },
  {
   "cell_type": "code",
   "execution_count": 30,
   "id": "afcc8e70",
   "metadata": {},
   "outputs": [
    {
     "name": "stdout",
     "output_type": "stream",
     "text": [
      "[[978, 215, 192, 4506, 6255, 373, 413, 2356, 413, 2356, 7053, 24, 2, 23, 569, 1, 542, 1165, 558, 23, 32, 23, 446, 932, 6022, 542, 75, 276, 744, 20, 438, 1063, 569, 6], [295, 9, 538, 911, 18, 327, 751, 1625, 531, 36, 1401, 252, 415, 3790, 2486, 52, 179, 256, 933, 5770, 691, 50, 36, 880, 2889, 252, 24, 2, 122, 4507, 10, 607, 412, 933, 52], [13, 4921, 6485, 5069, 43, 100, 1206, 1351, 1147, 60, 757, 2323, 2073, 532, 1327, 414, 1189, 5069, 732, 1327, 1206, 403, 2073, 532, 2180, 655, 2393, 218, 595, 5576, 136, 224, 2689, 329, 20]]\n"
     ]
    }
   ],
   "source": [
    "# 텍스트 시퀀스를 정수 시퀀스로 변환\n",
    "encoder_input_train = src_tokenizer.texts_to_sequences(encoder_input_train) \n",
    "encoder_input_test = src_tokenizer.texts_to_sequences(encoder_input_test)\n",
    "\n",
    "# 잘 진행되었는지 샘플 출력\n",
    "print(encoder_input_train[:3])"
   ]
  },
  {
   "cell_type": "code",
   "execution_count": 31,
   "id": "d6e418fe",
   "metadata": {},
   "outputs": [
    {
     "name": "stdout",
     "output_type": "stream",
     "text": [
      "=3\n"
     ]
    }
   ],
   "source": [
    "tar_tokenizer = Tokenizer()\n",
    "tar_tokenizer.fit_on_texts(decoder_input_train)\n",
    "print('=3')"
   ]
  },
  {
   "cell_type": "code",
   "execution_count": 32,
   "id": "16d6f3e7",
   "metadata": {},
   "outputs": [
    {
     "name": "stdout",
     "output_type": "stream",
     "text": [
      "단어 집합(vocabulary)의 크기 : 18918\n",
      "등장 빈도가 5번 이하인 희귀 단어의 수: 14306\n",
      "단어 집합에서 희귀 단어를 제외시킬 경우의 단어 집합의 크기 4612\n",
      "단어 집합에서 희귀 단어의 비율: 75.62110159636325\n",
      "전체 등장 빈도에서 희귀 단어 등장 빈도 비율: 14.197497746684407\n"
     ]
    }
   ],
   "source": [
    "threshold = 6\n",
    "total_cnt = len(tar_tokenizer.word_index) # 단어의 수\n",
    "rare_cnt = 0 # 등장 빈도수가 threshold보다 작은 단어의 개수를 카운트\n",
    "total_freq = 0 # 훈련 데이터의 전체 단어 빈도수 총 합\n",
    "rare_freq = 0 # 등장 빈도수가 threshold보다 작은 단어의 등장 빈도수의 총 합\n",
    "\n",
    "# 단어와 빈도수의 쌍(pair)을 key와 value로 받는다.\n",
    "for key, value in tar_tokenizer.word_counts.items():\n",
    "    total_freq = total_freq + value\n",
    "\n",
    "    # 단어의 등장 빈도수가 threshold보다 작으면\n",
    "    if(value < threshold):\n",
    "        rare_cnt = rare_cnt + 1\n",
    "        rare_freq = rare_freq + value\n",
    "\n",
    "print('단어 집합(vocabulary)의 크기 :', total_cnt)\n",
    "print('등장 빈도가 %s번 이하인 희귀 단어의 수: %s'%(threshold - 1, rare_cnt))\n",
    "print('단어 집합에서 희귀 단어를 제외시킬 경우의 단어 집합의 크기 %s'%(total_cnt - rare_cnt))\n",
    "print(\"단어 집합에서 희귀 단어의 비율:\", (rare_cnt / total_cnt)*100)\n",
    "print(\"전체 등장 빈도에서 희귀 단어 등장 빈도 비율:\", (rare_freq / total_freq)*100)"
   ]
  },
  {
   "cell_type": "code",
   "execution_count": 33,
   "id": "9dba025a",
   "metadata": {},
   "outputs": [
    {
     "name": "stdout",
     "output_type": "stream",
     "text": [
      "input\n",
      "input  [[1, 555, 288, 126, 393], [1, 697, 628, 316, 77, 1063, 1011, 556], [1, 322, 339, 11, 770, 539], [1, 363, 244, 5, 1525, 90], [1, 118, 1103, 141, 8, 64, 375, 941]]\n",
      "target\n",
      "decoder  [[555, 288, 126, 393, 2], [697, 628, 316, 77, 1063, 1011, 556, 2], [322, 339, 11, 770, 539, 2], [363, 244, 5, 1525, 90, 2], [118, 1103, 141, 8, 64, 375, 941, 2]]\n"
     ]
    }
   ],
   "source": [
    "tar_vocab = 2000\n",
    "tar_tokenizer = Tokenizer(num_words=tar_vocab) \n",
    "tar_tokenizer.fit_on_texts(decoder_input_train)\n",
    "tar_tokenizer.fit_on_texts(decoder_target_train)\n",
    "\n",
    "# 텍스트 시퀀스를 정수 시퀀스로 변환\n",
    "decoder_input_train = tar_tokenizer.texts_to_sequences(decoder_input_train) \n",
    "decoder_target_train = tar_tokenizer.texts_to_sequences(decoder_target_train)\n",
    "decoder_input_test = tar_tokenizer.texts_to_sequences(decoder_input_test)\n",
    "decoder_target_test = tar_tokenizer.texts_to_sequences(decoder_target_test)\n",
    "\n",
    "# 잘 변환되었는지 확인\n",
    "print('input')\n",
    "print('input ',decoder_input_train[:5])\n",
    "print('target')\n",
    "print('decoder ',decoder_target_train[:5])"
   ]
  },
  {
   "cell_type": "code",
   "execution_count": 34,
   "id": "c3ff62e6",
   "metadata": {},
   "outputs": [
    {
     "name": "stdout",
     "output_type": "stream",
     "text": [
      "삭제할 훈련 데이터의 개수 : 9\n",
      "삭제할 테스트 데이터의 개수 : 4\n",
      "훈련 데이터의 개수 : 21675\n",
      "훈련 레이블의 개수 : 21675\n",
      "테스트 데이터의 개수 : 5417\n",
      "테스트 레이블의 개수 : 5417\n"
     ]
    }
   ],
   "source": [
    "drop_train = [index for index, sentence in enumerate(decoder_input_train) if len(sentence) == 1]\n",
    "drop_test = [index for index, sentence in enumerate(decoder_input_test) if len(sentence) == 1]\n",
    "\n",
    "print('삭제할 훈련 데이터의 개수 :', len(drop_train))\n",
    "print('삭제할 테스트 데이터의 개수 :', len(drop_test))\n",
    "\n",
    "encoder_input_train = [sentence for index, sentence in enumerate(encoder_input_train) if index not in drop_train]\n",
    "decoder_input_train = [sentence for index, sentence in enumerate(decoder_input_train) if index not in drop_train]\n",
    "decoder_target_train = [sentence for index, sentence in enumerate(decoder_target_train) if index not in drop_train]\n",
    "\n",
    "encoder_input_test = [sentence for index, sentence in enumerate(encoder_input_test) if index not in drop_test]\n",
    "decoder_input_test = [sentence for index, sentence in enumerate(decoder_input_test) if index not in drop_test]\n",
    "decoder_target_test = [sentence for index, sentence in enumerate(decoder_target_test) if index not in drop_test]\n",
    "\n",
    "print('훈련 데이터의 개수 :', len(encoder_input_train))\n",
    "print('훈련 레이블의 개수 :', len(decoder_input_train))\n",
    "print('테스트 데이터의 개수 :', len(encoder_input_test))\n",
    "print('테스트 레이블의 개수 :', len(decoder_input_test))"
   ]
  },
  {
   "cell_type": "markdown",
   "id": "cf381134",
   "metadata": {},
   "source": [
    "### 패딩하기"
   ]
  },
  {
   "cell_type": "code",
   "execution_count": 35,
   "id": "15501dfc",
   "metadata": {},
   "outputs": [
    {
     "name": "stdout",
     "output_type": "stream",
     "text": [
      "=3\n"
     ]
    }
   ],
   "source": [
    "encoder_input_train = pad_sequences(encoder_input_train, maxlen=text_max_len, padding='post')\n",
    "encoder_input_test = pad_sequences(encoder_input_test, maxlen=text_max_len, padding='post')\n",
    "decoder_input_train = pad_sequences(decoder_input_train, maxlen=headlines_max_len, padding='post')\n",
    "decoder_target_train = pad_sequences(decoder_target_train, maxlen=headlines_max_len, padding='post')\n",
    "decoder_input_test = pad_sequences(decoder_input_test, maxlen=headlines_max_len, padding='post')\n",
    "decoder_target_test = pad_sequences(decoder_target_test, maxlen=headlines_max_len, padding='post')\n",
    "print('=3')"
   ]
  },
  {
   "cell_type": "markdown",
   "id": "1da63f65",
   "metadata": {},
   "source": [
    "# 2. 모델 설계하기\n",
    "## (1) 인코더 설계 - 함수형 API 이용"
   ]
  },
  {
   "cell_type": "code",
   "execution_count": 36,
   "id": "0851ecc2",
   "metadata": {},
   "outputs": [
    {
     "name": "stdout",
     "output_type": "stream",
     "text": [
      "WARNING:tensorflow:Layer lstm will not use cuDNN kernels since it doesn't meet the criteria. It will use a generic GPU kernel as fallback when running on GPU.\n",
      "WARNING:tensorflow:Layer lstm_1 will not use cuDNN kernels since it doesn't meet the criteria. It will use a generic GPU kernel as fallback when running on GPU.\n",
      "WARNING:tensorflow:Layer lstm_2 will not use cuDNN kernels since it doesn't meet the criteria. It will use a generic GPU kernel as fallback when running on GPU.\n"
     ]
    }
   ],
   "source": [
    "from tensorflow.keras.layers import Input, LSTM, Embedding, Dense, Concatenate, TimeDistributed\n",
    "from tensorflow.keras.models import Model\n",
    "from tensorflow.keras.callbacks import EarlyStopping, ModelCheckpoint\n",
    "\n",
    "\n",
    "# 인코더 설계 시작\n",
    "embedding_dim = 128\n",
    "hidden_size = 256\n",
    "\n",
    "# 인코더\n",
    "encoder_inputs = Input(shape=(text_max_len,))\n",
    "\n",
    "# 인코더의 임베딩 층\n",
    "enc_emb = Embedding(src_vocab, embedding_dim)(encoder_inputs)\n",
    "\n",
    "# 인코더의 LSTM 1\n",
    "encoder_lstm1 = LSTM(hidden_size, return_sequences=True, return_state=True ,dropout = 0.4, recurrent_dropout = 0.4)\n",
    "encoder_output1, state_h1, state_c1 = encoder_lstm1(enc_emb)\n",
    "\n",
    "# 인코더의 LSTM 2\n",
    "encoder_lstm2 = LSTM(hidden_size, return_sequences=True, return_state=True, dropout=0.4, recurrent_dropout=0.4)\n",
    "encoder_output2, state_h2, state_c2 = encoder_lstm2(encoder_output1)\n",
    "\n",
    "# 인코더의 LSTM 3\n",
    "encoder_lstm3 = LSTM(hidden_size, return_state=True, return_sequences=True, dropout=0.4, recurrent_dropout=0.4)\n",
    "encoder_outputs, state_h, state_c= encoder_lstm3(encoder_output2)"
   ]
  },
  {
   "cell_type": "markdown",
   "id": "6fcbc69b",
   "metadata": {},
   "source": [
    "## (2) 디코더 설계"
   ]
  },
  {
   "cell_type": "code",
   "execution_count": 37,
   "id": "11eadfc6",
   "metadata": {},
   "outputs": [
    {
     "name": "stdout",
     "output_type": "stream",
     "text": [
      "WARNING:tensorflow:Layer lstm_3 will not use cuDNN kernels since it doesn't meet the criteria. It will use a generic GPU kernel as fallback when running on GPU.\n"
     ]
    }
   ],
   "source": [
    "# 디코더 설계\n",
    "decoder_inputs = Input(shape=(None,))\n",
    "\n",
    "# 디코더의 임베딩 층\n",
    "dec_emb_layer = Embedding(tar_vocab, embedding_dim)\n",
    "dec_emb = dec_emb_layer(decoder_inputs)\n",
    "\n",
    "# 디코더의 LSTM\n",
    "decoder_lstm = LSTM(hidden_size, return_sequences=True, return_state=True, dropout=0.4, recurrent_dropout=0.2)\n",
    "decoder_outputs, _, _ = decoder_lstm(dec_emb, initial_state=[state_h, state_c])"
   ]
  },
  {
   "cell_type": "code",
   "execution_count": 38,
   "id": "97f77eda",
   "metadata": {},
   "outputs": [
    {
     "name": "stdout",
     "output_type": "stream",
     "text": [
      "Model: \"model\"\n",
      "__________________________________________________________________________________________________\n",
      "Layer (type)                    Output Shape         Param #     Connected to                     \n",
      "==================================================================================================\n",
      "input_1 (InputLayer)            [(None, 50)]         0                                            \n",
      "__________________________________________________________________________________________________\n",
      "embedding (Embedding)           (None, 50, 128)      1024000     input_1[0][0]                    \n",
      "__________________________________________________________________________________________________\n",
      "lstm (LSTM)                     [(None, 50, 256), (N 394240      embedding[0][0]                  \n",
      "__________________________________________________________________________________________________\n",
      "input_2 (InputLayer)            [(None, None)]       0                                            \n",
      "__________________________________________________________________________________________________\n",
      "lstm_1 (LSTM)                   [(None, 50, 256), (N 525312      lstm[0][0]                       \n",
      "__________________________________________________________________________________________________\n",
      "embedding_1 (Embedding)         (None, None, 128)    256000      input_2[0][0]                    \n",
      "__________________________________________________________________________________________________\n",
      "lstm_2 (LSTM)                   [(None, 50, 256), (N 525312      lstm_1[0][0]                     \n",
      "__________________________________________________________________________________________________\n",
      "lstm_3 (LSTM)                   [(None, None, 256),  394240      embedding_1[0][0]                \n",
      "                                                                 lstm_2[0][1]                     \n",
      "                                                                 lstm_2[0][2]                     \n",
      "__________________________________________________________________________________________________\n",
      "dense (Dense)                   (None, None, 2000)   514000      lstm_3[0][0]                     \n",
      "==================================================================================================\n",
      "Total params: 3,633,104\n",
      "Trainable params: 3,633,104\n",
      "Non-trainable params: 0\n",
      "__________________________________________________________________________________________________\n"
     ]
    }
   ],
   "source": [
    "# 디코더의 출력층\n",
    "decoder_softmax_layer = Dense(tar_vocab, activation='softmax')\n",
    "decoder_softmax_outputs = decoder_softmax_layer(decoder_outputs) \n",
    "\n",
    "# 모델 정의\n",
    "model = Model([encoder_inputs, decoder_inputs], decoder_softmax_outputs)\n",
    "model.summary()"
   ]
  },
  {
   "cell_type": "markdown",
   "id": "776440e9",
   "metadata": {},
   "source": [
    "## (3) 어텐션 매커니즘"
   ]
  },
  {
   "cell_type": "code",
   "execution_count": 39,
   "id": "d7d01371",
   "metadata": {},
   "outputs": [
    {
     "name": "stdout",
     "output_type": "stream",
     "text": [
      "Model: \"model_1\"\n",
      "__________________________________________________________________________________________________\n",
      "Layer (type)                    Output Shape         Param #     Connected to                     \n",
      "==================================================================================================\n",
      "input_1 (InputLayer)            [(None, 50)]         0                                            \n",
      "__________________________________________________________________________________________________\n",
      "embedding (Embedding)           (None, 50, 128)      1024000     input_1[0][0]                    \n",
      "__________________________________________________________________________________________________\n",
      "lstm (LSTM)                     [(None, 50, 256), (N 394240      embedding[0][0]                  \n",
      "__________________________________________________________________________________________________\n",
      "input_2 (InputLayer)            [(None, None)]       0                                            \n",
      "__________________________________________________________________________________________________\n",
      "lstm_1 (LSTM)                   [(None, 50, 256), (N 525312      lstm[0][0]                       \n",
      "__________________________________________________________________________________________________\n",
      "embedding_1 (Embedding)         (None, None, 128)    256000      input_2[0][0]                    \n",
      "__________________________________________________________________________________________________\n",
      "lstm_2 (LSTM)                   [(None, 50, 256), (N 525312      lstm_1[0][0]                     \n",
      "__________________________________________________________________________________________________\n",
      "lstm_3 (LSTM)                   [(None, None, 256),  394240      embedding_1[0][0]                \n",
      "                                                                 lstm_2[0][1]                     \n",
      "                                                                 lstm_2[0][2]                     \n",
      "__________________________________________________________________________________________________\n",
      "attention_layer (AdditiveAttent (None, None, 256)    256         lstm_3[0][0]                     \n",
      "                                                                 lstm_2[0][0]                     \n",
      "__________________________________________________________________________________________________\n",
      "concat_layer (Concatenate)      (None, None, 512)    0           lstm_3[0][0]                     \n",
      "                                                                 attention_layer[0][0]            \n",
      "__________________________________________________________________________________________________\n",
      "dense_1 (Dense)                 (None, None, 2000)   1026000     concat_layer[0][0]               \n",
      "==================================================================================================\n",
      "Total params: 4,145,360\n",
      "Trainable params: 4,145,360\n",
      "Non-trainable params: 0\n",
      "__________________________________________________________________________________________________\n"
     ]
    }
   ],
   "source": [
    "from tensorflow.keras.layers import AdditiveAttention\n",
    "\n",
    "# 어텐션 층(어텐션 함수)\n",
    "attn_layer = AdditiveAttention(name='attention_layer')\n",
    "\n",
    "# 인코더와 디코더의 모든 time step의 hidden state를 어텐션 층에 전달하고 결과를 리턴\n",
    "attn_out = attn_layer([decoder_outputs, encoder_outputs])\n",
    "\n",
    "\n",
    "# 어텐션의 결과와 디코더의 hidden state들을 연결\n",
    "decoder_concat_input = Concatenate(axis=-1, name='concat_layer')([decoder_outputs, attn_out])\n",
    "\n",
    "# 디코더의 출력층\n",
    "decoder_softmax_layer = Dense(tar_vocab, activation='softmax')\n",
    "decoder_softmax_outputs = decoder_softmax_layer(decoder_concat_input)\n",
    "\n",
    "# 모델 정의\n",
    "model = Model([encoder_inputs, decoder_inputs], decoder_softmax_outputs)\n",
    "model.summary()"
   ]
  },
  {
   "cell_type": "markdown",
   "id": "10700d2d",
   "metadata": {},
   "source": [
    "# 3. 모델 훈련하기"
   ]
  },
  {
   "cell_type": "code",
   "execution_count": 40,
   "id": "0b40120e",
   "metadata": {},
   "outputs": [
    {
     "name": "stdout",
     "output_type": "stream",
     "text": [
      "Epoch 1/50\n",
      "85/85 [==============================] - 67s 683ms/step - loss: 4.9309 - val_loss: 4.5143\n",
      "Epoch 2/50\n",
      "85/85 [==============================] - 56s 661ms/step - loss: 4.5366 - val_loss: 4.3493\n",
      "Epoch 3/50\n",
      "85/85 [==============================] - 56s 663ms/step - loss: 4.3529 - val_loss: 4.2171\n",
      "Epoch 4/50\n",
      "85/85 [==============================] - 56s 661ms/step - loss: 4.1800 - val_loss: 4.0625\n",
      "Epoch 5/50\n",
      "85/85 [==============================] - 56s 659ms/step - loss: 4.0331 - val_loss: 3.9766\n",
      "Epoch 6/50\n",
      "85/85 [==============================] - 56s 664ms/step - loss: 3.9071 - val_loss: 3.8840\n",
      "Epoch 7/50\n",
      "85/85 [==============================] - 56s 664ms/step - loss: 3.7825 - val_loss: 3.7865\n",
      "Epoch 8/50\n",
      "85/85 [==============================] - 56s 660ms/step - loss: 3.6548 - val_loss: 3.6791\n",
      "Epoch 9/50\n",
      "85/85 [==============================] - 56s 664ms/step - loss: 3.5363 - val_loss: 3.6055\n",
      "Epoch 10/50\n",
      "85/85 [==============================] - 56s 655ms/step - loss: 3.4286 - val_loss: 3.5485\n",
      "Epoch 11/50\n",
      "85/85 [==============================] - 56s 660ms/step - loss: 3.3347 - val_loss: 3.5078\n",
      "Epoch 12/50\n",
      "85/85 [==============================] - 56s 657ms/step - loss: 3.2508 - val_loss: 3.4795\n",
      "Epoch 13/50\n",
      "85/85 [==============================] - 56s 656ms/step - loss: 3.1707 - val_loss: 3.4475\n",
      "Epoch 14/50\n",
      "85/85 [==============================] - 56s 659ms/step - loss: 3.0969 - val_loss: 3.4162\n",
      "Epoch 15/50\n",
      "85/85 [==============================] - 56s 656ms/step - loss: 3.0268 - val_loss: 3.4105\n",
      "Epoch 16/50\n",
      "85/85 [==============================] - 56s 655ms/step - loss: 2.9604 - val_loss: 3.3833\n",
      "Epoch 17/50\n",
      "85/85 [==============================] - 56s 660ms/step - loss: 2.8942 - val_loss: 3.3672\n",
      "Epoch 18/50\n",
      "85/85 [==============================] - 56s 654ms/step - loss: 2.8327 - val_loss: 3.3445\n",
      "Epoch 19/50\n",
      "85/85 [==============================] - 56s 653ms/step - loss: 2.7710 - val_loss: 3.3329\n",
      "Epoch 20/50\n",
      "85/85 [==============================] - 56s 656ms/step - loss: 2.7141 - val_loss: 3.3334\n",
      "Epoch 21/50\n",
      "85/85 [==============================] - 55s 651ms/step - loss: 2.6574 - val_loss: 3.3195\n",
      "Epoch 22/50\n",
      "85/85 [==============================] - 56s 658ms/step - loss: 2.6032 - val_loss: 3.3146\n",
      "Epoch 23/50\n",
      "85/85 [==============================] - 56s 655ms/step - loss: 2.5507 - val_loss: 3.3143\n",
      "Epoch 24/50\n",
      "85/85 [==============================] - 55s 653ms/step - loss: 2.4992 - val_loss: 3.3215\n",
      "Epoch 25/50\n",
      "85/85 [==============================] - 55s 652ms/step - loss: 2.4497 - val_loss: 3.3207\n",
      "Epoch 00025: early stopping\n"
     ]
    }
   ],
   "source": [
    "model.compile(optimizer='rmsprop', loss='sparse_categorical_crossentropy')\n",
    "es = EarlyStopping(monitor='val_loss', patience=2, verbose=1)\n",
    "history = model.fit(x=[encoder_input_train, decoder_input_train], y=decoder_target_train, \\\n",
    "          validation_data=([encoder_input_test, decoder_input_test], decoder_target_test), \\\n",
    "          batch_size=256, callbacks=[es], epochs=50)"
   ]
  },
  {
   "cell_type": "code",
   "execution_count": 41,
   "id": "fa92c62b",
   "metadata": {},
   "outputs": [
    {
     "data": {
      "image/png": "[encoded data removed]",
      "text/plain": [
       "<Figure size 432x288 with 1 Axes>"
      ]
     },
     "metadata": {
      "needs_background": "light"
     },
     "output_type": "display_data"
    }
   ],
   "source": [
    "# 손실 그래프 시각화\n",
    "plt.plot(history.history['loss'], label='train')\n",
    "plt.plot(history.history['val_loss'], label='test')\n",
    "plt.legend()\n",
    "plt.show()"
   ]
  },
  {
   "cell_type": "markdown",
   "id": "773e8dd2",
   "metadata": {},
   "source": [
    "# 4. 인퍼런스 모델 구현"
   ]
  },
  {
   "cell_type": "code",
   "execution_count": 42,
   "id": "65981dfe",
   "metadata": {},
   "outputs": [
    {
     "name": "stdout",
     "output_type": "stream",
     "text": [
      "=3\n"
     ]
    }
   ],
   "source": [
    "src_index_to_word = src_tokenizer.index_word # 원문 단어 집합에서 정수 -> 단어를 얻음\n",
    "tar_word_to_index = tar_tokenizer.word_index # 요약 단어 집합에서 단어 -> 정수를 얻음\n",
    "tar_index_to_word = tar_tokenizer.index_word # 요약 단어 집합에서 정수 -> 단어를 얻음\n",
    "\n",
    "print('=3')"
   ]
  },
  {
   "cell_type": "code",
   "execution_count": 43,
   "id": "32a3db62",
   "metadata": {},
   "outputs": [
    {
     "name": "stdout",
     "output_type": "stream",
     "text": [
      "=3\n"
     ]
    }
   ],
   "source": [
    "# 인코더 설계\n",
    "encoder_model = Model(inputs=encoder_inputs, outputs=[encoder_outputs, state_h, state_c])\n",
    "\n",
    "# 이전 시점의 상태들을 저장하는 텐서\n",
    "decoder_state_input_h = Input(shape=(hidden_size,))\n",
    "decoder_state_input_c = Input(shape=(hidden_size,))\n",
    "\n",
    "dec_emb2 = dec_emb_layer(decoder_inputs)\n",
    "\n",
    "# 문장의 다음 단어를 예측하기 위해서 초기 상태(initial_state)를 이전 시점의 상태로 사용. 이는 뒤의 함수 decode_sequence()에 구현\n",
    "# 훈련 과정에서와 달리 LSTM의 리턴하는 은닉 상태와 셀 상태인 state_h와 state_c를 버리지 않음.\n",
    "decoder_outputs2, state_h2, state_c2 = decoder_lstm(dec_emb2, initial_state=[decoder_state_input_h, decoder_state_input_c])\n",
    "\n",
    "print('=3')"
   ]
  },
  {
   "cell_type": "code",
   "execution_count": 44,
   "id": "770bb76e",
   "metadata": {},
   "outputs": [
    {
     "name": "stdout",
     "output_type": "stream",
     "text": [
      "=3\n"
     ]
    }
   ],
   "source": [
    "# 어텐션 함수\n",
    "decoder_hidden_state_input = Input(shape=(text_max_len, hidden_size))\n",
    "attn_out_inf = attn_layer([decoder_outputs2, decoder_hidden_state_input])\n",
    "decoder_inf_concat = Concatenate(axis=-1, name='concat')([decoder_outputs2, attn_out_inf])\n",
    "\n",
    "# 디코더의 출력층\n",
    "decoder_outputs2 = decoder_softmax_layer(decoder_inf_concat) \n",
    "\n",
    "# 최종 디코더 모델\n",
    "decoder_model = Model(\n",
    "    [decoder_inputs] + [decoder_hidden_state_input,decoder_state_input_h, decoder_state_input_c],\n",
    "    [decoder_outputs2] + [state_h2, state_c2])\n",
    "\n",
    "print('=3')"
   ]
  },
  {
   "cell_type": "code",
   "execution_count": 45,
   "id": "5f608542",
   "metadata": {},
   "outputs": [
    {
     "name": "stdout",
     "output_type": "stream",
     "text": [
      "=3\n"
     ]
    }
   ],
   "source": [
    "def decode_sequence(input_seq):\n",
    "    # 입력으로부터 인코더의 상태를 얻음\n",
    "    e_out, e_h, e_c = encoder_model.predict(input_seq)\n",
    "\n",
    "     # <SOS>에 해당하는 토큰 생성\n",
    "    target_seq = np.zeros((1,1))\n",
    "    target_seq[0, 0] = tar_word_to_index['sostoken']\n",
    "\n",
    "    stop_condition = False\n",
    "    decoded_sentence = ''\n",
    "    while not stop_condition: # stop_condition이 True가 될 때까지 루프 반복\n",
    "\n",
    "        output_tokens, h, c = decoder_model.predict([target_seq] + [e_out, e_h, e_c])\n",
    "        sampled_token_index = np.argmax(output_tokens[0, -1, :])\n",
    "        sampled_token = tar_index_to_word[sampled_token_index]\n",
    "\n",
    "        if (sampled_token!='eostoken'):\n",
    "            decoded_sentence += ' '+sampled_token\n",
    "\n",
    "        #  <eos>에 도달하거나 최대 길이를 넘으면 중단.\n",
    "        if (sampled_token == 'eostoken'  or len(decoded_sentence.split()) >= (headlines_max_len-1)):\n",
    "            stop_condition = True\n",
    "\n",
    "        # 길이가 1인 타겟 시퀀스를 업데이트\n",
    "        target_seq = np.zeros((1,1))\n",
    "        target_seq[0, 0] = sampled_token_index\n",
    "\n",
    "        # 상태를 업데이트 합니다.\n",
    "        e_h, e_c = h, c\n",
    "\n",
    "    return decoded_sentence\n",
    "print('=3')"
   ]
  },
  {
   "cell_type": "markdown",
   "id": "3b7f8965",
   "metadata": {},
   "source": [
    "# 5. 모델 테스트하기"
   ]
  },
  {
   "cell_type": "code",
   "execution_count": 46,
   "id": "73408f91",
   "metadata": {},
   "outputs": [
    {
     "name": "stdout",
     "output_type": "stream",
     "text": [
      "=3\n"
     ]
    }
   ],
   "source": [
    "# 원문의 정수 시퀀스를 텍스트 시퀀스로 변환\n",
    "def seq2text(input_seq):\n",
    "    temp=''\n",
    "    for i in input_seq:\n",
    "        if (i!=0):\n",
    "            temp = temp + src_index_to_word[i]+' '\n",
    "    return temp\n",
    "\n",
    "# 요약문의 정수 시퀀스를 텍스트 시퀀스로 변환\n",
    "def seq2summary(input_seq):\n",
    "    temp=''\n",
    "    for i in input_seq:\n",
    "        if ((i!=0 and i!=tar_word_to_index['sostoken']) and i!=tar_word_to_index['eostoken']):\n",
    "            temp = temp + tar_index_to_word[i] + ' '\n",
    "    return temp\n",
    "\n",
    "print('=3')"
   ]
  },
  {
   "cell_type": "code",
   "execution_count": 47,
   "id": "80d7280d",
   "metadata": {},
   "outputs": [
    {
     "name": "stdout",
     "output_type": "stream",
     "text": [
      "원문 : prashant bhardwaj lost municipal corporation gurugram polls alleged irregularities counting votes led defeat stating appeal denied said move court produce corruption polling counting elections every level bhardwaj added \n",
      "실제 요약 : election candidates in vote \n",
      "예측 요약 :  mayor of presidential presidential election\n",
      "\n",
      "\n",
      "원문 : facebook friday launched service united states users order food get delivered using facebook app website feature allows users nearby restaurants visiting order food section facebook explore menu social media giant partnered food ordering services like delivery com \n",
      "실제 요약 : facebook launches food delivery service in us \n",
      "예측 요약 :  facebook launches app for users\n",
      "\n",
      "\n",
      "원문 : denying union law minister ravi shankar prasad allegations congress spokesperson randeep surjewala wednesday said party never hired facebook data scandal linked company cambridge analytica firm website states conducted depth analysis bjp jd bihar assembly election added also slammed law minister spreading lies \n",
      "실제 요약 : never facebook data scandal linked firm congress \n",
      "예측 요약 :  former sabha quits as chief\n",
      "\n",
      "\n",
      "원문 : china become world valuable liquor market valuation billion brand owner shares surged past year twice gain london based sales take place domestic market \n",
      "실제 요약 : china becomes world most liquor company \n",
      "예측 요약 :  becomes biggest billion in years\n",
      "\n",
      "\n",
      "원문 : hollywood producer harvey weinstein denied sexual harassment allegations actress earlier revealed two decades ago weinstein invited hotel room asked would watch shower per recent reports weinstein also reached private least eight women accusations sexual misconduct \n",
      "실제 요약 : producer denies sexual harassment claim by actress \n",
      "예측 요약 :  weinstein weinstein weinstein to weinstein\n",
      "\n",
      "\n",
      "원문 : income tax department monday conducted raids premises group one main road contractors tamil nadu raids carried reportedly across locations tip alleged tax evasion crore seized properties belonging group md also come search tax officials \n",
      "실제 요약 : at tamil nadu based road \n",
      "예측 요약 :  maharashtra govt to crore\n",
      "\n",
      "\n",
      "원문 : fake images claiming violence rohingya muslims myanmar shared social media unrest work human rights groups activists said violence erupted attack myanmar security forces allegedly rohingya militants killed people since october last year \n",
      "실제 요약 : fake news images rohingya violence activists \n",
      "예측 요약 :  rohingya rohingya rohingya rohingya rohingya rohingya rohingya\n",
      "\n",
      "\n",
      "원문 : kerala government foot bill transgenders willing undergo sex change operations cm pinarayi vijayan announced amount lakh hospital expenses already undergone surgeries also apply earlier tamil nadu announced free sex change surgeries government hospitals transgenders \n",
      "실제 요약 : kerala offers free sex change operations to transgenders \n",
      "예측 요약 :  kerala approves pay for liquor\n",
      "\n",
      "\n",
      "원문 : indian army soldier martyred another critically injured following ceasefire violation pakistani troops along loc jammu kashmir monday martyred soldier naik km survived wife defence ministry said nation always remain supreme duty \n",
      "실제 요약 : soldier martyred in ceasefire by pakistan in \n",
      "예측 요약 :  army kills pakistani soldiers in\n",
      "\n",
      "\n",
      "원문 : actor aamir khan said politics adding feel lot contribute staying creative field talking sharing important issues aamir said think giving opinion matters continue say feel \n",
      "실제 요약 : politics is not for me aamir khan \n",
      "예측 요약 :  have not have been akshay kumar\n",
      "\n",
      "\n",
      "원문 : television actor karan slammed trolls shaming girlfriend picture shared responding female user derogatory comment picture wrote come tell girlfriend go teach father brothers friends respect woman \n",
      "실제 요약 : slams trolls for girlfriend \n",
      "예측 요약 :  actress shares picture with her\n",
      "\n",
      "\n",
      "원문 : ratan tata backed mumbai based cannabis research startup bombay company raised crore hong kong based textile company international limited mukhtar food founded startup last raised crore seed round claimed india first startup studying medical use cannabis cannabis studies properties \n",
      "실제 요약 : tata backed research startup raises funds \n",
      "예측 요약 :  bengaluru based startup raises crore\n",
      "\n",
      "\n",
      "원문 : restaurant mumbai allegedly vandalised wednesday group people demanding ban sale workers social organisation caught camera breaking things asking staff stop serving comes inquiry revealed fire caused served \n",
      "실제 요약 : mumbai restaurant by people demanding ban \n",
      "예측 요약 :  bengaluru to get public\n",
      "\n",
      "\n",
      "원문 : state bank india filed complaint cbi alleging chennai based jewellery chain gold banks crore sbi lead bank consortium first declare account fraudulent november owner jain admitted records since according complaint \n",
      "실제 요약 : jewellery chain gold banks of crore \n",
      "예측 요약 :  bank files insolvency against india\n",
      "\n",
      "\n",
      "원문 : actress deepika padukone talking rumoured boyfriend ranveer singh said ranveer world honest feedback actress added said cannot think actor would brought kind khilji \n",
      "실제 요약 : am very about ranveer deepika padukone \n",
      "예측 요약 :  deepika padukone to have deepika\n",
      "\n",
      "\n",
      "원문 : least six militants killed encounter jammu kashmir pulwama district saturday police said security forces launched search operation village pulwama district encounter militants fired upon security forces also recovered arms ammunition site \n",
      "실제 요약 : militants killed in encounter in \n",
      "예측 요약 :  militants killed in encounter in\n",
      "\n",
      "\n",
      "원문 : congress leader chidambaram claimed lack policy suggests government confused regarding air india neither joint venture arrangement cannot succeed selling stake air india added notably government received zero loss making airline \n",
      "실제 요약 : centre very about air india claims chidambaram \n",
      "예측 요약 :  pm modi inaugurates india growth by\n",
      "\n",
      "\n",
      "원문 : least cows died lack proper care cow shelter run bjp leader verma chhattisgarh village reports said verma running shelter past seven years arrested police friday however district authorities confirmed related deaths far \n",
      "실제 요약 : die in chhattisgarh bjp leader cow \n",
      "예측 요약 :  statue in violence\n",
      "\n",
      "\n",
      "원문 : christian couple tuesday indonesia province playing children game considered anti islamic adding creates effect officials said front public happen notably province muslim majority indonesia law \n",
      "실제 요약 : in indonesia over anti islamic game \n",
      "예측 요약 :  photographer of in sweden\n",
      "\n",
      "\n",
      "원문 : national family health survey conducted revealed number women consuming alcohol kerala increased previous decade number women consume alcohol across india decreased number kerala men consuming alcohol declined \n",
      "실제 요약 : increase in kerala women alcohol health survey \n",
      "예측 요약 :  in maharashtra hospital\n",
      "\n",
      "\n",
      "원문 : song titled na taapsee pannu starrer released vocals guru mohan song composed rajat film scheduled release february also stars former actresses singh \n",
      "실제 요약 : song from taapsee released \n",
      "예측 요약 :  song from released\n",
      "\n",
      "\n",
      "원문 : year saw shuttler kidambi srikanth become first indian win four superseries titles calendar year indian men women hockey teams secured asia cup titles indian women ice hockey team registered first ever international victory indian men football team lose single match \n",
      "실제 요약 : what were india top in sports in \n",
      "예측 요약 :  india srikanth helps india series series\n",
      "\n",
      "\n",
      "원문 : boy went missing delhi age three reunited family wednesday six years boy traced punjab living family boy father police visited receiving tip identified facial features \n",
      "실제 요약 : delhi boy missing for years with family \n",
      "예측 요약 :  hospital after\n",
      "\n",
      "\n",
      "원문 : pakistan granted least indian last five years pakistani interior ministry said saturday claiming pakistan country getting always difficult task ministry said illegal immigrants many countries especially india afghanistan bangladesh living country \n",
      "실제 요약 : pakistan granted to indians in years \n",
      "예측 요약 :  pakistan to pakistan to\n",
      "\n",
      "\n",
      "원문 : mercedes british formula one driver lewis registered formula one career th canadian grand prix title sunday registered th race win canadian grand prix title finished ahead teammate cut ferrari driver lead drivers championship points \n",
      "실제 요약 : registers th canadian title \n",
      "예측 요약 :  yr old becomes first player in\n",
      "\n",
      "\n",
      "원문 : west bengal chief minister mamata banerjee said bjp nominated someone like advani sushma swaraj presidential elections instead ram nath kovind saying bihar governor ram nath kovind president candidate someone country added \n",
      "실제 요약 : swaraj should have been presidential mamata \n"
     ]
    },
    {
     "name": "stdout",
     "output_type": "stream",
     "text": [
      "예측 요약 :  opposition elected to elections in elections\n",
      "\n",
      "\n",
      "원문 : flipkart ebay india deal part billion according reports comes recent reports claimed flipkart closed billion funding microsoft tencent ebay plans raise billion interestingly ebay small investor flipkart rival snapdeal \n",
      "실제 요약 : flipkart to india operations reports \n",
      "예측 요약 :  flipkart may invest billion in flipkart report\n",
      "\n",
      "\n",
      "원문 : per survey conducted world water council indians believe standard drinking water india improved last five years think mr modi much concerned water sanitation issues even appointed special secretary deal ganga river said president \n",
      "실제 요약 : water have in india \n",
      "예측 요약 :  india first ever airline\n",
      "\n",
      "\n",
      "원문 : dharmendra said shooting knew film even script anything ready made franchise sequel added dharmendra said enjoy shooting film \n",
      "실제 요약 : was \n",
      "예측 요약 :  to be in\n",
      "\n",
      "\n",
      "원문 : indian railways earned additional revenue crore less year fare scheme scheme applicable rajdhani launched september fare increases every seats sold official said additional passengers added plan \n",
      "실제 요약 : railways earned crore through scheme \n",
      "예측 요약 :  railways to crore in fy\n",
      "\n",
      "\n",
      "원문 : national conference chief farooq abdullah threatened party boycott assembly lok sabha elections centre clear position article earlier threatened boycott upcoming panchayat elections citing concern supreme court currently hearing petitions challenging constitutional validity article \n",
      "실제 요약 : threatens of election over \n",
      "예측 요약 :  parties elected for election\n",
      "\n",
      "\n",
      "원문 : us multi state lottery association ex security director brother guilty hot lottery win crore admitted using malware hack lottery computers five us states generate winning lottery numbers however brothers never received amount security officials alerted scam \n",
      "실제 요약 : us brothers hacked lottery to win over crore \n",
      "예측 요약 :  us couple earns crore in us\n",
      "\n",
      "\n",
      "원문 : england middle order batsman revealed almost started crying slamming maiden test ton australia third ashes test thursday amount old man mother made nice repay added one name players mocked england first landed australia october \n",
      "실제 요약 : almost started england on century \n",
      "예측 요약 :  england test test to test test\n",
      "\n",
      "\n",
      "원문 : uttarakhand chief minister singh rawat friday demanded one time assistance crore centre organising fair around crore people expected event haridwar rawat said fair completed october added \n",
      "실제 요약 : khand govt demands crore from centre for \n",
      "예측 요약 :  crore in karnataka\n",
      "\n",
      "\n",
      "원문 : following passing away former prime minister atal bihari vajpayee congress mp shashi tharoor tribute wrote humanity added late pm great even meanwhile lok sabha speaker mahajan said atal ji like star sky politics \n",
      "실제 요약 : set pm vajpayee shashi tharoor \n",
      "예측 요약 :  tharoor calls pm modi\n",
      "\n",
      "\n",
      "원문 : interview us journalist russian president vladimir putin denied country material us president donald trump dismissed reports putin said earlier relationship trump never met published earlier year alleged russia information trump \n",
      "실제 요약 : putin denies on donald trump \n",
      "예측 요약 :  putin to trump putin to\n",
      "\n",
      "\n",
      "원문 : unique identification authority india monday announced introduction face authentication feature aadhaar users july feature help elderly others facing issues fingerprint authentication uidai said feature must combined either fingerprint scan successful authentication aadhaar number \n",
      "실제 요약 : aadhaar users to be using face \n",
      "예측 요약 :  aadhaar among best for\n",
      "\n",
      "\n",
      "원문 : maharashtra government panel recommended introducing new class small taxis cities million plus population mumbai metropolitan region cities city taxi service currently taxis engine capacity could provide comfortable affordable commuters compared existing taxis panel said \n",
      "실제 요약 : govt panel in maharashtra cities \n",
      "예측 요약 :  maharashtra to get for\n",
      "\n",
      "\n",
      "원문 : education technology startup raised crore brussels based family firm valuation million september raised million round led facebook co founder mark zuckerberg wife zuckerberg initiative founded far raised nearly million \n",
      "실제 요약 : startup raises crore from \n",
      "예측 요약 :  raises crore from others\n",
      "\n",
      "\n",
      "원문 : least people died seven others injured boat tourists capsized us state thursday people board missing accounted bodies deceased recovered table rock lake \n",
      "실제 요약 : dead as boat tourists in us \n",
      "예측 요약 :  killed injured in explosion accident in\n",
      "\n",
      "\n",
      "원문 : aviation regulator dgca asked airlines opinion regarding proposal make passengers observe seconds silence flight carrying remains martyred military personnel proposal came armed forces dgca forwarded draft announcement meanwhile government officials said proposal may accepted \n",
      "실제 요약 : proposed on planes carrying bodies \n",
      "예측 요약 :  indigo to aircraft in\n",
      "\n",
      "\n",
      "원문 : death toll floods landslides hit sri lanka friday risen people missing others injured reports said believed country worst rains since displaced nearly five lakh people sri lanka sought international assistance india first country respond \n",
      "실제 요약 : death toll from sri lanka floods rises to \n",
      "예측 요약 :  death toll rises to death rises to\n",
      "\n",
      "\n",
      "원문 : indian railways announced people pay tickets receiving tickets booked indian railway catering tourism corporation website option home delivery tickets paid using cash debit card credit card time delivery \n",
      "실제 요약 : railways announces cash on delivery for \n",
      "예측 요약 :  railways to introduce for\n",
      "\n",
      "\n",
      "원문 : federal judge saturday partially blocked us president donald trump move suspend family programme refugees judge ruled trump administration cannot block entry refugees eleven security advisory opinion nations relationship person entity united states \n",
      "실제 요약 : us judge trump ban \n",
      "예측 요약 :  trump orders of us election\n",
      "\n",
      "\n",
      "원문 : members cow group stabbed student multiple times protest consumption beef haryana members thought journalist holding camera asked click pictures protest refused following followed stabbed chest stomach \n",
      "실제 요약 : mistake student for journalist him \n",
      "예측 요약 :  women in uk\n",
      "\n",
      "\n",
      "원문 : four japanese basketball players sent home asian games allegedly paying sex japanese olympic committee said players spotted red light district national last week decide appropriate punishment players heard facts japan basketball chief said \n",
      "실제 요약 : japanese athletes from for \n",
      "예측 요약 :  australian football passes away at\n",
      "\n",
      "\n",
      "원문 : technology giant apple removed games philippine president rodrigo duterte war drugs comes organisations including human rights groups drug rehabilitation centres wrote letter urging apple ceo tim cook remove games nearly people killed duterte war drugs \n",
      "실제 요약 : apple removes games on philippine president drug war \n",
      "예측 요약 :  apple to users users\n",
      "\n",
      "\n",
      "원문 : russia electoral body barred country opposition leader challenging president vladimir putin next year presidential elections eligible currently serving five year suspended sentence body said people convicted crimes cannot stand public office years sentence ends added \n",
      "실제 요약 : russia bars opposition leader from presidential bid \n",
      "예측 요약 :  trump declares anti election\n",
      "\n",
      "\n",
      "원문 : government gst collection rose crore july compared crore previous month compliance improved month lakh returns filed july compared lakh returns june july revenue collection june sales reflect latest tax cuts came effect last week \n",
      "실제 요약 : government gst collection rises to crore in july \n",
      "예측 요약 :  gst collection tax in aadhaar\n",
      "\n",
      "\n",
      "원문 : us job salary website announced acquired japanese human resources company recruit holdings billion currently data lakh companies located countries includes million reviews also provides solutions employers including fortune companies \n",
      "실제 요약 : us job site for billion \n",
      "예측 요약 :  cryptocurrency firm exchange by billion in\n",
      "\n",
      "\n"
     ]
    }
   ],
   "source": [
    "for i in range(50, 100):\n",
    "    print(\"원문 :\", seq2text(encoder_input_test[i]))\n",
    "    print(\"실제 요약 :\", seq2summary(decoder_input_test[i]))\n",
    "    print(\"예측 요약 :\", decode_sequence(encoder_input_test[i].reshape(1, text_max_len)))\n",
    "    print(\"\\n\")"
   ]
  },
  {
   "cell_type": "markdown",
   "id": "c3cde3bc",
   "metadata": {},
   "source": [
    "# 6. 추출적 요약"
   ]
  },
  {
   "cell_type": "markdown",
   "id": "f668ef9e",
   "metadata": {},
   "source": [
    "### 데이터 다운로드하기"
   ]
  },
  {
   "cell_type": "code",
   "execution_count": 48,
   "id": "21e0f049",
   "metadata": {},
   "outputs": [],
   "source": [
    "from summa.summarizer import summarize"
   ]
  },
  {
   "cell_type": "code",
   "execution_count": 57,
   "id": "4bc0797c",
   "metadata": {},
   "outputs": [],
   "source": [
    "text = str(clean_text)"
   ]
  },
  {
   "cell_type": "code",
   "execution_count": 58,
   "id": "ff0b34a1",
   "metadata": {},
   "outputs": [
    {
     "name": "stdout",
     "output_type": "stream",
     "text": [
      "['saurav kant alumnus upgrad iiit pg program machine learning artificial intelligence sr systems engineer infosys almost years work experience program upgrad degree career support helped transition data scientist tech mahindra salary hike upgrad online power learning powered lakh careers', 'kunal shah credit card bill payment platform cred gave users chance win free food swiggy one year pranav kaushik delhi techie bagged reward spending cred coins users get one cred coin per rupee bill paid used avail rewards brands like ixigo bookmyshow ubereats cult fit', 'new zealand defeated india wickets fourth odi hamilton thursday win first match five match odi series india lost international match rohit sharma captaincy consecutive victories dating back march match witnessed india getting seventh lowest total odi cricket history', 'aegon life iterm insurance plan customers enjoy tax benefits premiums paid save taxes plan provides life cover age years also customers options insure critical illnesses disability accidental death benefit rider life cover age years', 'speaking sexual harassment allegations rajkumar hirani sonam kapoor said known hirani many years true metoo movement get derailed metoo movement always believe woman case need reserve judgment added hirani accused assistant worked sanju', 'pakistani singer rahat fateh ali khan denied receiving notice enforcement directorate allegedly smuggling foreign currency india would better authorities would served notice first publicise\n"
     ]
    }
   ],
   "source": [
    "print(text[:1500])"
   ]
  },
  {
   "cell_type": "markdown",
   "id": "bd6ac50b",
   "metadata": {},
   "source": [
    "###  summarize 사용하기"
   ]
  },
  {
   "cell_type": "code",
   "execution_count": 62,
   "id": "311377e5",
   "metadata": {},
   "outputs": [
    {
     "name": "stdout",
     "output_type": "stream",
     "text": [
      "Summary:\n",
      "[]\n"
     ]
    }
   ],
   "source": [
    "print('Summary:')\n",
    "print(summarize(text, ratio=0.01, split=True))"
   ]
  },
  {
   "cell_type": "code",
   "execution_count": 63,
   "id": "c570ff10",
   "metadata": {},
   "outputs": [
    {
     "name": "stdout",
     "output_type": "stream",
     "text": [
      "Summary:\n",
      "\n"
     ]
    }
   ],
   "source": [
    "print('Summary:')\n",
    "print(summarize(text, words=10))"
   ]
  },
  {
   "cell_type": "markdown",
   "id": "104aec6b",
   "metadata": {},
   "source": [
    "# 7. 회고"
   ]
  },
  {
   "cell_type": "markdown",
   "id": "f1169716",
   "metadata": {},
   "source": [
    "(1) 분석단계, 정제단계, 정규화와 불용어 제거, 데이터셋 분리, 인코딩 과정이 빠짐없이 체계적으로 진행되었다. - exp8 노드에서 제공해주는 기본적인 구조를 바탕으로 하되, 기존의 데이터에서 Test, summary에 해당하는 코드는 test와 headlines로 이름을 바꾸어 모델을 훈련시켰습니다."
   ]
  },
  {
   "cell_type": "markdown",
   "id": "a594a82d",
   "metadata": {},
   "source": [
    "(2) 텍스트 요약모델이 성공적으로 학습되었음을 확인하기 - 손실그래프를 그려 조기 종료가 잘 이루어졌는지를 확인해본 결과, test세트에 대한 손실이 점차 감소하다가 정체되기 시작하고, train 세트에 대한 손실은 점점 더 낮아짐을 볼 수 있습니다. 이 그래프를 기반으로 23번째 에포크를 최적으로 생각할 수 있습니다. 그리고 셀 47번의 출력을 보면, 예측요약이 얼핏 같은 단어가 중복해서 나오는 등 어색한 부분이 꽤 보이긴 하지만 원문 및 실제 요약과 비교해보면, 얼추 비슷한 내용이 나오는 것을 확인할 수 있습니다."
   ]
  },
  {
   "cell_type": "markdown",
   "id": "c0191134",
   "metadata": {},
   "source": [
    "(3) summarize는 test매개변수에 유니코드 객체(str)를 인자로 받으므로,\n",
    "정수화를 하기 전 원문의 형태를 가지고 있는 clean_text 변수에 저장한 리스트 타입의 데이터를 셀 53번에서 str으로 변환해주었습니다.\n",
    "그러나 막상 셀 55번, 56번에서 summarize를 사용하니 제대로 된 출력결과가 나오지 않았습니다.\n",
    "54번 셀에서는 문자열이 출력되었는데, 어떤 이유에서인지 문장이 제대로 출력되지 않는 것인지 잘 모르겠습니다. (ㅠㅠ)"
   ]
  }
 ],
 "metadata": {
  "kernelspec": {
   "display_name": "Python 3 (ipykernel)",
   "language": "python",
   "name": "python3"
  },
  "language_info": {
   "codemirror_mode": {
    "name": "ipython",
    "version": 3
   },
   "file_extension": ".py",
   "mimetype": "text/x-python",
   "name": "python",
   "nbconvert_exporter": "python",
   "pygments_lexer": "ipython3",
   "version": "3.9.7"
  }
 },
 "nbformat": 4,
 "nbformat_minor": 5
}
